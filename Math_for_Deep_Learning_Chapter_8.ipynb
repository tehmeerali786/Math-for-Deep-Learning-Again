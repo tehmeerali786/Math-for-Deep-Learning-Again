{
  "nbformat": 4,
  "nbformat_minor": 0,
  "metadata": {
    "colab": {
      "provenance": []
    },
    "kernelspec": {
      "name": "python3",
      "display_name": "Python 3"
    },
    "language_info": {
      "name": "python"
    }
  },
  "cells": [
    {
      "cell_type": "markdown",
      "source": [
        "# Newton 1 Dimension"
      ],
      "metadata": {
        "id": "3GzAdYaViHM7"
      }
    },
    {
      "cell_type": "code",
      "execution_count": null,
      "metadata": {
        "id": "nrtna2RLiCOa"
      },
      "outputs": [],
      "source": [
        "import numpy as np"
      ]
    },
    {
      "cell_type": "code",
      "source": [
        "def f(x):\n",
        "  return 2.0 - x * x"
      ],
      "metadata": {
        "id": "_f7K8HGAibFj"
      },
      "execution_count": null,
      "outputs": []
    },
    {
      "cell_type": "code",
      "source": [
        "def d(x):\n",
        "  return -2.0 * x"
      ],
      "metadata": {
        "id": "MVKeO-epihLv"
      },
      "execution_count": null,
      "outputs": []
    },
    {
      "cell_type": "code",
      "source": [
        "x = 1.0"
      ],
      "metadata": {
        "id": "meHJhglIiurQ"
      },
      "execution_count": null,
      "outputs": []
    },
    {
      "cell_type": "code",
      "source": [
        "for i in range(5):\n",
        "  x = x - f(x)/d(x)\n",
        "  print(\"%2d: %0.16f\" % (i+1,x))"
      ],
      "metadata": {
        "colab": {
          "base_uri": "https://localhost:8080/"
        },
        "id": "6AqZrnVzixxg",
        "outputId": "6b54cc3a-0ba3-4895-daff-9197ea012177"
      },
      "execution_count": null,
      "outputs": [
        {
          "output_type": "stream",
          "name": "stdout",
          "text": [
            " 1: 1.5000000000000000\n",
            " 2: 1.4166666666666667\n",
            " 3: 1.4142156862745099\n",
            " 4: 1.4142135623746899\n",
            " 5: 1.4142135623730951\n"
          ]
        }
      ]
    },
    {
      "cell_type": "code",
      "source": [
        "print()\n",
        "print(\"NumPy says sqrt(2) = %0.16f for a deviation of %0.16f\" % (np.sqrt(2), np.abs(np.sqrt(2)-x)))\n",
        "print()"
      ],
      "metadata": {
        "colab": {
          "base_uri": "https://localhost:8080/"
        },
        "id": "KVkjGVbzkCrP",
        "outputId": "51767c11-0e35-4645-9159-a7a530cbf579"
      },
      "execution_count": null,
      "outputs": [
        {
          "output_type": "stream",
          "name": "stdout",
          "text": [
            "\n",
            "NumPy says sqrt(2) = 1.4142135623730951 for a deviation of 0.0000000000000000\n",
            "\n"
          ]
        }
      ]
    },
    {
      "cell_type": "markdown",
      "source": [
        "# Newton 2 Dimension and Inverse of Jacobian Matrix"
      ],
      "metadata": {
        "id": "dBT9g7AliwXd"
      }
    },
    {
      "cell_type": "markdown",
      "source": [
        "##**$A =  \\begin{pmatrix}\n",
        "  a & b\n",
        "  \\\\\n",
        "  c & d\n",
        " \\end{pmatrix}$**"
      ],
      "metadata": {
        "id": "WfqLHWzTk6Ke"
      }
    },
    {
      "cell_type": "markdown",
      "source": [
        "##**$A^{-1} = \\frac{1}{det(A)} \\begin{pmatrix}\n",
        "  d & -b\n",
        "  \\\\\n",
        "  -c & a\n",
        " \\end{pmatrix}$**"
      ],
      "metadata": {
        "id": "yi86dVOTi179"
      }
    },
    {
      "cell_type": "code",
      "source": [
        "import numpy as np\n",
        "\n",
        "def f(x):\n",
        "  x0, x1 = x[0, 0], x[1, 0]\n",
        "  return np.array([[4*x0 - 2*x0*x1], [2*x1 + x0*x1 - 2*x1**2]])"
      ],
      "metadata": {
        "id": "5JQ7BYZzlNaK"
      },
      "execution_count": null,
      "outputs": []
    },
    {
      "cell_type": "code",
      "source": [
        "def JI(x):\n",
        "  x0, x1 = x[0, 0], x[1, 0]\n",
        "  d = (4 - 2*x1) * (2 + x0 - 4*x1) + 2*x0*x1\n",
        "  return (1/d) * np.array([[2 + x0 - 4*x1, 2*x0], [-x1, 4 - 2*x0]])"
      ],
      "metadata": {
        "id": "TesVjZcEnvmF"
      },
      "execution_count": null,
      "outputs": []
    },
    {
      "cell_type": "code",
      "source": [
        "x0 = float(input(\"x0: \"))\n",
        "\n"
      ],
      "metadata": {
        "colab": {
          "base_uri": "https://localhost:8080/"
        },
        "id": "QAlp4BnUqvsj",
        "outputId": "de1f03d7-a957-4a4d-83db-6345b7af06d4"
      },
      "execution_count": null,
      "outputs": [
        {
          "name": "stdout",
          "output_type": "stream",
          "text": [
            "x0: 1.6\n"
          ]
        }
      ]
    },
    {
      "cell_type": "code",
      "source": [
        "x1 = float(input(\"x1: \"))"
      ],
      "metadata": {
        "colab": {
          "base_uri": "https://localhost:8080/"
        },
        "id": "hIzmZ92XteD1",
        "outputId": "c72301a6-08ec-4da7-c2d7-d57ef719ca45"
      },
      "execution_count": null,
      "outputs": [
        {
          "name": "stdout",
          "output_type": "stream",
          "text": [
            "x1: 1.8\n"
          ]
        }
      ]
    },
    {
      "cell_type": "code",
      "source": [
        "x = np.array([[x0], [x1]])"
      ],
      "metadata": {
        "id": "GP21I120tRp9"
      },
      "execution_count": null,
      "outputs": []
    },
    {
      "cell_type": "code",
      "source": [
        "N = 20\n",
        "for i in range(N):\n",
        "  x = x - JI(x) @ f(x)\n",
        "  if (i > (N-10)):\n",
        "    print(\"%4d: (%0.8f, %0.8f)\" % (i, x[0, 0], x[1, 0]))"
      ],
      "metadata": {
        "colab": {
          "base_uri": "https://localhost:8080/"
        },
        "id": "ip6MerKbth9u",
        "outputId": "15a3e5dc-96c9-4a51-9c84-dd7bfe655501"
      },
      "execution_count": null,
      "outputs": [
        {
          "output_type": "stream",
          "name": "stdout",
          "text": [
            "  11: (2.00000000, 2.00000000)\n",
            "  12: (2.00000000, 2.00000000)\n",
            "  13: (2.00000000, 2.00000000)\n",
            "  14: (2.00000000, 2.00000000)\n",
            "  15: (2.00000000, 2.00000000)\n",
            "  16: (2.00000000, 2.00000000)\n",
            "  17: (2.00000000, 2.00000000)\n",
            "  18: (2.00000000, 2.00000000)\n",
            "  19: (2.00000000, 2.00000000)\n"
          ]
        }
      ]
    },
    {
      "cell_type": "code",
      "source": [
        "print(x)"
      ],
      "metadata": {
        "colab": {
          "base_uri": "https://localhost:8080/"
        },
        "id": "wtsbmMw3wbU1",
        "outputId": "63be55c0-8273-4912-a4bd-0b89305aa93a"
      },
      "execution_count": null,
      "outputs": [
        {
          "output_type": "stream",
          "name": "stdout",
          "text": [
            "[[2.]\n",
            " [2.]]\n"
          ]
        }
      ]
    },
    {
      "cell_type": "markdown",
      "source": [
        "# EigenValues of Jacobian"
      ],
      "metadata": {
        "id": "xWgkEvNvzERW"
      }
    },
    {
      "cell_type": "code",
      "source": [
        "import numpy as np"
      ],
      "metadata": {
        "id": "P0Kbm9BVzC7I"
      },
      "execution_count": null,
      "outputs": []
    },
    {
      "cell_type": "code",
      "source": [
        "np.linalg.eig([[4, 0], [0, 2]])[0]"
      ],
      "metadata": {
        "colab": {
          "base_uri": "https://localhost:8080/"
        },
        "id": "UK9KxlQPxJjV",
        "outputId": "5a053b80-3972-4647-b81f-ddbc3eb4cdd2"
      },
      "execution_count": null,
      "outputs": [
        {
          "output_type": "execute_result",
          "data": {
            "text/plain": [
              "array([4., 2.])"
            ]
          },
          "metadata": {},
          "execution_count": 30
        }
      ]
    },
    {
      "cell_type": "code",
      "source": [
        "np.linalg.eig([[2, 0], [1, -2]])[0]"
      ],
      "metadata": {
        "colab": {
          "base_uri": "https://localhost:8080/"
        },
        "id": "IhowC-AyzYJQ",
        "outputId": "7c8c8ad7-f98e-4b5e-9434-583372f4673c"
      },
      "execution_count": null,
      "outputs": [
        {
          "output_type": "execute_result",
          "data": {
            "text/plain": [
              "array([-2.,  2.])"
            ]
          },
          "metadata": {},
          "execution_count": 31
        }
      ]
    },
    {
      "cell_type": "code",
      "source": [
        "np.linalg.eig([[0, -4], [2, -4]])[0]"
      ],
      "metadata": {
        "colab": {
          "base_uri": "https://localhost:8080/"
        },
        "id": "nX-bG8a1zgY_",
        "outputId": "1a4a9b58-4e0e-4eff-8fd6-80e9e9ba6f68"
      },
      "execution_count": null,
      "outputs": [
        {
          "output_type": "execute_result",
          "data": {
            "text/plain": [
              "array([-2.+2.j, -2.-2.j])"
            ]
          },
          "metadata": {},
          "execution_count": 32
        }
      ]
    },
    {
      "cell_type": "code",
      "source": [],
      "metadata": {
        "id": "8hM2s_6OzpNA"
      },
      "execution_count": null,
      "outputs": []
    }
  ]
}