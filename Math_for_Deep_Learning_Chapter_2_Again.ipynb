{
  "nbformat": 4,
  "nbformat_minor": 0,
  "metadata": {
    "colab": {
      "provenance": []
    },
    "kernelspec": {
      "name": "python3",
      "display_name": "Python 3"
    },
    "language_info": {
      "name": "python"
    }
  },
  "cells": [
    {
      "cell_type": "code",
      "execution_count": null,
      "metadata": {
        "id": "rUUb_f8NcoSy"
      },
      "outputs": [],
      "source": [
        "import numpy as np"
      ]
    },
    {
      "cell_type": "code",
      "source": [
        "N = 1000000"
      ],
      "metadata": {
        "id": "YjYqltIKRq-K"
      },
      "execution_count": null,
      "outputs": []
    },
    {
      "cell_type": "code",
      "source": [
        "M = 3"
      ],
      "metadata": {
        "id": "8j6Ko7L6Rvnm"
      },
      "execution_count": null,
      "outputs": []
    },
    {
      "cell_type": "code",
      "source": [
        "# Three coins flip. 3.75 percent it gets two head. 37.5 percent it gets one head.\n",
        "heads = np.zeros(M+1)\n",
        "for i in range(N):\n",
        "  flips = np.random.randint(0, 2, M)\n",
        "  h, _ = np.bincount(flips, minlength=2)\n",
        "  heads[h] = heads[h] + 1\n",
        "\n",
        "\n",
        "prob = heads / N\n",
        "print(\"Probabilities: %s\" % np.array2string(prob))"
      ],
      "metadata": {
        "colab": {
          "base_uri": "https://localhost:8080/"
        },
        "id": "0g-aFyT1RxB1",
        "outputId": "fadd54c4-f8e2-4a4f-dd2b-6760b5b373b7"
      },
      "execution_count": null,
      "outputs": [
        {
          "output_type": "stream",
          "name": "stdout",
          "text": [
            "Probabilities: [0.124915 0.375327 0.374755 0.125003]\n"
          ]
        }
      ]
    },
    {
      "cell_type": "markdown",
      "source": [
        "### Birthday Paradox"
      ],
      "metadata": {
        "id": "YCy_PIPfIj2x"
      }
    },
    {
      "cell_type": "code",
      "source": [
        "# Least combination we need to have less than 50% chance of not having birthday at same day.\n",
        "# So, having and not having birthday is exclusive. This means, more than having 50% to have a birthday together.\n",
        "for n in range(300):\n",
        "  if ((364/365)**n < 0.5):\n",
        "    print(n)\n",
        "    break\n"
      ],
      "metadata": {
        "colab": {
          "base_uri": "https://localhost:8080/"
        },
        "id": "k6LHSv9eVcD-",
        "outputId": "13df686a-3f99-4ed2-fc65-eaa82c99da3d"
      },
      "execution_count": null,
      "outputs": [
        {
          "output_type": "stream",
          "name": "stdout",
          "text": [
            "253\n"
          ]
        }
      ]
    },
    {
      "cell_type": "code",
      "source": [
        "import numpy as np"
      ],
      "metadata": {
        "id": "GD1VI_w9QyGx"
      },
      "execution_count": null,
      "outputs": []
    },
    {
      "cell_type": "code",
      "source": [
        "# Via simulation, onfirming probability of randomly picking up people who share the same birthday.\n",
        "match = 0\n",
        "for i in range(100000):\n",
        "  a = np.random.randint(0, 364)\n",
        "  b = np.random.randint(0, 364)\n",
        "  if (a == b):\n",
        "    match = match + 1\n",
        "\n",
        "print(\"Probability of a random match = %0.6f\" % (match/100000,))"
      ],
      "metadata": {
        "colab": {
          "base_uri": "https://localhost:8080/"
        },
        "id": "QxZkCXfgXQa8",
        "outputId": "eea68efe-8313-4349-8be9-ac7be895322a"
      },
      "execution_count": null,
      "outputs": [
        {
          "output_type": "stream",
          "name": "stdout",
          "text": [
            "Probability of a random match = 0.002450\n"
          ]
        }
      ]
    },
    {
      "cell_type": "code",
      "source": [
        "# Simulate people in a room, N test per M\n",
        "M = 30\n",
        "N = 100000\n",
        "matchesper_per_people = []\n",
        "\n",
        "for m in range(2, M+1):\n",
        "  matches = 0\n",
        "\n",
        "  for n in range(N):\n",
        "    match = 0\n",
        "    b = np.random.randint(0, 364, m)\n",
        "    for i in range(m):\n",
        "      for j in range(m):\n",
        "        if (i != j) and (b[i] == b[j]):\n",
        "          match = match + 1\n",
        "    if (match != 0):\n",
        "      matches = matches + 1\n",
        "  percent_of_matches = matches/N\n",
        "  matchesper_per_people.append(percent_of_matches)\n",
        "  print(\"%2d people: probability of at least one match %0.6f\" % (m, percent_of_matches))"
      ],
      "metadata": {
        "colab": {
          "base_uri": "https://localhost:8080/"
        },
        "id": "ubB2zyURQvdN",
        "outputId": "c275e5e1-e0d8-41bd-c215-cf6a4b4a5461"
      },
      "execution_count": null,
      "outputs": [
        {
          "output_type": "stream",
          "name": "stdout",
          "text": [
            " 2 people: probability of at least one match 0.002260\n",
            " 3 people: probability of at least one match 0.008410\n",
            " 4 people: probability of at least one match 0.016360\n",
            " 5 people: probability of at least one match 0.027420\n",
            " 6 people: probability of at least one match 0.041170\n",
            " 7 people: probability of at least one match 0.054740\n",
            " 8 people: probability of at least one match 0.074300\n",
            " 9 people: probability of at least one match 0.094150\n",
            "10 people: probability of at least one match 0.118910\n",
            "11 people: probability of at least one match 0.142090\n",
            "12 people: probability of at least one match 0.167460\n",
            "13 people: probability of at least one match 0.195720\n",
            "14 people: probability of at least one match 0.222810\n",
            "15 people: probability of at least one match 0.252960\n",
            "16 people: probability of at least one match 0.284010\n",
            "17 people: probability of at least one match 0.316720\n",
            "18 people: probability of at least one match 0.345050\n",
            "19 people: probability of at least one match 0.379660\n",
            "20 people: probability of at least one match 0.410900\n",
            "21 people: probability of at least one match 0.441060\n",
            "22 people: probability of at least one match 0.474350\n",
            "23 people: probability of at least one match 0.508170\n",
            "24 people: probability of at least one match 0.542410\n",
            "25 people: probability of at least one match 0.568880\n",
            "26 people: probability of at least one match 0.600650\n",
            "27 people: probability of at least one match 0.627240\n",
            "28 people: probability of at least one match 0.655550\n",
            "29 people: probability of at least one match 0.682120\n",
            "30 people: probability of at least one match 0.707640\n"
          ]
        }
      ]
    },
    {
      "cell_type": "code",
      "source": [
        "N_of_People = np.arange(2, M+1)"
      ],
      "metadata": {
        "id": "S1YQrlKoWzmY"
      },
      "execution_count": null,
      "outputs": []
    },
    {
      "cell_type": "code",
      "source": [
        "N_of_People"
      ],
      "metadata": {
        "colab": {
          "base_uri": "https://localhost:8080/"
        },
        "id": "ZKHS8iGTaEEu",
        "outputId": "dcc7dd47-a255-4f76-878a-a351a7f5ca89"
      },
      "execution_count": null,
      "outputs": [
        {
          "output_type": "execute_result",
          "data": {
            "text/plain": [
              "array([ 2,  3,  4,  5,  6,  7,  8,  9, 10, 11, 12, 13, 14, 15, 16, 17, 18,\n",
              "       19, 20, 21, 22, 23, 24, 25, 26, 27, 28, 29, 30])"
            ]
          },
          "metadata": {},
          "execution_count": 8
        }
      ]
    },
    {
      "cell_type": "code",
      "source": [
        "matchesper_per_people = [0.002260, 0.008410, 0.016360, 0.027420, 0.041170, 0.054740, 0.074300, 0.094150, 0.118910, 0.142090, 0.167460, 0.195720, 0.222810, 0.252960,\n",
        "                         0.284010, 0.316720, 0.345050, 0.379660, 0.410900, 0.441060, 0.474350, 0.508170, 0.542410, 0.568880, 0.600650, 0.627240, 0.655550, 0.682120,\n",
        "                         0.707640]"
      ],
      "metadata": {
        "id": "dMEuhKkFaHGA"
      },
      "execution_count": null,
      "outputs": []
    },
    {
      "cell_type": "code",
      "source": [
        "print(len(N_of_People), len(matchesper_per_people))"
      ],
      "metadata": {
        "colab": {
          "base_uri": "https://localhost:8080/"
        },
        "id": "nA4u-Mt7cQRm",
        "outputId": "c3d85e8e-02dd-4e7b-c745-ee11be70ff6b"
      },
      "execution_count": null,
      "outputs": [
        {
          "output_type": "stream",
          "name": "stdout",
          "text": [
            "29 29\n"
          ]
        }
      ]
    },
    {
      "cell_type": "code",
      "source": [
        "import matplotlib.pyplot as plt"
      ],
      "metadata": {
        "id": "Ag4PshZ_ZHRh"
      },
      "execution_count": null,
      "outputs": []
    },
    {
      "cell_type": "code",
      "source": [
        "fig, ax = plt.subplots()\n",
        "ax.plot(N_of_People, matchesper_per_people, color='blue', label=\"f(x)\")\n",
        "for i in range(28):\n",
        "  ax.plot(N_of_People[i], matchesper_per_people[i], marker='o', markersize=5, markerfacecolor='black')\n",
        "ax.axhline(y = 0, color =\"black\")\n",
        "ax.axvline(x = 0, color =\"black\")\n",
        "ax.axhline(y = 0.50, color =\"green\", linestyle=\"dashed\")\n",
        "ax.axvline(x = 23, color =\"green\", linestyle=\"dashed\")\n",
        "\n",
        "ax.grid()\n",
        "leg = ax.legend(loc='upper center')\n",
        "plt.show()"
      ],
      "metadata": {
        "colab": {
          "base_uri": "https://localhost:8080/",
          "height": 430
        },
        "id": "PpjI3HQHUSoI",
        "outputId": "ccec7de7-00a7-4b5c-8329-64d0e1c40694"
      },
      "execution_count": null,
      "outputs": [
        {
          "output_type": "display_data",
          "data": {
            "text/plain": [
              "<Figure size 640x480 with 1 Axes>"
            ],
            "image/png": "[encoded data removed]"
          },
          "metadata": {}
        }
      ]
    },
    {
      "cell_type": "code",
      "source": [
        "import numpy as np"
      ],
      "metadata": {
        "id": "vmJ2TV39Z6Lu"
      },
      "execution_count": 1,
      "outputs": []
    },
    {
      "cell_type": "code",
      "source": [
        "nb = 0"
      ],
      "metadata": {
        "id": "OgnYvbafnQao"
      },
      "execution_count": 2,
      "outputs": []
    },
    {
      "cell_type": "code",
      "source": [
        "N = 100000"
      ],
      "metadata": {
        "id": "8oSFhDsunhBJ"
      },
      "execution_count": 3,
      "outputs": []
    },
    {
      "cell_type": "code",
      "source": [
        "for i in range(N):\n",
        "  s = np.random.randint(0, 50, 3)\n",
        "  fail = False\n",
        "  for t in range(3):\n",
        "    if (s[t] < 4):\n",
        "      fail = True\n",
        "  if (not fail):\n",
        "    nb = nb + 1\n",
        "\n",
        "print(\"No Boston in the fall = %0.4f\" % (nb/N,))"
      ],
      "metadata": {
        "colab": {
          "base_uri": "https://localhost:8080/"
        },
        "id": "LuSTR8-tnj45",
        "outputId": "4abbb4c4-1b5a-436e-d750-f36279447971"
      },
      "execution_count": 4,
      "outputs": [
        {
          "output_type": "stream",
          "name": "stdout",
          "text": [
            "No Boston in the fall = 0.7778\n"
          ]
        }
      ]
    },
    {
      "cell_type": "code",
      "source": [],
      "metadata": {
        "id": "iPiYQ5zzomAp"
      },
      "execution_count": null,
      "outputs": []
    }
  ]
}