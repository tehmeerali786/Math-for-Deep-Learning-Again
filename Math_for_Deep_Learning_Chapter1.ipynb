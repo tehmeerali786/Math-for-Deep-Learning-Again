{
  "nbformat": 4,
  "nbformat_minor": 0,
  "metadata": {
    "colab": {
      "name": "Math for Deep Learning Chapter1.ipynb",
      "provenance": [],
      "collapsed_sections": []
    },
    "kernelspec": {
      "name": "python3",
      "display_name": "Python 3"
    },
    "language_info": {
      "name": "python"
    }
  },
  "cells": [
    {
      "cell_type": "markdown",
      "metadata": {
        "id": "8XAxPT5yqRxX"
      },
      "source": [
        "## NumPy"
      ]
    },
    {
      "cell_type": "code",
      "metadata": {
        "id": "NYqmtFfzELxg"
      },
      "source": [
        "import numpy as np\n"
      ],
      "execution_count": null,
      "outputs": []
    },
    {
      "cell_type": "code",
      "metadata": {
        "id": "Fd6qUnaOE-2_"
      },
      "source": [
        "a = np.zeros((3,4), dtype=\"uint32\")"
      ],
      "execution_count": null,
      "outputs": []
    },
    {
      "cell_type": "code",
      "metadata": {
        "id": "rzzMTpQUFF5t"
      },
      "source": [
        "a[0,3] = 42\n",
        "a[1, 1] = 66"
      ],
      "execution_count": null,
      "outputs": []
    },
    {
      "cell_type": "code",
      "metadata": {
        "colab": {
          "base_uri": "https://localhost:8080/"
        },
        "id": "6IEEjvJ-FMZ9",
        "outputId": "5e5127ca-ccae-4f89-c01d-60794368eb84"
      },
      "source": [
        "a"
      ],
      "execution_count": null,
      "outputs": [
        {
          "output_type": "execute_result",
          "data": {
            "text/plain": [
              "array([[ 0,  0,  0, 42],\n",
              "       [ 0, 66,  0,  0],\n",
              "       [ 0,  0,  0,  0]], dtype=uint32)"
            ]
          },
          "metadata": {},
          "execution_count": 4
        }
      ]
    },
    {
      "cell_type": "code",
      "metadata": {
        "colab": {
          "base_uri": "https://localhost:8080/"
        },
        "id": "z6tbGTiZFNnd",
        "outputId": "acd125a4-8cae-447d-c6e7-08edf4c5121a"
      },
      "source": [
        "b = 11 * np.ones((3,1))\n",
        "b"
      ],
      "execution_count": null,
      "outputs": [
        {
          "output_type": "execute_result",
          "data": {
            "text/plain": [
              "array([[11.],\n",
              "       [11.],\n",
              "       [11.]])"
            ]
          },
          "metadata": {},
          "execution_count": 5
        }
      ]
    },
    {
      "cell_type": "code",
      "metadata": {
        "colab": {
          "base_uri": "https://localhost:8080/"
        },
        "id": "KlZ7E5u4FWMM",
        "outputId": "02b7929a-7dae-4e48-d83d-25b42d146508"
      },
      "source": [
        "# Numpy arrange function is equivalent of range\n",
        "a = np.arange(12).reshape((3,4))\n",
        "a"
      ],
      "execution_count": null,
      "outputs": [
        {
          "output_type": "execute_result",
          "data": {
            "text/plain": [
              "array([[ 0,  1,  2,  3],\n",
              "       [ 4,  5,  6,  7],\n",
              "       [ 8,  9, 10, 11]])"
            ]
          },
          "metadata": {},
          "execution_count": 6
        }
      ]
    },
    {
      "cell_type": "code",
      "metadata": {
        "colab": {
          "base_uri": "https://localhost:8080/"
        },
        "id": "F8S_IVEwJC1B",
        "outputId": "31629115-af66-4f1e-bc42-6f220c367532"
      },
      "source": [
        "a[1]"
      ],
      "execution_count": null,
      "outputs": [
        {
          "output_type": "execute_result",
          "data": {
            "text/plain": [
              "array([4, 5, 6, 7])"
            ]
          },
          "metadata": {},
          "execution_count": 7
        }
      ]
    },
    {
      "cell_type": "code",
      "metadata": {
        "id": "4rkgSkfrJQ7l"
      },
      "source": [
        "a[1] = [44, 55, 66, 77]"
      ],
      "execution_count": null,
      "outputs": []
    },
    {
      "cell_type": "code",
      "metadata": {
        "colab": {
          "base_uri": "https://localhost:8080/"
        },
        "id": "95ED4FdILFaT",
        "outputId": "ad3e00b4-d899-4663-99be-db7ffdf49073"
      },
      "source": [
        "a"
      ],
      "execution_count": null,
      "outputs": [
        {
          "output_type": "execute_result",
          "data": {
            "text/plain": [
              "array([[ 0,  1,  2,  3],\n",
              "       [44, 55, 66, 77],\n",
              "       [ 8,  9, 10, 11]])"
            ]
          },
          "metadata": {},
          "execution_count": 9
        }
      ]
    },
    {
      "cell_type": "code",
      "metadata": {
        "colab": {
          "base_uri": "https://localhost:8080/"
        },
        "id": "jIx4KXx2LH4U",
        "outputId": "aa67f9cf-2a12-4ee5-fd28-0e081db37d4f"
      },
      "source": [
        "a[:2]"
      ],
      "execution_count": null,
      "outputs": [
        {
          "output_type": "execute_result",
          "data": {
            "text/plain": [
              "array([[ 0,  1,  2,  3],\n",
              "       [44, 55, 66, 77]])"
            ]
          },
          "metadata": {},
          "execution_count": 10
        }
      ]
    },
    {
      "cell_type": "code",
      "metadata": {
        "colab": {
          "base_uri": "https://localhost:8080/"
        },
        "id": "EYW4GiF2Mf_S",
        "outputId": "188f1975-8ef3-4138-eead-45fc26f7dd02"
      },
      "source": [
        "a[:2,:]"
      ],
      "execution_count": null,
      "outputs": [
        {
          "output_type": "execute_result",
          "data": {
            "text/plain": [
              "array([[ 0,  1,  2,  3],\n",
              "       [44, 55, 66, 77]])"
            ]
          },
          "metadata": {},
          "execution_count": 11
        }
      ]
    },
    {
      "cell_type": "code",
      "metadata": {
        "id": "PxTKl3UNNDmA"
      },
      "source": [
        "b = np.arange(12)"
      ],
      "execution_count": null,
      "outputs": []
    },
    {
      "cell_type": "code",
      "metadata": {
        "colab": {
          "base_uri": "https://localhost:8080/"
        },
        "id": "xc3dIFzINIkP",
        "outputId": "cdb23010-0413-405f-e15a-d835ca80afed"
      },
      "source": [
        "b"
      ],
      "execution_count": null,
      "outputs": [
        {
          "output_type": "execute_result",
          "data": {
            "text/plain": [
              "array([ 0,  1,  2,  3,  4,  5,  6,  7,  8,  9, 10, 11])"
            ]
          },
          "metadata": {},
          "execution_count": 13
        }
      ]
    },
    {
      "cell_type": "code",
      "metadata": {
        "colab": {
          "base_uri": "https://localhost:8080/"
        },
        "id": "Hu2DcPDlNJk_",
        "outputId": "abbae271-cde7-4f62-b531-b33e927c5a74"
      },
      "source": [
        "# ::2 means get every second element\n",
        "b[::2]"
      ],
      "execution_count": null,
      "outputs": [
        {
          "output_type": "execute_result",
          "data": {
            "text/plain": [
              "array([ 0,  2,  4,  6,  8, 10])"
            ]
          },
          "metadata": {},
          "execution_count": 14
        }
      ]
    },
    {
      "cell_type": "code",
      "metadata": {
        "colab": {
          "base_uri": "https://localhost:8080/"
        },
        "id": "uaUZ3HdsNLKv",
        "outputId": "508b8439-17f5-4446-f854-c3288111965f"
      },
      "source": [
        "# ::3 means, get every third element\n",
        "b[::3]"
      ],
      "execution_count": null,
      "outputs": [
        {
          "output_type": "execute_result",
          "data": {
            "text/plain": [
              "array([0, 3, 6, 9])"
            ]
          },
          "metadata": {},
          "execution_count": 15
        }
      ]
    },
    {
      "cell_type": "code",
      "metadata": {
        "colab": {
          "base_uri": "https://localhost:8080/"
        },
        "id": "2u4Vu8dHNMyP",
        "outputId": "34452efc-80bb-4fe9-d1ee-19a4c7776e9d"
      },
      "source": [
        "# ::-1 means reverse the direction. \n",
        "b[::-1]"
      ],
      "execution_count": null,
      "outputs": [
        {
          "output_type": "execute_result",
          "data": {
            "text/plain": [
              "array([11, 10,  9,  8,  7,  6,  5,  4,  3,  2,  1,  0])"
            ]
          },
          "metadata": {},
          "execution_count": 16
        }
      ]
    },
    {
      "cell_type": "code",
      "metadata": {
        "colab": {
          "base_uri": "https://localhost:8080/"
        },
        "id": "HW6k6lpiNPkP",
        "outputId": "5c18a89a-64f6-413e-b8cf-781904df9a45"
      },
      "source": [
        "# ::-2 means every second element in reverse direction\n",
        "b[::-2]"
      ],
      "execution_count": null,
      "outputs": [
        {
          "output_type": "execute_result",
          "data": {
            "text/plain": [
              "array([11,  9,  7,  5,  3,  1])"
            ]
          },
          "metadata": {},
          "execution_count": 17
        }
      ]
    },
    {
      "cell_type": "code",
      "metadata": {
        "id": "5zmkKRMtOAKJ"
      },
      "source": [
        "a = np.arange(24).reshape((4,3,2))"
      ],
      "execution_count": null,
      "outputs": []
    },
    {
      "cell_type": "code",
      "metadata": {
        "colab": {
          "base_uri": "https://localhost:8080/"
        },
        "id": "7iJqZk5OPpV7",
        "outputId": "6b5f3b15-038e-454e-ad4b-c818594ee68a"
      },
      "source": [
        "a"
      ],
      "execution_count": null,
      "outputs": [
        {
          "output_type": "execute_result",
          "data": {
            "text/plain": [
              "array([[[ 0,  1],\n",
              "        [ 2,  3],\n",
              "        [ 4,  5]],\n",
              "\n",
              "       [[ 6,  7],\n",
              "        [ 8,  9],\n",
              "        [10, 11]],\n",
              "\n",
              "       [[12, 13],\n",
              "        [14, 15],\n",
              "        [16, 17]],\n",
              "\n",
              "       [[18, 19],\n",
              "        [20, 21],\n",
              "        [22, 23]]])"
            ]
          },
          "metadata": {},
          "execution_count": 19
        }
      ]
    },
    {
      "cell_type": "code",
      "metadata": {
        "colab": {
          "base_uri": "https://localhost:8080/"
        },
        "id": "u5ejP2hvP0G7",
        "outputId": "4de9a499-7be2-4e32-d332-0a6d687689f1"
      },
      "source": [
        "# you can think of above array as collection of four 3x2 matrices. To update the second of these matrices, you can do this\n",
        "a[1,:,:] = [[11,22], [33, 44], [55, 66]]\n",
        "a"
      ],
      "execution_count": null,
      "outputs": [
        {
          "output_type": "execute_result",
          "data": {
            "text/plain": [
              "array([[[ 0,  1],\n",
              "        [ 2,  3],\n",
              "        [ 4,  5]],\n",
              "\n",
              "       [[11, 22],\n",
              "        [33, 44],\n",
              "        [55, 66]],\n",
              "\n",
              "       [[12, 13],\n",
              "        [14, 15],\n",
              "        [16, 17]],\n",
              "\n",
              "       [[18, 19],\n",
              "        [20, 21],\n",
              "        [22, 23]]])"
            ]
          },
          "metadata": {},
          "execution_count": 20
        }
      ]
    },
    {
      "cell_type": "code",
      "metadata": {
        "colab": {
          "base_uri": "https://localhost:8080/"
        },
        "id": "kMF0LF8sQaB6",
        "outputId": "c71d8624-f6e6-499f-d3fb-c01a7585f56e"
      },
      "source": [
        "# you can do also this with ...\n",
        "a[2,...] = [[99,99],[99,99],[99,99]]\n",
        "a "
      ],
      "execution_count": null,
      "outputs": [
        {
          "output_type": "execute_result",
          "data": {
            "text/plain": [
              "array([[[ 0,  1],\n",
              "        [ 2,  3],\n",
              "        [ 4,  5]],\n",
              "\n",
              "       [[11, 22],\n",
              "        [33, 44],\n",
              "        [55, 66]],\n",
              "\n",
              "       [[99, 99],\n",
              "        [99, 99],\n",
              "        [99, 99]],\n",
              "\n",
              "       [[18, 19],\n",
              "        [20, 21],\n",
              "        [22, 23]]])"
            ]
          },
          "metadata": {},
          "execution_count": 23
        }
      ]
    },
    {
      "cell_type": "code",
      "metadata": {
        "colab": {
          "base_uri": "https://localhost:8080/"
        },
        "id": "09uwBL6jRUXj",
        "outputId": "6c0dcc4d-3725-45e2-f6fb-95be4c6a690b"
      },
      "source": [
        "# Numpy can be written to and be loaded from disk\n",
        "# random array from 0 to 5 in shape of 3x4\n",
        "a = np.random.randint(0,5,(3,4))\n",
        "a"
      ],
      "execution_count": null,
      "outputs": [
        {
          "output_type": "execute_result",
          "data": {
            "text/plain": [
              "array([[2, 1, 0, 1],\n",
              "       [0, 3, 1, 4],\n",
              "       [3, 0, 1, 2]])"
            ]
          },
          "metadata": {},
          "execution_count": 24
        }
      ]
    },
    {
      "cell_type": "code",
      "metadata": {
        "colab": {
          "base_uri": "https://localhost:8080/"
        },
        "id": "RR0RskYOSi3H",
        "outputId": "84abeb4c-c480-4d4d-b66a-2167f865521e"
      },
      "source": [
        "np.save(\"random.npy\",a)\n",
        "b = np.load(\"random.npy\")\n",
        "b"
      ],
      "execution_count": null,
      "outputs": [
        {
          "output_type": "execute_result",
          "data": {
            "text/plain": [
              "array([[2, 1, 0, 1],\n",
              "       [0, 3, 1, 4],\n",
              "       [3, 0, 1, 2]])"
            ]
          },
          "metadata": {},
          "execution_count": 25
        }
      ]
    },
    {
      "cell_type": "markdown",
      "metadata": {
        "id": "prOtdDlXqWOz"
      },
      "source": [
        "## SciPy"
      ]
    },
    {
      "cell_type": "code",
      "metadata": {
        "id": "TsrW47sCUwlz",
        "colab": {
          "base_uri": "https://localhost:8080/"
        },
        "outputId": "2cfd2cb8-b071-415c-af01-d5b629071e66"
      },
      "source": [
        "import scipy\n",
        "print(scipy.__version__)"
      ],
      "execution_count": null,
      "outputs": [
        {
          "output_type": "stream",
          "name": "stdout",
          "text": [
            "1.4.1\n"
          ]
        }
      ]
    },
    {
      "cell_type": "code",
      "metadata": {
        "id": "_Mv38J9eql7a"
      },
      "source": [
        "from scipy.stats import ttest_ind\n",
        "import numpy as np\n",
        "a = np.random.normal(0, 1, 1000)\n",
        "b = np.random.normal(0, 0.5, 1000)\n",
        "c = np.random.normal(0.1,1,1000)"
      ],
      "execution_count": null,
      "outputs": []
    },
    {
      "cell_type": "code",
      "metadata": {
        "colab": {
          "base_uri": "https://localhost:8080/"
        },
        "id": "_hlasD_trElu",
        "outputId": "ba6a337f-687c-4908-c3cb-fe58a2010a13"
      },
      "source": [
        "ttest_ind(a, b)"
      ],
      "execution_count": null,
      "outputs": [
        {
          "output_type": "execute_result",
          "data": {
            "text/plain": [
              "Ttest_indResult(statistic=0.23663838035151502, pvalue=0.8129615999198934)"
            ]
          },
          "metadata": {},
          "execution_count": 9
        }
      ]
    },
    {
      "cell_type": "code",
      "metadata": {
        "colab": {
          "base_uri": "https://localhost:8080/"
        },
        "id": "1vkTq8LlrRN-",
        "outputId": "ab7e31b6-da05-4d10-fd4b-08551e783bef"
      },
      "source": [
        "ttest_ind(a, c)"
      ],
      "execution_count": null,
      "outputs": [
        {
          "output_type": "execute_result",
          "data": {
            "text/plain": [
              "Ttest_indResult(statistic=-1.9347849435242874, pvalue=0.053157688692507636)"
            ]
          },
          "metadata": {},
          "execution_count": 10
        }
      ]
    },
    {
      "cell_type": "code",
      "metadata": {
        "colab": {
          "base_uri": "https://localhost:8080/"
        },
        "id": "MZt7y9RgrV-t",
        "outputId": "22d25c4a-9279-4a5f-ca65-2d89950f2469"
      },
      "source": [
        "np.random.normal(0,1, 200)"
      ],
      "execution_count": null,
      "outputs": [
        {
          "output_type": "execute_result",
          "data": {
            "text/plain": [
              "array([ 0.05849307,  0.39995269, -1.85640157,  2.52366177,  0.72468994,\n",
              "       -0.10760176, -0.64396158, -2.50000257, -1.24300304, -1.06701362,\n",
              "       -0.10817727, -0.84951882,  0.69791556,  1.34442413, -1.77823147,\n",
              "       -1.33667047, -1.19424729, -0.89625295,  0.53948537, -1.57315343,\n",
              "        0.81805048,  0.80241694, -0.56166868,  0.1179504 ,  0.27727206,\n",
              "        0.92235403, -0.46006731,  0.24854338, -1.24148852, -0.68851682,\n",
              "       -1.85978663,  1.96151435,  0.87769879, -0.40127698, -0.40970593,\n",
              "       -0.60629693, -0.21821801, -0.09324571,  1.22634044, -0.88616414,\n",
              "       -1.10687536, -0.69312774, -0.06264283, -0.80726607,  0.34044099,\n",
              "       -0.69033908, -0.05515467,  0.93306913,  1.34833841, -0.47591912,\n",
              "       -0.60641719, -0.93853027, -1.18938736,  0.14978453,  0.28984317,\n",
              "       -0.50196153, -0.95411561, -0.97915783, -0.59452879,  1.0438786 ,\n",
              "        1.59899756,  0.10580259,  1.07009094,  1.1981415 ,  1.29528642,\n",
              "        0.77135441, -2.19374901, -1.22344391,  2.27639875, -0.62553244,\n",
              "        2.08759428,  0.34450148, -0.02119249, -1.12440062, -0.69254302,\n",
              "       -2.11870233, -0.90774982,  0.45444498, -1.24594219, -1.22841026,\n",
              "        0.10213263,  0.88603044, -0.01979281,  0.07422397, -0.06882293,\n",
              "        0.19612057, -1.82071541,  0.79078875,  0.71493752,  0.89135817,\n",
              "        0.76767034,  0.24226874,  0.00635948,  0.33477186,  1.42066825,\n",
              "        0.12791991, -0.18606546, -0.88027315, -0.6750402 , -0.28241312,\n",
              "       -1.29306428, -0.27881276,  0.10383414,  0.24303844, -1.35185011,\n",
              "       -0.56372081, -0.04050315,  0.58647287, -1.1480842 ,  0.60430539,\n",
              "        1.0232814 ,  0.30770753, -0.01557624, -0.44687553,  0.68055743,\n",
              "       -0.7106769 ,  0.49678079, -1.83537464, -2.49674801, -0.22035582,\n",
              "       -2.54900599,  0.28811877,  1.61567452, -1.57816532, -0.58672734,\n",
              "        1.10623778,  1.70739833, -1.26216478, -1.29042445, -1.13271456,\n",
              "        1.1231436 ,  1.17578386,  0.35763585, -0.93513133, -0.91818696,\n",
              "        0.1634347 , -0.25642365, -0.46449442,  0.16444852, -1.05512519,\n",
              "       -0.64519767,  1.34355051,  1.29818085, -0.10080102,  0.45547229,\n",
              "       -0.01781459,  2.38079925, -1.01381652, -1.54305617, -1.31722988,\n",
              "        0.44738424,  0.6800717 , -0.43289958,  0.05115266, -0.5953091 ,\n",
              "       -0.33134917,  0.18041847, -0.50450601,  0.5384088 ,  1.81416465,\n",
              "       -0.17996402,  1.9654021 ,  2.75343092,  1.09228053, -0.01006542,\n",
              "        0.48938452,  1.07917475, -1.03640007,  1.75400563,  0.97282912,\n",
              "       -0.56563082,  0.76499765, -0.01363076,  0.23540925, -0.13944594,\n",
              "        1.21748883, -1.33860528,  2.30728916, -1.12734798, -0.69124894,\n",
              "        0.81179709,  1.70044033, -1.2534732 , -1.12723265, -0.6285168 ,\n",
              "        1.90806165,  0.11074263, -0.45049818,  2.11431357, -1.2597984 ,\n",
              "        0.14511095, -2.1426716 ,  0.63901094, -0.36710272,  0.93409495,\n",
              "       -0.99301818, -0.24222305, -0.72638307, -1.14383737, -0.4249628 ])"
            ]
          },
          "metadata": {},
          "execution_count": 7
        }
      ]
    },
    {
      "cell_type": "markdown",
      "metadata": {
        "id": "EAc-x7fVxMK5"
      },
      "source": [
        "## Matplotlib"
      ]
    },
    {
      "cell_type": "code",
      "metadata": {
        "colab": {
          "base_uri": "https://localhost:8080/",
          "height": 265
        },
        "id": "UIH6LOI3sxgK",
        "outputId": "4d89cb00-ce04-4dfc-956d-0b38230dc36c"
      },
      "source": [
        "import numpy as np\n",
        "import matplotlib.pyplot as plt\n",
        "x = np.random.random(100)\n",
        "plt.plot(x)\n",
        "plt.show()"
      ],
      "execution_count": null,
      "outputs": [
        {
          "output_type": "display_data",
          "data": {
            "image/png": "[encoded data removed]",
            "text/plain": [
              "<Figure size 432x288 with 1 Axes>"
            ]
          },
          "metadata": {
            "needs_background": "light"
          }
        }
      ]
    },
    {
      "cell_type": "code",
      "metadata": {
        "id": "TO8IlK23xgQM",
        "colab": {
          "base_uri": "https://localhost:8080/",
          "height": 248
        },
        "outputId": "ceda62b7-a5f0-42d8-bcf6-b66cdcaa4bfc"
      },
      "source": [
        "from mpl_toolkits.mplot3d import Axes3D\n",
        "import matplotlib.pyplot as plt\n",
        "import numpy as np\n",
        "x = np.random.random(20)\n",
        "y = np.random.random(20)\n",
        "z = np.random.random(20)\n",
        "fig = plt.figure()\n",
        "ax = fig.add_subplot(111, projection='3d')\n",
        "ax.scatter(x,y,z)\n",
        "plt.show()"
      ],
      "execution_count": null,
      "outputs": [
        {
          "output_type": "display_data",
          "data": {
            "image/png": "[encoded data removed]",
            "text/plain": [
              "<Figure size 432x288 with 1 Axes>"
            ]
          },
          "metadata": {
            "needs_background": "light"
          }
        }
      ]
    },
    {
      "cell_type": "markdown",
      "metadata": {
        "id": "BeGpyneXpLcf"
      },
      "source": [
        "## SKLearn"
      ]
    },
    {
      "cell_type": "code",
      "metadata": {
        "colab": {
          "base_uri": "https://localhost:8080/"
        },
        "id": "CEObUhlInB6T",
        "outputId": "1aa71cc3-c8dc-403f-9115-a3fd728e837c"
      },
      "source": [
        "import numpy as np \n",
        "from sklearn.datasets import load_digits\n",
        "from sklearn.neural_network import MLPClassifier\n",
        "\n",
        "d = load_digits()\n",
        "digits = d[\"data\"]\n",
        "labels = d[\"target\"]\n",
        "\n",
        "N = 200\n",
        "idx = np.argsort(np.random.random(len(labels)))\n",
        "x_test, y_test = digits[idx[:N]], labels[idx[:N]]\n",
        "x_train, y_train = digits[idx[N:]], labels[idx[N:]]\n",
        "\n",
        "clf = MLPClassifier(hidden_layer_sizes=(128,))\n",
        "clf.fit(x_train, y_train)\n",
        "\n",
        "score = clf.score(x_test, y_test)\n",
        "pred = clf.predict(x_test)\n",
        "err = np.where(y_test != pred)[0]\n",
        "\n",
        "print(\"Score: \", score)\n",
        "print(\"errors:\")\n",
        "print(\" actual : \", y_test[err])\n",
        "print(\" Predicted : \", pred[err])"
      ],
      "execution_count": null,
      "outputs": [
        {
          "output_type": "stream",
          "name": "stdout",
          "text": [
            "Score:  0.965\n",
            "errors:\n",
            " actual :  [4 2 3 4 1 9 3]\n",
            " Predicted :  [1 1 5 9 8 3 8]\n"
          ]
        }
      ]
    },
    {
      "cell_type": "code",
      "metadata": {
        "colab": {
          "base_uri": "https://localhost:8080/"
        },
        "id": "BHxfQSpAtEUB",
        "outputId": "11aa69c3-2200-4d55-92c4-15d8feedecb8"
      },
      "source": [
        "idx[:1]"
      ],
      "execution_count": null,
      "outputs": [
        {
          "output_type": "execute_result",
          "data": {
            "text/plain": [
              "array([321])"
            ]
          },
          "metadata": {},
          "execution_count": 7
        }
      ]
    },
    {
      "cell_type": "code",
      "metadata": {
        "id": "dLx3wifWuqRs"
      },
      "source": [
        ""
      ],
      "execution_count": null,
      "outputs": []
    }
  ]
}