{
  "nbformat": 4,
  "nbformat_minor": 0,
  "metadata": {
    "colab": {
      "provenance": []
    },
    "kernelspec": {
      "name": "python3",
      "display_name": "Python 3"
    },
    "language_info": {
      "name": "python"
    }
  },
  "cells": [
    {
      "cell_type": "markdown",
      "source": [
        "## Scalars, Vectors, Metrices and Tensors"
      ],
      "metadata": {
        "id": "nkI-lrPMgGoN"
      }
    },
    {
      "cell_type": "markdown",
      "source": [
        "### Scalar"
      ],
      "metadata": {
        "id": "fhZUSEfygNjj"
      }
    },
    {
      "cell_type": "code",
      "source": [
        "s = 66\n",
        "s"
      ],
      "metadata": {
        "colab": {
          "base_uri": "https://localhost:8080/"
        },
        "id": "t5YNhXdOgFzw",
        "outputId": "393cf00e-7483-4329-92e7-ccc29cf11e4f"
      },
      "execution_count": null,
      "outputs": [
        {
          "output_type": "execute_result",
          "data": {
            "text/plain": [
              "66"
            ]
          },
          "metadata": {},
          "execution_count": 1
        }
      ]
    },
    {
      "cell_type": "markdown",
      "source": [
        "### Vectors"
      ],
      "metadata": {
        "id": "wlT6rTd5gefL"
      }
    },
    {
      "cell_type": "code",
      "source": [
        "# Row Vector\n",
        "import numpy as np\n",
        "x = np.array([1, 2, 3])\n",
        "print(x)"
      ],
      "metadata": {
        "colab": {
          "base_uri": "https://localhost:8080/"
        },
        "id": "u_NOPbqkgr0C",
        "outputId": "4b2c2558-8189-4bc4-ea66-16b07cbfff27"
      },
      "execution_count": null,
      "outputs": [
        {
          "output_type": "stream",
          "name": "stdout",
          "text": [
            "[1 2 3]\n"
          ]
        }
      ]
    },
    {
      "cell_type": "code",
      "source": [
        "# Column Vector\n",
        "print(x.reshape(3, 1))"
      ],
      "metadata": {
        "colab": {
          "base_uri": "https://localhost:8080/"
        },
        "id": "KIwZjO8qg3Ji",
        "outputId": "e3df5140-c7f0-4098-84a8-799a12b455bf"
      },
      "execution_count": null,
      "outputs": [
        {
          "output_type": "stream",
          "name": "stdout",
          "text": [
            "[[1]\n",
            " [2]\n",
            " [3]]\n"
          ]
        }
      ]
    },
    {
      "cell_type": "markdown",
      "source": [
        "### Matrices"
      ],
      "metadata": {
        "id": "cTkqt9O2hrER"
      }
    },
    {
      "cell_type": "code",
      "source": [
        "A = np.array([[1, 2, 3], [4, 5, 6], [7, 8, 9]])\n",
        "print(A)"
      ],
      "metadata": {
        "colab": {
          "base_uri": "https://localhost:8080/"
        },
        "id": "MR0HfBEGhBWO",
        "outputId": "acd263b1-6b65-41ff-a604-bf5865e98494"
      },
      "execution_count": null,
      "outputs": [
        {
          "output_type": "stream",
          "name": "stdout",
          "text": [
            "[[1 2 3]\n",
            " [4 5 6]\n",
            " [7 8 9]]\n"
          ]
        }
      ]
    },
    {
      "cell_type": "code",
      "source": [
        "A.shape"
      ],
      "metadata": {
        "colab": {
          "base_uri": "https://localhost:8080/"
        },
        "id": "uxQz4VIqiQec",
        "outputId": "6411873e-99da-41d2-d4b8-f31dcf0503b2"
      },
      "execution_count": null,
      "outputs": [
        {
          "output_type": "execute_result",
          "data": {
            "text/plain": [
              "(3, 3)"
            ]
          },
          "metadata": {},
          "execution_count": 6
        }
      ]
    },
    {
      "cell_type": "code",
      "source": [
        "print(np.arange(12).reshape((3, 4)))"
      ],
      "metadata": {
        "colab": {
          "base_uri": "https://localhost:8080/"
        },
        "id": "AX7jOTmYiVQr",
        "outputId": "28881526-b5ab-4720-cadd-d653a982ef75"
      },
      "execution_count": null,
      "outputs": [
        {
          "output_type": "stream",
          "name": "stdout",
          "text": [
            "[[ 0  1  2  3]\n",
            " [ 4  5  6  7]\n",
            " [ 8  9 10 11]]\n"
          ]
        }
      ]
    },
    {
      "cell_type": "markdown",
      "source": [
        "### Tensors"
      ],
      "metadata": {
        "id": "3vmaHT6Ii8PJ"
      }
    },
    {
      "cell_type": "code",
      "source": [
        "t = np.arange(36).reshape((3, 3, 4))\n",
        "print(t)"
      ],
      "metadata": {
        "colab": {
          "base_uri": "https://localhost:8080/"
        },
        "id": "ehP-JDKUi7Ug",
        "outputId": "9f6876c3-ec60-43b0-bc8f-d8fe715bf11d"
      },
      "execution_count": null,
      "outputs": [
        {
          "output_type": "stream",
          "name": "stdout",
          "text": [
            "[[[ 0  1  2  3]\n",
            "  [ 4  5  6  7]\n",
            "  [ 8  9 10 11]]\n",
            "\n",
            " [[12 13 14 15]\n",
            "  [16 17 18 19]\n",
            "  [20 21 22 23]]\n",
            "\n",
            " [[24 25 26 27]\n",
            "  [28 29 30 31]\n",
            "  [32 33 34 35]]]\n"
          ]
        }
      ]
    },
    {
      "cell_type": "code",
      "source": [
        "print(t[0])"
      ],
      "metadata": {
        "colab": {
          "base_uri": "https://localhost:8080/"
        },
        "id": "nCHg0wCZieM9",
        "outputId": "0ff4a482-9bd5-4f4f-8883-852fb279e528"
      },
      "execution_count": null,
      "outputs": [
        {
          "output_type": "stream",
          "name": "stdout",
          "text": [
            "[[ 0  1  2  3]\n",
            " [ 4  5  6  7]\n",
            " [ 8  9 10 11]]\n"
          ]
        }
      ]
    },
    {
      "cell_type": "code",
      "source": [
        "print(t[0, 1])"
      ],
      "metadata": {
        "colab": {
          "base_uri": "https://localhost:8080/"
        },
        "id": "SMXjo2ZRjtxJ",
        "outputId": "5d6d4c64-b9e0-4833-94d7-7e4bc61abbbd"
      },
      "execution_count": null,
      "outputs": [
        {
          "output_type": "stream",
          "name": "stdout",
          "text": [
            "[4 5 6 7]\n"
          ]
        }
      ]
    },
    {
      "cell_type": "code",
      "source": [
        "print(t[0, 1, 2])"
      ],
      "metadata": {
        "colab": {
          "base_uri": "https://localhost:8080/"
        },
        "id": "g1udmoijlwgW",
        "outputId": "3c3c08cf-e510-4db9-9687-b33be5cb4d90"
      },
      "execution_count": null,
      "outputs": [
        {
          "output_type": "stream",
          "name": "stdout",
          "text": [
            "6\n"
          ]
        }
      ]
    },
    {
      "cell_type": "code",
      "source": [
        "w = np.zeros((9, 9, 9, 9, 9))\n",
        "print(w[4, 1, 2, 0, 1])"
      ],
      "metadata": {
        "colab": {
          "base_uri": "https://localhost:8080/"
        },
        "id": "LsDONkZslzf1",
        "outputId": "626d1089-da66-4d07-e40f-9fc91d0ad87e"
      },
      "execution_count": null,
      "outputs": [
        {
          "output_type": "stream",
          "name": "stdout",
          "text": [
            "0.0\n"
          ]
        }
      ]
    },
    {
      "cell_type": "code",
      "source": [
        "# Adding dimension to a tensor\n",
        "t = np.array(42)"
      ],
      "metadata": {
        "id": "iSzgMbZxnZWi"
      },
      "execution_count": null,
      "outputs": []
    },
    {
      "cell_type": "code",
      "source": [
        "print(t)"
      ],
      "metadata": {
        "colab": {
          "base_uri": "https://localhost:8080/"
        },
        "id": "kCOub5penpei",
        "outputId": "275658c8-22e2-4b42-9420-1682e51c8e28"
      },
      "execution_count": null,
      "outputs": [
        {
          "output_type": "stream",
          "name": "stdout",
          "text": [
            "42\n"
          ]
        }
      ]
    },
    {
      "cell_type": "code",
      "source": [
        "t = t.reshape((1, 1, 1, 1, 1))"
      ],
      "metadata": {
        "id": "E-WsC-Xqnqob"
      },
      "execution_count": null,
      "outputs": []
    },
    {
      "cell_type": "code",
      "source": [
        "print(t)"
      ],
      "metadata": {
        "colab": {
          "base_uri": "https://localhost:8080/"
        },
        "id": "JkI-A7sunx1h",
        "outputId": "5d58604b-f1d2-403a-c558-49612758d6cd"
      },
      "execution_count": null,
      "outputs": [
        {
          "output_type": "stream",
          "name": "stdout",
          "text": [
            "[[[[[42]]]]]\n"
          ]
        }
      ]
    },
    {
      "cell_type": "code",
      "source": [
        "t.shape"
      ],
      "metadata": {
        "colab": {
          "base_uri": "https://localhost:8080/"
        },
        "id": "IBekham5nzKh",
        "outputId": "a89765b6-aa66-4e0f-d619-7e268f68560f"
      },
      "execution_count": null,
      "outputs": [
        {
          "output_type": "execute_result",
          "data": {
            "text/plain": [
              "(1, 1, 1, 1, 1)"
            ]
          },
          "metadata": {},
          "execution_count": 17
        }
      ]
    },
    {
      "cell_type": "code",
      "source": [
        "t[0, 0, 0, 0, 0]"
      ],
      "metadata": {
        "colab": {
          "base_uri": "https://localhost:8080/"
        },
        "id": "Tu5JhOzyn2Rh",
        "outputId": "b1dd7094-fd6f-4e9a-e099-2a1adf4d1267"
      },
      "execution_count": null,
      "outputs": [
        {
          "output_type": "execute_result",
          "data": {
            "text/plain": [
              "42"
            ]
          },
          "metadata": {},
          "execution_count": 18
        }
      ]
    },
    {
      "cell_type": "code",
      "source": [
        "t = np.array([[1, 2, 3], [4, 5, 6]])\n",
        "print(t)"
      ],
      "metadata": {
        "colab": {
          "base_uri": "https://localhost:8080/"
        },
        "id": "FTO8k9Qgn6Oh",
        "outputId": "ef01a6fb-2e9a-482d-b142-d1971baf79e2"
      },
      "execution_count": null,
      "outputs": [
        {
          "output_type": "stream",
          "name": "stdout",
          "text": [
            "[[1 2 3]\n",
            " [4 5 6]]\n"
          ]
        }
      ]
    },
    {
      "cell_type": "code",
      "source": [
        "# Numpy way of adding dimension\n",
        "w = t[np.newaxis, :, :]\n",
        "w.shape"
      ],
      "metadata": {
        "colab": {
          "base_uri": "https://localhost:8080/"
        },
        "id": "9hOsQsYLoz2v",
        "outputId": "e79e8943-f58f-4d4a-f002-f8cdae0ab053"
      },
      "execution_count": null,
      "outputs": [
        {
          "output_type": "execute_result",
          "data": {
            "text/plain": [
              "(1, 2, 3)"
            ]
          },
          "metadata": {},
          "execution_count": 21
        }
      ]
    },
    {
      "cell_type": "code",
      "source": [
        "print(w)"
      ],
      "metadata": {
        "colab": {
          "base_uri": "https://localhost:8080/"
        },
        "id": "pQur_-qypDO-",
        "outputId": "22b50b1d-9478-4be0-8cdd-f0d378afab08"
      },
      "execution_count": null,
      "outputs": [
        {
          "output_type": "stream",
          "name": "stdout",
          "text": [
            "[[[1 2 3]\n",
            "  [4 5 6]]]\n"
          ]
        }
      ]
    },
    {
      "cell_type": "markdown",
      "source": [
        "## Arthmetic and Tensor"
      ],
      "metadata": {
        "id": "qEFG9MSepp5L"
      }
    },
    {
      "cell_type": "markdown",
      "source": [
        "### Array Operations"
      ],
      "metadata": {
        "id": "oVTYEv5ep9YD"
      }
    },
    {
      "cell_type": "code",
      "source": [
        "a = np.array([[1, 2, 3], [4, 5, 6]])\n",
        "b = np.array([[7, 8, 9], [10, 11, 12]])\n",
        "c = np.array([10, 100, 1000])\n",
        "d = np.array([10, 11])"
      ],
      "metadata": {
        "id": "yIcos4pNpJgO"
      },
      "execution_count": null,
      "outputs": []
    },
    {
      "cell_type": "code",
      "source": [
        "print(a)"
      ],
      "metadata": {
        "colab": {
          "base_uri": "https://localhost:8080/"
        },
        "id": "iWcxOe4lqxfp",
        "outputId": "6afd6ec7-9e79-4a7e-8c78-877b0795872a"
      },
      "execution_count": null,
      "outputs": [
        {
          "output_type": "stream",
          "name": "stdout",
          "text": [
            "[[1 2 3]\n",
            " [4 5 6]]\n"
          ]
        }
      ]
    },
    {
      "cell_type": "code",
      "source": [
        "print(b)"
      ],
      "metadata": {
        "colab": {
          "base_uri": "https://localhost:8080/"
        },
        "id": "u90mCJX7q197",
        "outputId": "ca1a27e1-4a7f-4baa-8742-30f19ea6676d"
      },
      "execution_count": null,
      "outputs": [
        {
          "output_type": "stream",
          "name": "stdout",
          "text": [
            "[[ 7  8  9]\n",
            " [10 11 12]]\n"
          ]
        }
      ]
    },
    {
      "cell_type": "code",
      "source": [
        "print(c)"
      ],
      "metadata": {
        "colab": {
          "base_uri": "https://localhost:8080/"
        },
        "id": "4ss1_tl6q2sL",
        "outputId": "cdf6ac47-944a-4f7a-f6fb-30e2561ab3ea"
      },
      "execution_count": null,
      "outputs": [
        {
          "output_type": "stream",
          "name": "stdout",
          "text": [
            "[  10  100 1000]\n"
          ]
        }
      ]
    },
    {
      "cell_type": "code",
      "source": [
        "print(d)"
      ],
      "metadata": {
        "colab": {
          "base_uri": "https://localhost:8080/"
        },
        "id": "TxKo-Xndq3f7",
        "outputId": "d0585fc2-919e-42ba-b08d-bc8c5f0ba38a"
      },
      "execution_count": null,
      "outputs": [
        {
          "output_type": "stream",
          "name": "stdout",
          "text": [
            "[10 11]\n"
          ]
        }
      ]
    },
    {
      "cell_type": "markdown",
      "source": [
        "Element wise operations"
      ],
      "metadata": {
        "id": "bjR_5CkYrIth"
      }
    },
    {
      "cell_type": "code",
      "source": [
        "print(a+b)"
      ],
      "metadata": {
        "colab": {
          "base_uri": "https://localhost:8080/"
        },
        "id": "ypGw7ifoq6Zc",
        "outputId": "536c9371-b539-4540-f23f-1e7b57656060"
      },
      "execution_count": null,
      "outputs": [
        {
          "output_type": "stream",
          "name": "stdout",
          "text": [
            "[[ 8 10 12]\n",
            " [14 16 18]]\n"
          ]
        }
      ]
    },
    {
      "cell_type": "code",
      "source": [
        "print(a-b)"
      ],
      "metadata": {
        "colab": {
          "base_uri": "https://localhost:8080/"
        },
        "id": "HMyI7DcpvsMW",
        "outputId": "e4faa0b4-5240-4b9f-8687-4d07ee2c9ce7"
      },
      "execution_count": null,
      "outputs": [
        {
          "output_type": "stream",
          "name": "stdout",
          "text": [
            "[[-6 -6 -6]\n",
            " [-6 -6 -6]]\n"
          ]
        }
      ]
    },
    {
      "cell_type": "code",
      "source": [
        "print(a*b)"
      ],
      "metadata": {
        "colab": {
          "base_uri": "https://localhost:8080/"
        },
        "id": "TeRVzpjUvttS",
        "outputId": "e50ae26d-0991-4c62-e46b-17d9692af51d"
      },
      "execution_count": null,
      "outputs": [
        {
          "output_type": "stream",
          "name": "stdout",
          "text": [
            "[[ 7 16 27]\n",
            " [40 55 72]]\n"
          ]
        }
      ]
    },
    {
      "cell_type": "code",
      "source": [
        "print(a/b)"
      ],
      "metadata": {
        "colab": {
          "base_uri": "https://localhost:8080/"
        },
        "id": "IFRsyOrLvvSi",
        "outputId": "a998657a-f576-425f-d6d8-dcb93bf522b7"
      },
      "execution_count": null,
      "outputs": [
        {
          "output_type": "stream",
          "name": "stdout",
          "text": [
            "[[0.14285714 0.25       0.33333333]\n",
            " [0.4        0.45454545 0.5       ]]\n"
          ]
        }
      ]
    },
    {
      "cell_type": "code",
      "source": [
        "print(b**a)"
      ],
      "metadata": {
        "colab": {
          "base_uri": "https://localhost:8080/"
        },
        "id": "9F1QLSdXvw2C",
        "outputId": "10a154c6-459b-4d32-e0ae-3c5f3a696bee"
      },
      "execution_count": null,
      "outputs": [
        {
          "output_type": "stream",
          "name": "stdout",
          "text": [
            "[[      7      64     729]\n",
            " [  10000  161051 2985984]]\n"
          ]
        }
      ]
    },
    {
      "cell_type": "markdown",
      "source": [
        "Broadcasting"
      ],
      "metadata": {
        "id": "jMWgFFmrwXQH"
      }
    },
    {
      "cell_type": "code",
      "source": [
        "print(a+c)"
      ],
      "metadata": {
        "colab": {
          "base_uri": "https://localhost:8080/"
        },
        "id": "Wc--7-2Pvyby",
        "outputId": "c00d4fdd-dda3-4247-f0d1-6ba86af1cf0f"
      },
      "execution_count": null,
      "outputs": [
        {
          "output_type": "stream",
          "name": "stdout",
          "text": [
            "[[  11  102 1003]\n",
            " [  14  105 1006]]\n"
          ]
        }
      ]
    },
    {
      "cell_type": "code",
      "source": [
        "print(c*a)"
      ],
      "metadata": {
        "colab": {
          "base_uri": "https://localhost:8080/"
        },
        "id": "sxvK-g2ywaaB",
        "outputId": "7cd09c0f-0211-4f85-f3bc-9ce5a5bba931"
      },
      "execution_count": null,
      "outputs": [
        {
          "output_type": "stream",
          "name": "stdout",
          "text": [
            "[[  10  200 3000]\n",
            " [  40  500 6000]]\n"
          ]
        }
      ]
    },
    {
      "cell_type": "code",
      "source": [
        "print(a/c)"
      ],
      "metadata": {
        "colab": {
          "base_uri": "https://localhost:8080/"
        },
        "id": "lDJ1NUZdwcIR",
        "outputId": "5012da2f-3dec-48a8-85cb-425e7097323a"
      },
      "execution_count": null,
      "outputs": [
        {
          "output_type": "stream",
          "name": "stdout",
          "text": [
            "[[0.1   0.02  0.003]\n",
            " [0.4   0.05  0.006]]\n"
          ]
        }
      ]
    },
    {
      "cell_type": "code",
      "source": [
        "print(a+d)"
      ],
      "metadata": {
        "colab": {
          "base_uri": "https://localhost:8080/",
          "height": 141
        },
        "id": "67BgwcwZwgER",
        "outputId": "1725e4dd-355b-4909-bcfe-ffe7cc40872c"
      },
      "execution_count": null,
      "outputs": [
        {
          "output_type": "error",
          "ename": "ValueError",
          "evalue": "operands could not be broadcast together with shapes (2,3) (2,) ",
          "traceback": [
            "\u001b[0;31m---------------------------------------------------------------------------\u001b[0m",
            "\u001b[0;31mValueError\u001b[0m                                Traceback (most recent call last)",
            "\u001b[0;32m<ipython-input-39-b85b93f3d673>\u001b[0m in \u001b[0;36m<cell line: 1>\u001b[0;34m()\u001b[0m\n\u001b[0;32m----> 1\u001b[0;31m \u001b[0mprint\u001b[0m\u001b[0;34m(\u001b[0m\u001b[0ma\u001b[0m\u001b[0;34m+\u001b[0m\u001b[0md\u001b[0m\u001b[0;34m)\u001b[0m\u001b[0;34m\u001b[0m\u001b[0;34m\u001b[0m\u001b[0m\n\u001b[0m",
            "\u001b[0;31mValueError\u001b[0m: operands could not be broadcast together with shapes (2,3) (2,) "
          ]
        }
      ]
    },
    {
      "cell_type": "code",
      "source": [
        "# if we reshape d so that it's a 2D array with shape 2 x 1\n",
        "d.shape"
      ],
      "metadata": {
        "colab": {
          "base_uri": "https://localhost:8080/"
        },
        "id": "GCoxP_ZsyEPO",
        "outputId": "fdd3a2ef-97fe-4f13-ef3a-5b4da4f06e26"
      },
      "execution_count": null,
      "outputs": [
        {
          "output_type": "execute_result",
          "data": {
            "text/plain": [
              "(2,)"
            ]
          },
          "metadata": {},
          "execution_count": 40
        }
      ]
    },
    {
      "cell_type": "code",
      "source": [
        "d = d.reshape((2, 1))\n",
        "d.shape"
      ],
      "metadata": {
        "colab": {
          "base_uri": "https://localhost:8080/"
        },
        "id": "UfjwE2BoywoN",
        "outputId": "72ccc4b5-e158-4513-8f3f-ac0369b81420"
      },
      "execution_count": null,
      "outputs": [
        {
          "output_type": "execute_result",
          "data": {
            "text/plain": [
              "(2, 1)"
            ]
          },
          "metadata": {},
          "execution_count": 41
        }
      ]
    },
    {
      "cell_type": "code",
      "source": [
        "print(d)"
      ],
      "metadata": {
        "colab": {
          "base_uri": "https://localhost:8080/"
        },
        "id": "lmBijzzCy2d8",
        "outputId": "fded16fa-4af2-47e6-8a29-f02a0f47bd1f"
      },
      "execution_count": null,
      "outputs": [
        {
          "output_type": "stream",
          "name": "stdout",
          "text": [
            "[[10]\n",
            " [11]]\n"
          ]
        }
      ]
    },
    {
      "cell_type": "code",
      "source": [
        "print(a+d)"
      ],
      "metadata": {
        "colab": {
          "base_uri": "https://localhost:8080/"
        },
        "id": "bawLz84KzG-R",
        "outputId": "23809b7f-37a6-4a11-b08d-8c9fcc9271b6"
      },
      "execution_count": null,
      "outputs": [
        {
          "output_type": "stream",
          "name": "stdout",
          "text": [
            "[[11 12 13]\n",
            " [15 16 17]]\n"
          ]
        }
      ]
    },
    {
      "cell_type": "markdown",
      "source": [
        "## Vector Operations"
      ],
      "metadata": {
        "id": "Knm7URW-0t5t"
      }
    },
    {
      "cell_type": "markdown",
      "source": [
        "### Unit Vector"
      ],
      "metadata": {
        "id": "fsyU1ce070Tt"
      }
    },
    {
      "cell_type": "markdown",
      "source": [
        "#${v} = \\frac {v}{||v||}$"
      ],
      "metadata": {
        "id": "AYUv1N8q74dz"
      }
    },
    {
      "cell_type": "code",
      "source": [
        "import numpy as np"
      ],
      "metadata": {
        "id": "1MeIecwX_M9I"
      },
      "execution_count": null,
      "outputs": []
    },
    {
      "cell_type": "code",
      "source": [
        "# Converting vector into its unit vector; i.e, the magnitude of one\n",
        "v = np.array((2, -4, 3))\n",
        "u = v / np.sqrt((v*v).sum())\n",
        "print(u)"
      ],
      "metadata": {
        "id": "E2JfU2VfzN0M",
        "colab": {
          "base_uri": "https://localhost:8080/"
        },
        "outputId": "475a4ab6-6622-4621-f17a-bfb0cd7321e5"
      },
      "execution_count": null,
      "outputs": [
        {
          "output_type": "stream",
          "name": "stdout",
          "text": [
            "[ 0.37139068 -0.74278135  0.55708601]\n"
          ]
        }
      ]
    },
    {
      "cell_type": "markdown",
      "source": [
        "### Transpose"
      ],
      "metadata": {
        "id": "idtHnk3JB-Gu"
      }
    },
    {
      "cell_type": "code",
      "source": [
        "# Three ways in numpy to transpose\n",
        "v = np.array([1, 2, 3])\n",
        "print(v)"
      ],
      "metadata": {
        "colab": {
          "base_uri": "https://localhost:8080/"
        },
        "id": "esNWSx-v-Xwy",
        "outputId": "e42731ba-961e-4e12-c41c-c7d0b59a1685"
      },
      "execution_count": null,
      "outputs": [
        {
          "output_type": "stream",
          "name": "stdout",
          "text": [
            "[1 2 3]\n"
          ]
        }
      ]
    },
    {
      "cell_type": "code",
      "source": [
        "print(v.reshape((3, 1)))"
      ],
      "metadata": {
        "colab": {
          "base_uri": "https://localhost:8080/"
        },
        "id": "OIrqC_YyCWAc",
        "outputId": "0db819da-10a6-4d95-ea54-042cc1aba3ac"
      },
      "execution_count": null,
      "outputs": [
        {
          "output_type": "stream",
          "name": "stdout",
          "text": [
            "[[1]\n",
            " [2]\n",
            " [3]]\n"
          ]
        }
      ]
    },
    {
      "cell_type": "code",
      "source": [
        "print(v.reshape((1, 3)))"
      ],
      "metadata": {
        "colab": {
          "base_uri": "https://localhost:8080/"
        },
        "id": "sxhRivM2CaLb",
        "outputId": "a9792ecc-5372-480a-df6c-8a2d18132c62"
      },
      "execution_count": null,
      "outputs": [
        {
          "output_type": "stream",
          "name": "stdout",
          "text": [
            "[[1 2 3]]\n"
          ]
        }
      ]
    },
    {
      "cell_type": "code",
      "source": [
        "print(v)"
      ],
      "metadata": {
        "colab": {
          "base_uri": "https://localhost:8080/"
        },
        "id": "b5VKXl1NCfzK",
        "outputId": "140bfd8a-dd1d-4fdb-a9e4-65665dcac71a"
      },
      "execution_count": null,
      "outputs": [
        {
          "output_type": "stream",
          "name": "stdout",
          "text": [
            "[1 2 3]\n"
          ]
        }
      ]
    },
    {
      "cell_type": "code",
      "source": [
        "print(v.transpose())"
      ],
      "metadata": {
        "colab": {
          "base_uri": "https://localhost:8080/"
        },
        "id": "vpd2GwrRDy2p",
        "outputId": "8b623c2c-e98a-41c1-cab5-37da7785cc0f"
      },
      "execution_count": null,
      "outputs": [
        {
          "output_type": "stream",
          "name": "stdout",
          "text": [
            "[1 2 3]\n"
          ]
        }
      ]
    },
    {
      "cell_type": "code",
      "source": [
        "print(v.T)"
      ],
      "metadata": {
        "colab": {
          "base_uri": "https://localhost:8080/"
        },
        "id": "no0sv2uXD1HY",
        "outputId": "7415882e-f5ed-4098-e776-f99c3c708e05"
      },
      "execution_count": null,
      "outputs": [
        {
          "output_type": "stream",
          "name": "stdout",
          "text": [
            "[1 2 3]\n"
          ]
        }
      ]
    },
    {
      "cell_type": "code",
      "source": [
        "v = v.reshape((1, 3))\n",
        "print(v)"
      ],
      "metadata": {
        "colab": {
          "base_uri": "https://localhost:8080/"
        },
        "id": "n6MauXc6D_S4",
        "outputId": "14c3d80d-df50-4bbe-8a9a-e70beb3bbdd3"
      },
      "execution_count": null,
      "outputs": [
        {
          "output_type": "stream",
          "name": "stdout",
          "text": [
            "[[1 2 3]]\n"
          ]
        }
      ]
    },
    {
      "cell_type": "code",
      "source": [
        "print(v.transpose())"
      ],
      "metadata": {
        "colab": {
          "base_uri": "https://localhost:8080/"
        },
        "id": "W718-ncvElNI",
        "outputId": "21e6e6cf-3a91-45cc-8111-3712a80de801"
      },
      "execution_count": null,
      "outputs": [
        {
          "output_type": "stream",
          "name": "stdout",
          "text": [
            "[[1]\n",
            " [2]\n",
            " [3]]\n"
          ]
        }
      ]
    },
    {
      "cell_type": "code",
      "source": [
        "print(v.T)"
      ],
      "metadata": {
        "colab": {
          "base_uri": "https://localhost:8080/"
        },
        "id": "8N8tTeeXEngn",
        "outputId": "a89db707-d9a0-4b98-a2ec-b15cea84c835"
      },
      "execution_count": null,
      "outputs": [
        {
          "output_type": "stream",
          "name": "stdout",
          "text": [
            "[[1]\n",
            " [2]\n",
            " [3]]\n"
          ]
        }
      ]
    },
    {
      "cell_type": "code",
      "source": [
        "v.shape"
      ],
      "metadata": {
        "colab": {
          "base_uri": "https://localhost:8080/"
        },
        "id": "pC_ZNogJEpMo",
        "outputId": "b1c6a547-b5d0-4db8-af3d-2c46cb644a13"
      },
      "execution_count": null,
      "outputs": [
        {
          "output_type": "execute_result",
          "data": {
            "text/plain": [
              "(1, 3)"
            ]
          },
          "metadata": {},
          "execution_count": 14
        }
      ]
    },
    {
      "cell_type": "code",
      "source": [
        "print(v)"
      ],
      "metadata": {
        "colab": {
          "base_uri": "https://localhost:8080/"
        },
        "id": "evwiQGDcFGbG",
        "outputId": "af946fca-d3e2-4769-d146-352ee24d5c78"
      },
      "execution_count": null,
      "outputs": [
        {
          "output_type": "stream",
          "name": "stdout",
          "text": [
            "[[1 2 3]]\n"
          ]
        }
      ]
    },
    {
      "cell_type": "code",
      "source": [
        "v1 = v.T\n",
        "v1.shape"
      ],
      "metadata": {
        "colab": {
          "base_uri": "https://localhost:8080/"
        },
        "id": "yOpl8XohFInG",
        "outputId": "d5c5b5b5-dcdf-4002-dd0d-76a16eecf273"
      },
      "execution_count": null,
      "outputs": [
        {
          "output_type": "execute_result",
          "data": {
            "text/plain": [
              "(3, 1)"
            ]
          },
          "metadata": {},
          "execution_count": 17
        }
      ]
    },
    {
      "cell_type": "markdown",
      "source": [
        "### Dot Product"
      ],
      "metadata": {
        "id": "19eLaNEXFs8F"
      }
    },
    {
      "cell_type": "markdown",
      "source": [
        "# \\begin{align}\n",
        "\\mathbf{a} \\cdot \\mathbf{b} = (a,b) = {a^Tb} =\n",
        "&= \\sum_{k=0}^{n-1} a_K b_k \\end{align}"
      ],
      "metadata": {
        "id": "RTdGfd1eFw_U"
      }
    },
    {
      "cell_type": "code",
      "source": [
        "a = np.array([1, 2, 3, 4])\n",
        "b = np.array([5, 6, 7, 8])"
      ],
      "metadata": {
        "id": "8WbN_gVGFPZW"
      },
      "execution_count": null,
      "outputs": []
    },
    {
      "cell_type": "code",
      "source": [
        "def inner(a, b):\n",
        "  s = 0.0\n",
        "  for i in range(len(a)):\n",
        "    s += a[i]*b[i]\n",
        "  return s"
      ],
      "metadata": {
        "id": "EwDPKVaTRmPH"
      },
      "execution_count": null,
      "outputs": []
    },
    {
      "cell_type": "code",
      "source": [
        "inner(a, b)"
      ],
      "metadata": {
        "colab": {
          "base_uri": "https://localhost:8080/"
        },
        "id": "v3IhaNt3Uvzh",
        "outputId": "ef993f70-3695-4d39-90f1-51f05fa0a20d"
      },
      "execution_count": null,
      "outputs": [
        {
          "output_type": "execute_result",
          "data": {
            "text/plain": [
              "70.0"
            ]
          },
          "metadata": {},
          "execution_count": 20
        }
      ]
    },
    {
      "cell_type": "code",
      "source": [
        "(a*b).sum()"
      ],
      "metadata": {
        "colab": {
          "base_uri": "https://localhost:8080/"
        },
        "id": "rwx-dY-jUxyX",
        "outputId": "66ab73c9-d7f7-49d3-ddbe-fff008e58f5d"
      },
      "execution_count": null,
      "outputs": [
        {
          "output_type": "execute_result",
          "data": {
            "text/plain": [
              "70"
            ]
          },
          "metadata": {},
          "execution_count": 21
        }
      ]
    },
    {
      "cell_type": "code",
      "source": [
        "np.dot(a,b)"
      ],
      "metadata": {
        "colab": {
          "base_uri": "https://localhost:8080/"
        },
        "id": "NOXy91RIU4LR",
        "outputId": "f327a1f2-7204-49a0-9775-48d136c72e27"
      },
      "execution_count": null,
      "outputs": [
        {
          "output_type": "execute_result",
          "data": {
            "text/plain": [
              "70"
            ]
          },
          "metadata": {},
          "execution_count": 22
        }
      ]
    },
    {
      "cell_type": "markdown",
      "source": [
        "\n",
        "#$θ = cos^-1 \\frac{\\mathbf{a} \\cdot \\mathbf{b}}{||a|| ||b||}$"
      ],
      "metadata": {
        "id": "iiRSFZLnWvS-"
      }
    },
    {
      "cell_type": "code",
      "source": [
        "A = np.sqrt(np.dot(a, a))\n",
        "B = np.sqrt(np.dot(b, b))\n",
        "t = np.arccos(np.dot(a, b)/(A*B))\n",
        "# Turning radians into degrees\n",
        "t*(180/np.pi)"
      ],
      "metadata": {
        "colab": {
          "base_uri": "https://localhost:8080/"
        },
        "id": "k05VmAb8U-gR",
        "outputId": "1deef53d-347e-4c7c-81aa-e6714574cbfa"
      },
      "execution_count": null,
      "outputs": [
        {
          "output_type": "execute_result",
          "data": {
            "text/plain": [
              "14.335170291600924"
            ]
          },
          "metadata": {},
          "execution_count": 23
        }
      ]
    },
    {
      "cell_type": "code",
      "source": [
        "# Orthogonal[Perpendicular] Vectors in 3D\n",
        "a = np.array([1, 0, 0])\n",
        "b = np.array([0, 1, 0])\n",
        "np.dot(a, b)"
      ],
      "metadata": {
        "colab": {
          "base_uri": "https://localhost:8080/"
        },
        "id": "YVx8ev5Barjm",
        "outputId": "771d39b4-3688-4e63-87df-8c4726b31cb0"
      },
      "execution_count": null,
      "outputs": [
        {
          "output_type": "execute_result",
          "data": {
            "text/plain": [
              "0"
            ]
          },
          "metadata": {},
          "execution_count": 24
        }
      ]
    },
    {
      "cell_type": "code",
      "source": [
        "t = np.arccos(0)\n",
        "t * (180/np.pi)"
      ],
      "metadata": {
        "colab": {
          "base_uri": "https://localhost:8080/"
        },
        "id": "DC8MYSxnclRj",
        "outputId": "92677272-4f51-425c-fa14-e1eeec84f89e"
      },
      "execution_count": null,
      "outputs": [
        {
          "output_type": "execute_result",
          "data": {
            "text/plain": [
              "90.0"
            ]
          },
          "metadata": {},
          "execution_count": 27
        }
      ]
    },
    {
      "cell_type": "markdown",
      "source": [
        "### Projection"
      ],
      "metadata": {
        "id": "PtgYjf2XjCTw"
      }
    },
    {
      "cell_type": "markdown",
      "source": [
        "**$Proj_a b = \\frac{\\mathbf{a} \\cdot \\mathbf{b}}{||b||^2} b $**"
      ],
      "metadata": {
        "id": "LVufvl6vu-Zp"
      }
    },
    {
      "cell_type": "code",
      "source": [
        "# a is in 45 degrees.\n",
        "a = np.array([1, 1])\n",
        "b = np.array([1, 0])\n",
        "p = (np.dot(a, b)/np.dot(b,b))*b\n",
        "print(p)"
      ],
      "metadata": {
        "colab": {
          "base_uri": "https://localhost:8080/"
        },
        "id": "KhgAttE0jBjq",
        "outputId": "dbd13253-fc33-434f-9728-48f1d2a417e7"
      },
      "execution_count": null,
      "outputs": [
        {
          "output_type": "stream",
          "name": "stdout",
          "text": [
            "[1. 0.]\n"
          ]
        }
      ]
    },
    {
      "cell_type": "code",
      "source": [
        "c = np.array([-1, 1])\n",
        "p = (np.dot(c,b)/np.dot(b,b))*b\n",
        "print(p)"
      ],
      "metadata": {
        "colab": {
          "base_uri": "https://localhost:8080/"
        },
        "id": "8fYOXwz1cuOz",
        "outputId": "7b3d891f-a509-44e2-da9a-fa74b880c01b"
      },
      "execution_count": null,
      "outputs": [
        {
          "output_type": "stream",
          "name": "stdout",
          "text": [
            "[-1. -0.]\n"
          ]
        }
      ]
    },
    {
      "cell_type": "markdown",
      "source": [
        "### Outer Product"
      ],
      "metadata": {
        "id": "PWHe39T2vp0N"
      }
    },
    {
      "cell_type": "markdown",
      "source": [
        "$a \\oplus b = {ab^T} =  \\begin{pmatrix}a_0b_0, a_0b_1, ......, a_0b_{n-1} \\\\\n",
        "a_{m-1}b_0, a_{m-1}b_1, ......, a_{m-1}b_{n-1} \\end{pmatrix}$"
      ],
      "metadata": {
        "id": "ZNKbCiHzwJd3"
      }
    },
    {
      "cell_type": "code",
      "source": [
        "a = np.array([1, 2, 3, 4])\n",
        "b = np.array([5, 6, 7, 8])"
      ],
      "metadata": {
        "id": "kunqPh36khn0"
      },
      "execution_count": null,
      "outputs": []
    },
    {
      "cell_type": "code",
      "source": [
        "np.dot(a, b)"
      ],
      "metadata": {
        "colab": {
          "base_uri": "https://localhost:8080/"
        },
        "id": "pwvy61cW1YpE",
        "outputId": "b9c79388-da02-4866-9308-702864ee30d7"
      },
      "execution_count": null,
      "outputs": [
        {
          "output_type": "execute_result",
          "data": {
            "text/plain": [
              "70"
            ]
          },
          "metadata": {},
          "execution_count": 31
        }
      ]
    },
    {
      "cell_type": "code",
      "source": [
        "np.outer(a, b)"
      ],
      "metadata": {
        "colab": {
          "base_uri": "https://localhost:8080/"
        },
        "id": "gOUt9hSO1dYk",
        "outputId": "39662e8f-d800-4300-c827-1dd20ac69884"
      },
      "execution_count": null,
      "outputs": [
        {
          "output_type": "execute_result",
          "data": {
            "text/plain": [
              "array([[ 5,  6,  7,  8],\n",
              "       [10, 12, 14, 16],\n",
              "       [15, 18, 21, 24],\n",
              "       [20, 24, 28, 32]])"
            ]
          },
          "metadata": {},
          "execution_count": 32
        }
      ]
    },
    {
      "cell_type": "markdown",
      "source": [
        "### Cross Product"
      ],
      "metadata": {
        "id": "y6Qc3N0yUz0e"
      }
    },
    {
      "cell_type": "markdown",
      "source": [
        "**$ ab = ||a||||b||sin(\\theta)\\bar{n} $**\n",
        "\n",
        "\n",
        "\n"
      ],
      "metadata": {
        "id": "z-LiHGBgU_s7"
      }
    },
    {
      "cell_type": "code",
      "source": [
        "import numpy as np"
      ],
      "metadata": {
        "id": "HrMRSiOk1eyE"
      },
      "execution_count": null,
      "outputs": []
    },
    {
      "cell_type": "code",
      "source": [
        "a = np.array([1, 0, 0])\n",
        "b = np.array([0, 1, 0])\n",
        "print(np.cross(a, b))"
      ],
      "metadata": {
        "colab": {
          "base_uri": "https://localhost:8080/"
        },
        "id": "5aOzsQ8HWWmN",
        "outputId": "ea0fabd8-63d6-45ed-80cb-6f1e2426508c"
      },
      "execution_count": null,
      "outputs": [
        {
          "output_type": "stream",
          "name": "stdout",
          "text": [
            "[0 0 1]\n"
          ]
        }
      ]
    },
    {
      "cell_type": "code",
      "source": [
        "c = np.array([1, 1, 0])\n",
        "print(np.cross(a, c))"
      ],
      "metadata": {
        "colab": {
          "base_uri": "https://localhost:8080/"
        },
        "id": "eprap5bsWkmL",
        "outputId": "cdb9adab-0f89-41ef-8dec-cb95a41043b1"
      },
      "execution_count": null,
      "outputs": [
        {
          "output_type": "stream",
          "name": "stdout",
          "text": [
            "[0 0 1]\n"
          ]
        }
      ]
    },
    {
      "cell_type": "markdown",
      "source": [
        "## Matrix Operations"
      ],
      "metadata": {
        "id": "RoUpBZUMpTIS"
      }
    },
    {
      "cell_type": "markdown",
      "source": [
        "### Matrix Multiplication"
      ],
      "metadata": {
        "id": "47PoFzX-pWuy"
      }
    },
    {
      "cell_type": "code",
      "source": [
        "def matrixmul(A, B):\n",
        "  I, K = A.shape\n",
        "  J = B.shape[1]\n",
        "  C = np.zeros((I, J), dtype=A.dtype)\n",
        "  for i in range(I):\n",
        "    for j in range(J):\n",
        "      for k in range(K):\n",
        "        C[i, j] = A[i, k] * B[k, j]\n",
        "  return C"
      ],
      "metadata": {
        "id": "nT29FZcBpSKm"
      },
      "execution_count": null,
      "outputs": []
    },
    {
      "cell_type": "code",
      "source": [
        "A = np.array([[1, 2, 3], [4, 5, 6], [7, 8, 9], [10, 11, 12]])\n",
        "B = np.array([[1, 2], [3, 4], [5, 6]])"
      ],
      "metadata": {
        "id": "EFNUPyRdWqV7"
      },
      "execution_count": null,
      "outputs": []
    },
    {
      "cell_type": "code",
      "source": [
        "N = 100000"
      ],
      "metadata": {
        "id": "PWREam-Wrq-u"
      },
      "execution_count": null,
      "outputs": []
    },
    {
      "cell_type": "code",
      "source": [
        "print(A.shape)"
      ],
      "metadata": {
        "colab": {
          "base_uri": "https://localhost:8080/"
        },
        "id": "BJ7Ats4IruYS",
        "outputId": "3129dc12-11e9-4712-d4af-6e7073b1735d"
      },
      "execution_count": null,
      "outputs": [
        {
          "output_type": "stream",
          "name": "stdout",
          "text": [
            "(4, 3)\n"
          ]
        }
      ]
    },
    {
      "cell_type": "code",
      "source": [
        "print(B.shape)"
      ],
      "metadata": {
        "colab": {
          "base_uri": "https://localhost:8080/"
        },
        "id": "tJJLPFr4r9Ay",
        "outputId": "f38942fd-a338-4b50-9262-a965c04be4c0"
      },
      "execution_count": null,
      "outputs": [
        {
          "output_type": "stream",
          "name": "stdout",
          "text": [
            "(3, 2)\n"
          ]
        }
      ]
    },
    {
      "cell_type": "code",
      "source": [
        "print(A[1, :])"
      ],
      "metadata": {
        "colab": {
          "base_uri": "https://localhost:8080/"
        },
        "id": "zcBQxtXlr_og",
        "outputId": "0711455a-caed-4bd9-f657-2adb7e16194b"
      },
      "execution_count": null,
      "outputs": [
        {
          "output_type": "stream",
          "name": "stdout",
          "text": [
            "[4 5 6]\n"
          ]
        }
      ]
    },
    {
      "cell_type": "code",
      "source": [
        "print(B[:, 0])"
      ],
      "metadata": {
        "colab": {
          "base_uri": "https://localhost:8080/"
        },
        "id": "z0UCNg6hsLzR",
        "outputId": "19249d94-812a-496f-b5da-31b503605783"
      },
      "execution_count": null,
      "outputs": [
        {
          "output_type": "stream",
          "name": "stdout",
          "text": [
            "[1 3 5]\n"
          ]
        }
      ]
    },
    {
      "cell_type": "code",
      "source": [
        "print(B.shape[1])"
      ],
      "metadata": {
        "colab": {
          "base_uri": "https://localhost:8080/"
        },
        "id": "1xMlO1_fsWzQ",
        "outputId": "0fefcb00-cbc1-489a-e9a1-74f93676b34d"
      },
      "execution_count": null,
      "outputs": [
        {
          "output_type": "stream",
          "name": "stdout",
          "text": [
            "2\n"
          ]
        }
      ]
    },
    {
      "cell_type": "code",
      "source": [
        "print(B[1, :])"
      ],
      "metadata": {
        "colab": {
          "base_uri": "https://localhost:8080/"
        },
        "id": "CFBLsEltsidg",
        "outputId": "4be2420d-b04b-4ea9-c957-703e243cf0a5"
      },
      "execution_count": null,
      "outputs": [
        {
          "output_type": "stream",
          "name": "stdout",
          "text": [
            "[3 4]\n"
          ]
        }
      ]
    },
    {
      "cell_type": "code",
      "source": [
        "print(A[0, 0])"
      ],
      "metadata": {
        "colab": {
          "base_uri": "https://localhost:8080/"
        },
        "id": "cG6Y1mcTswf_",
        "outputId": "096f1a52-2cad-4e56-d638-1d2e46a606a5"
      },
      "execution_count": null,
      "outputs": [
        {
          "output_type": "stream",
          "name": "stdout",
          "text": [
            "1\n"
          ]
        }
      ]
    },
    {
      "cell_type": "code",
      "source": [
        "import time"
      ],
      "metadata": {
        "id": "SFkx5q8wtbqu"
      },
      "execution_count": null,
      "outputs": []
    },
    {
      "cell_type": "code",
      "source": [
        "s = time.time()\n",
        "for i in range(N):\n",
        "  C = matrixmul(A, B)\n",
        "e = time.time()\n",
        "print(\"matrixmul: %0.6f\" % (e-s,))"
      ],
      "metadata": {
        "colab": {
          "base_uri": "https://localhost:8080/"
        },
        "id": "epUuM0xYtG7O",
        "outputId": "ba0b1de8-595d-4973-aeca-ae012a884075"
      },
      "execution_count": null,
      "outputs": [
        {
          "output_type": "stream",
          "name": "stdout",
          "text": [
            "matrixmul: 1.877131\n"
          ]
        }
      ]
    },
    {
      "cell_type": "code",
      "source": [
        "print(C)"
      ],
      "metadata": {
        "colab": {
          "base_uri": "https://localhost:8080/"
        },
        "id": "-e_RcnA3t299",
        "outputId": "4de30529-5aff-40d0-c92a-4e9baf15c47a"
      },
      "execution_count": null,
      "outputs": [
        {
          "output_type": "stream",
          "name": "stdout",
          "text": [
            "[[15 18]\n",
            " [30 36]\n",
            " [45 54]\n",
            " [60 72]]\n"
          ]
        }
      ]
    },
    {
      "cell_type": "code",
      "source": [
        "s = time.time()\n",
        "for i in range(N):\n",
        "  C = np.matmul(A, B)\n",
        "e = time.time()\n",
        "print(\"np.matmul: %0.6f\" % (e-s,))"
      ],
      "metadata": {
        "colab": {
          "base_uri": "https://localhost:8080/"
        },
        "id": "WX-Ccaamt8h9",
        "outputId": "abca4bf2-4374-41eb-a856-568979f0c737"
      },
      "execution_count": null,
      "outputs": [
        {
          "output_type": "stream",
          "name": "stdout",
          "text": [
            "np.matmul: 0.146502\n"
          ]
        }
      ]
    },
    {
      "cell_type": "code",
      "source": [
        "C"
      ],
      "metadata": {
        "id": "Jqcqt66wuR48",
        "outputId": "b40a5cf4-6a39-4e97-e2bc-bff0ca415921",
        "colab": {
          "base_uri": "https://localhost:8080/"
        }
      },
      "execution_count": null,
      "outputs": [
        {
          "output_type": "execute_result",
          "data": {
            "text/plain": [
              "array([[ 22,  28],\n",
              "       [ 49,  64],\n",
              "       [ 76, 100],\n",
              "       [103, 136]])"
            ]
          },
          "metadata": {},
          "execution_count": 21
        }
      ]
    },
    {
      "cell_type": "markdown",
      "source": [
        "## Matrix Multiplication with Numpy"
      ],
      "metadata": {
        "id": "M-J5Kgve42gh"
      }
    },
    {
      "cell_type": "code",
      "source": [
        "import numpy as np"
      ],
      "metadata": {
        "id": "kE9AURtj5euQ"
      },
      "execution_count": null,
      "outputs": []
    },
    {
      "cell_type": "code",
      "source": [
        "av = np.array([1, 2, 3])\n",
        "ar = np.array([[1, 2, 3]])\n",
        "ac = np.array([[1], [2], [3]])"
      ],
      "metadata": {
        "id": "cix1kr8-uTKt"
      },
      "execution_count": null,
      "outputs": []
    },
    {
      "cell_type": "code",
      "source": [
        "av.shape"
      ],
      "metadata": {
        "colab": {
          "base_uri": "https://localhost:8080/"
        },
        "id": "x2vvcskQ5X2s",
        "outputId": "829cf529-4acd-47ed-c26b-2eb78d22bf5e"
      },
      "execution_count": null,
      "outputs": [
        {
          "output_type": "execute_result",
          "data": {
            "text/plain": [
              "(3,)"
            ]
          },
          "metadata": {},
          "execution_count": 3
        }
      ]
    },
    {
      "cell_type": "code",
      "source": [
        "ar.shape"
      ],
      "metadata": {
        "colab": {
          "base_uri": "https://localhost:8080/"
        },
        "id": "ibro3w3v5anP",
        "outputId": "9b0550d5-93d8-4df6-a2f0-35e61f290dd7"
      },
      "execution_count": null,
      "outputs": [
        {
          "output_type": "execute_result",
          "data": {
            "text/plain": [
              "(1, 3)"
            ]
          },
          "metadata": {},
          "execution_count": 4
        }
      ]
    },
    {
      "cell_type": "code",
      "source": [
        "print(ar)"
      ],
      "metadata": {
        "colab": {
          "base_uri": "https://localhost:8080/"
        },
        "id": "vNYJqFEa5b58",
        "outputId": "03a93d94-6288-42ec-c8a7-38e8160697e6"
      },
      "execution_count": null,
      "outputs": [
        {
          "output_type": "stream",
          "name": "stdout",
          "text": [
            "[[1 2 3]]\n"
          ]
        }
      ]
    },
    {
      "cell_type": "code",
      "source": [
        "ac.shape"
      ],
      "metadata": {
        "colab": {
          "base_uri": "https://localhost:8080/"
        },
        "id": "SAbgiU6z5j4s",
        "outputId": "d7d40c6a-c430-4c4b-d16b-e50325d946d6"
      },
      "execution_count": null,
      "outputs": [
        {
          "output_type": "execute_result",
          "data": {
            "text/plain": [
              "(3, 1)"
            ]
          },
          "metadata": {},
          "execution_count": 6
        }
      ]
    },
    {
      "cell_type": "code",
      "source": [
        "print(ac)"
      ],
      "metadata": {
        "colab": {
          "base_uri": "https://localhost:8080/"
        },
        "id": "dLCNBkPE5pg-",
        "outputId": "30a1a302-573a-4e11-b4c2-21f0f63e067a"
      },
      "execution_count": null,
      "outputs": [
        {
          "output_type": "stream",
          "name": "stdout",
          "text": [
            "[[1]\n",
            " [2]\n",
            " [3]]\n"
          ]
        }
      ]
    },
    {
      "cell_type": "code",
      "source": [
        "av.transpose()"
      ],
      "metadata": {
        "colab": {
          "base_uri": "https://localhost:8080/"
        },
        "id": "uVrjNtjd5swM",
        "outputId": "8d16913d-6d0e-4bf2-d576-bb8ff1b920f9"
      },
      "execution_count": null,
      "outputs": [
        {
          "output_type": "execute_result",
          "data": {
            "text/plain": [
              "array([1, 2, 3])"
            ]
          },
          "metadata": {},
          "execution_count": 8
        }
      ]
    },
    {
      "cell_type": "code",
      "source": [
        "ac.transpose()"
      ],
      "metadata": {
        "colab": {
          "base_uri": "https://localhost:8080/"
        },
        "id": "FMYKln3A58rL",
        "outputId": "7d33cf58-d249-4f2b-8662-c05dfe4426c1"
      },
      "execution_count": null,
      "outputs": [
        {
          "output_type": "execute_result",
          "data": {
            "text/plain": [
              "array([[1, 2, 3]])"
            ]
          },
          "metadata": {},
          "execution_count": 9
        }
      ]
    },
    {
      "cell_type": "code",
      "source": [
        "ar"
      ],
      "metadata": {
        "colab": {
          "base_uri": "https://localhost:8080/"
        },
        "id": "p4N3HXPp6-II",
        "outputId": "e2368ee3-6d58-4c25-fea3-330c09a0e147"
      },
      "execution_count": null,
      "outputs": [
        {
          "output_type": "execute_result",
          "data": {
            "text/plain": [
              "array([[1, 2, 3]])"
            ]
          },
          "metadata": {},
          "execution_count": 10
        }
      ]
    },
    {
      "cell_type": "code",
      "source": [
        "a1 = np.array([1, 2, 3])\n",
        "ar = np.array([[1, 2, 3]])\n",
        "ac = np.array([[1], [2], [3]])\n",
        "b1 = np.array([1, 2, 3])\n",
        "br = np.array([[1, 2, 3]])\n",
        "bc = np.array([[1], [2], [3]])\n",
        "A = np.array([[1, 2, 3], [4, 5, 6], [7, 8, 9]])\n",
        "B = np.array([[9, 8, 7], [6, 5, 4], [3, 2, 1]])"
      ],
      "metadata": {
        "id": "-w8OOO0b8MHH"
      },
      "execution_count": null,
      "outputs": []
    },
    {
      "cell_type": "markdown",
      "source": [
        "### Numpy Dot Product"
      ],
      "metadata": {
        "id": "XpmP5Yp9bBAP"
      }
    },
    {
      "cell_type": "code",
      "source": [
        "import numpy as np"
      ],
      "metadata": {
        "id": "wXTJEhe5Bwhf"
      },
      "execution_count": null,
      "outputs": []
    },
    {
      "cell_type": "code",
      "source": [
        "def dot(a, b):\n",
        "  try:\n",
        "    return np.dot(a, b)\n",
        "  except:\n",
        "    return \"fails\""
      ],
      "metadata": {
        "id": "95UDNtC8bJfB"
      },
      "execution_count": null,
      "outputs": []
    },
    {
      "cell_type": "code",
      "source": [
        "print()\n",
        "print(\"np.dot examples:\")\n",
        "print(\"dot(a1, b1):\"); print(dot(a1, b1))"
      ],
      "metadata": {
        "colab": {
          "base_uri": "https://localhost:8080/"
        },
        "id": "aSWVXm50bVPB",
        "outputId": "3e351549-6c81-43dd-89aa-b9383806ca87"
      },
      "execution_count": null,
      "outputs": [
        {
          "output_type": "stream",
          "name": "stdout",
          "text": [
            "\n",
            "np.dot examples:\n",
            "dot(a1, b1):\n",
            "14\n"
          ]
        }
      ]
    },
    {
      "cell_type": "code",
      "source": [
        "print(\"dot(a1, br):\"); print(dot(a1, br))"
      ],
      "metadata": {
        "colab": {
          "base_uri": "https://localhost:8080/"
        },
        "id": "pB1WF1jEcIbx",
        "outputId": "c5ddd8f7-b3ab-44aa-8c2c-31db21692e46"
      },
      "execution_count": null,
      "outputs": [
        {
          "output_type": "stream",
          "name": "stdout",
          "text": [
            "dot(a1, br):\n",
            "fails\n"
          ]
        }
      ]
    },
    {
      "cell_type": "code",
      "source": [
        "print(\"dot(a1, bc):\"); print(dot(a1, bc))"
      ],
      "metadata": {
        "colab": {
          "base_uri": "https://localhost:8080/"
        },
        "id": "O2psIaHNcfHg",
        "outputId": "4992f7f7-c8ba-428c-b7e1-9f2f99f6891a"
      },
      "execution_count": null,
      "outputs": [
        {
          "output_type": "stream",
          "name": "stdout",
          "text": [
            "dot(a1, bc):\n",
            "[14]\n"
          ]
        }
      ]
    },
    {
      "cell_type": "code",
      "source": [
        "print(\"dot(a1, bc):\"); print(dot(a1, bc))"
      ],
      "metadata": {
        "colab": {
          "base_uri": "https://localhost:8080/"
        },
        "id": "RshmIqQLcpHw",
        "outputId": "e89655fb-cc06-495f-f651-3c48c2a2fb8e"
      },
      "execution_count": null,
      "outputs": [
        {
          "output_type": "stream",
          "name": "stdout",
          "text": [
            "dot(a1, bc):\n",
            "[14]\n"
          ]
        }
      ]
    },
    {
      "cell_type": "code",
      "source": [
        "print(\"dot(ar, b1):\"); print(dot(ar, b1))"
      ],
      "metadata": {
        "colab": {
          "base_uri": "https://localhost:8080/"
        },
        "id": "09esSVMqfWBb",
        "outputId": "19bdcc1d-209f-406e-d7d1-95d0f0734f1a"
      },
      "execution_count": null,
      "outputs": [
        {
          "output_type": "stream",
          "name": "stdout",
          "text": [
            "dot(ar, b1):\n",
            "[14]\n"
          ]
        }
      ]
    },
    {
      "cell_type": "code",
      "source": [
        "print(\"dot(ar, br):\"); print(dot(ar, br))"
      ],
      "metadata": {
        "colab": {
          "base_uri": "https://localhost:8080/"
        },
        "id": "fh1A8j9SfeVr",
        "outputId": "d60f23e1-1c2f-4e97-fdf5-6501a63951fd"
      },
      "execution_count": null,
      "outputs": [
        {
          "output_type": "stream",
          "name": "stdout",
          "text": [
            "dot(ar, br):\n",
            "fails\n"
          ]
        }
      ]
    },
    {
      "cell_type": "code",
      "source": [
        "print(\"dot(ar, bc):\"); print(dot(ar, bc))"
      ],
      "metadata": {
        "colab": {
          "base_uri": "https://localhost:8080/"
        },
        "id": "qZoLyRrkgBW6",
        "outputId": "6af2a422-648b-4033-9688-f40839876225"
      },
      "execution_count": null,
      "outputs": [
        {
          "output_type": "stream",
          "name": "stdout",
          "text": [
            "dot(ar, bc):\n",
            "[[14]]\n"
          ]
        }
      ]
    },
    {
      "cell_type": "code",
      "source": [
        "dot_rc = dot(ar, bc)\n",
        "dot_rc.shape"
      ],
      "metadata": {
        "colab": {
          "base_uri": "https://localhost:8080/"
        },
        "id": "3l0Tv1U5gM0K",
        "outputId": "a79793b8-b431-4aef-92de-cbe7632d4884"
      },
      "execution_count": null,
      "outputs": [
        {
          "output_type": "execute_result",
          "data": {
            "text/plain": [
              "(1, 1)"
            ]
          },
          "metadata": {},
          "execution_count": 23
        }
      ]
    },
    {
      "cell_type": "code",
      "source": [
        "print(\"dot(ac, bc):\"); print(dot(ac, bc))"
      ],
      "metadata": {
        "colab": {
          "base_uri": "https://localhost:8080/"
        },
        "id": "chRkD_hBgarK",
        "outputId": "4d965b80-c81e-46cc-9d47-9353d4c8a2a6"
      },
      "execution_count": null,
      "outputs": [
        {
          "output_type": "stream",
          "name": "stdout",
          "text": [
            "dot(ac, bc):\n",
            "fails\n"
          ]
        }
      ]
    },
    {
      "cell_type": "code",
      "source": [
        "print(\"dot(ac, b1):\"); print(dot(ac, b1))"
      ],
      "metadata": {
        "colab": {
          "base_uri": "https://localhost:8080/"
        },
        "id": "Ij2NozJCkceE",
        "outputId": "285fd586-037e-4859-cb05-abb921f9a4da"
      },
      "execution_count": null,
      "outputs": [
        {
          "output_type": "stream",
          "name": "stdout",
          "text": [
            "dot(ac, b1):\n",
            "fails\n"
          ]
        }
      ]
    },
    {
      "cell_type": "code",
      "source": [
        "# Outer Product\n",
        "print(\"dot(ac, br):\"); print(dot(ac, br))"
      ],
      "metadata": {
        "colab": {
          "base_uri": "https://localhost:8080/"
        },
        "id": "jqzo6Z3MkskH",
        "outputId": "a614ddfd-d49d-423f-fa54-aa88b42eea2c"
      },
      "execution_count": null,
      "outputs": [
        {
          "output_type": "stream",
          "name": "stdout",
          "text": [
            "dot(ac, br):\n",
            "[[1 2 3]\n",
            " [2 4 6]\n",
            " [3 6 9]]\n"
          ]
        }
      ]
    },
    {
      "cell_type": "code",
      "source": [
        "print(\"dot(ac, bc):\"); print(dot(ac, bc))"
      ],
      "metadata": {
        "colab": {
          "base_uri": "https://localhost:8080/"
        },
        "id": "WcOBlNeik3lP",
        "outputId": "a7ee577d-d16a-46b4-9647-fb92d6564f28"
      },
      "execution_count": null,
      "outputs": [
        {
          "output_type": "stream",
          "name": "stdout",
          "text": [
            "dot(ac, bc):\n",
            "fails\n"
          ]
        }
      ]
    },
    {
      "cell_type": "code",
      "source": [
        "A.shape"
      ],
      "metadata": {
        "colab": {
          "base_uri": "https://localhost:8080/"
        },
        "id": "NxI9NTvihKbQ",
        "outputId": "1076dc24-4c7c-4c95-ed40-1c20fd515a7a"
      },
      "execution_count": null,
      "outputs": [
        {
          "output_type": "execute_result",
          "data": {
            "text/plain": [
              "(3, 3)"
            ]
          },
          "metadata": {},
          "execution_count": 25
        }
      ]
    },
    {
      "cell_type": "code",
      "source": [
        "print(\"dot(A, a1):\"); print(dot(A, a1))"
      ],
      "metadata": {
        "colab": {
          "base_uri": "https://localhost:8080/"
        },
        "id": "3lyz6IoYg_C5",
        "outputId": "a98b6412-daeb-4580-9b22-d5ea6808c660"
      },
      "execution_count": null,
      "outputs": [
        {
          "output_type": "stream",
          "name": "stdout",
          "text": [
            "dot(A, a1):\n",
            "[14 32 50]\n"
          ]
        }
      ]
    },
    {
      "cell_type": "code",
      "source": [
        "print(\"dot(A, ar):\"); print(dot(A, ar))"
      ],
      "metadata": {
        "colab": {
          "base_uri": "https://localhost:8080/"
        },
        "id": "QYNpgieMhR1Y",
        "outputId": "c6558d02-0d09-469d-c568-8874f62936b6"
      },
      "execution_count": null,
      "outputs": [
        {
          "output_type": "stream",
          "name": "stdout",
          "text": [
            "dot(A, ar):\n",
            "fails\n"
          ]
        }
      ]
    },
    {
      "cell_type": "code",
      "source": [
        "print(\"dot(A, ac):\"); print(dot(A, ac))"
      ],
      "metadata": {
        "colab": {
          "base_uri": "https://localhost:8080/"
        },
        "id": "_09SFJJen47O",
        "outputId": "07886466-4cb1-4cb6-8ca0-7472aa4cfddd"
      },
      "execution_count": null,
      "outputs": [
        {
          "output_type": "stream",
          "name": "stdout",
          "text": [
            "dot(A, ac):\n",
            "[[14]\n",
            " [32]\n",
            " [50]]\n"
          ]
        }
      ]
    },
    {
      "cell_type": "code",
      "source": [
        "print(\"dot(a1, A):\"); print(dot(a1, A))"
      ],
      "metadata": {
        "colab": {
          "base_uri": "https://localhost:8080/"
        },
        "id": "Ecsyd8C-oHEO",
        "outputId": "4e50074d-35d3-4e05-cb9b-e933a877848e"
      },
      "execution_count": null,
      "outputs": [
        {
          "output_type": "stream",
          "name": "stdout",
          "text": [
            "dot(a1, A):\n",
            "[30 36 42]\n"
          ]
        }
      ]
    },
    {
      "cell_type": "code",
      "source": [
        "print(a1.shape, A.shape)"
      ],
      "metadata": {
        "colab": {
          "base_uri": "https://localhost:8080/"
        },
        "id": "z_ZLpOyMpbr_",
        "outputId": "7a0c6ead-90e7-462b-e4a0-9136b359012a"
      },
      "execution_count": null,
      "outputs": [
        {
          "output_type": "stream",
          "name": "stdout",
          "text": [
            "(3,) (3, 3)\n"
          ]
        }
      ]
    },
    {
      "cell_type": "code",
      "source": [
        "print(\"dot(ar, A):\"); print(dot(ar, A))"
      ],
      "metadata": {
        "colab": {
          "base_uri": "https://localhost:8080/"
        },
        "id": "rAQidbutohDt",
        "outputId": "f2ac6b4c-5e92-42fd-8eb3-2ffa75e186f6"
      },
      "execution_count": null,
      "outputs": [
        {
          "output_type": "stream",
          "name": "stdout",
          "text": [
            "dot(ar, A):\n",
            "[[30 36 42]]\n"
          ]
        }
      ]
    },
    {
      "cell_type": "code",
      "source": [
        "print(\"dot(ac,A):\"); print(dot(ac,A))"
      ],
      "metadata": {
        "colab": {
          "base_uri": "https://localhost:8080/"
        },
        "id": "uha5Wk1jp3-I",
        "outputId": "89e272e4-0c1f-4390-8050-44daa6bb8605"
      },
      "execution_count": null,
      "outputs": [
        {
          "output_type": "stream",
          "name": "stdout",
          "text": [
            "dot(ac,A):\n",
            "fails\n"
          ]
        }
      ]
    },
    {
      "cell_type": "code",
      "source": [
        "print(\"dot(A,B):\"); print(dot(A,B))"
      ],
      "metadata": {
        "colab": {
          "base_uri": "https://localhost:8080/"
        },
        "id": "sjQr3kCwqKLq",
        "outputId": "28203d7e-da51-4084-93aa-fa1b8308bfee"
      },
      "execution_count": null,
      "outputs": [
        {
          "output_type": "stream",
          "name": "stdout",
          "text": [
            "dot(A,B):\n",
            "[[ 30  24  18]\n",
            " [ 84  69  54]\n",
            " [138 114  90]]\n"
          ]
        }
      ]
    },
    {
      "cell_type": "code",
      "source": [
        "print(np.outer(A, B.transpose()))"
      ],
      "metadata": {
        "colab": {
          "base_uri": "https://localhost:8080/"
        },
        "id": "ISBsxlvSqSga",
        "outputId": "3b2b55c8-2371-4c55-afa5-8545fcaf23e4"
      },
      "execution_count": null,
      "outputs": [
        {
          "output_type": "stream",
          "name": "stdout",
          "text": [
            "[[ 9  6  3  8  5  2  7  4  1]\n",
            " [18 12  6 16 10  4 14  8  2]\n",
            " [27 18  9 24 15  6 21 12  3]\n",
            " [36 24 12 32 20  8 28 16  4]\n",
            " [45 30 15 40 25 10 35 20  5]\n",
            " [54 36 18 48 30 12 42 24  6]\n",
            " [63 42 21 56 35 14 49 28  7]\n",
            " [72 48 24 64 40 16 56 32  8]\n",
            " [81 54 27 72 45 18 63 36  9]]\n"
          ]
        }
      ]
    },
    {
      "cell_type": "code",
      "source": [
        "print(np.outer(ac, br))"
      ],
      "metadata": {
        "colab": {
          "base_uri": "https://localhost:8080/"
        },
        "id": "H5XVBTxxuzmF",
        "outputId": "b1df3020-775c-4a79-f2d1-fc3630abcbf7"
      },
      "execution_count": null,
      "outputs": [
        {
          "output_type": "stream",
          "name": "stdout",
          "text": [
            "[[1 2 3]\n",
            " [2 4 6]\n",
            " [3 6 9]]\n"
          ]
        }
      ]
    },
    {
      "cell_type": "code",
      "source": [],
      "metadata": {
        "id": "UpoQrajpvAji"
      },
      "execution_count": null,
      "outputs": []
    }
  ]
}