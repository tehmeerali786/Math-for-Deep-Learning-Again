{
  "nbformat": 4,
  "nbformat_minor": 0,
  "metadata": {
    "colab": {
      "name": "Math for Deep Learning Chapter 5.ipynb",
      "provenance": [],
      "collapsed_sections": []
    },
    "kernelspec": {
      "name": "python3",
      "display_name": "Python 3"
    },
    "language_info": {
      "name": "python"
    }
  },
  "cells": [
    {
      "cell_type": "code",
      "execution_count": null,
      "metadata": {
        "id": "_1dZtQk7NiYh",
        "colab": {
          "base_uri": "https://localhost:8080/"
        },
        "outputId": "9699b9c2-424e-49d7-b22e-3eeb22a6e3ed"
      },
      "outputs": [
        {
          "output_type": "execute_result",
          "data": {
            "text/plain": [
              "66"
            ]
          },
          "metadata": {},
          "execution_count": 1
        }
      ],
      "source": [
        "# Scalar 0D\n",
        "s = 66\n",
        "s"
      ]
    },
    {
      "cell_type": "code",
      "source": [
        "# Vector 1D\n",
        "# Row Vector and Column Vector\n",
        "import numpy as np\n",
        "x = np.array([1, 2, 3])\n",
        "print(x)\n",
        "print(x.reshape((3, 1)))\n"
      ],
      "metadata": {
        "colab": {
          "base_uri": "https://localhost:8080/"
        },
        "id": "1hcwk9fFhq-X",
        "outputId": "4e29b2e8-4c85-4edb-c6b8-cfdd621aba96"
      },
      "execution_count": null,
      "outputs": [
        {
          "output_type": "stream",
          "name": "stdout",
          "text": [
            "[1 2 3]\n",
            "[[1]\n",
            " [2]\n",
            " [3]]\n"
          ]
        }
      ]
    },
    {
      "cell_type": "code",
      "source": [
        "# Matrices 2D Arrays\n",
        "A = np.array([[1, 2, 3], [4, 5, 6], [7, 8, 9]])\n",
        "print(A)\n",
        "print(np.arange(12).reshape((3, 4)))"
      ],
      "metadata": {
        "colab": {
          "base_uri": "https://localhost:8080/"
        },
        "id": "PX7FSIBaiFZ8",
        "outputId": "04bbbfab-b0e6-4c14-9915-d894dff320fb"
      },
      "execution_count": null,
      "outputs": [
        {
          "output_type": "stream",
          "name": "stdout",
          "text": [
            "[[1 2 3]\n",
            " [4 5 6]\n",
            " [7 8 9]]\n",
            "[[ 0  1  2  3]\n",
            " [ 4  5  6  7]\n",
            " [ 8  9 10 11]]\n"
          ]
        }
      ]
    },
    {
      "cell_type": "code",
      "source": [
        "# Tensors are 3D or more \n",
        "t = np.arange(36).reshape((3, 3, 4))\n",
        "print(t)"
      ],
      "metadata": {
        "colab": {
          "base_uri": "https://localhost:8080/"
        },
        "id": "Skl6gTGnkyBZ",
        "outputId": "9b158e20-f011-4d74-d7d4-128484d4dbe5"
      },
      "execution_count": null,
      "outputs": [
        {
          "output_type": "stream",
          "name": "stdout",
          "text": [
            "[[[ 0  1  2  3]\n",
            "  [ 4  5  6  7]\n",
            "  [ 8  9 10 11]]\n",
            "\n",
            " [[12 13 14 15]\n",
            "  [16 17 18 19]\n",
            "  [20 21 22 23]]\n",
            "\n",
            " [[24 25 26 27]\n",
            "  [28 29 30 31]\n",
            "  [32 33 34 35]]]\n"
          ]
        }
      ]
    },
    {
      "cell_type": "code",
      "source": [
        "print(t[0])"
      ],
      "metadata": {
        "colab": {
          "base_uri": "https://localhost:8080/"
        },
        "id": "eTB7-hk7lJrH",
        "outputId": "3bd4ff7a-aa5f-40ce-9328-bf45bedbafea"
      },
      "execution_count": null,
      "outputs": [
        {
          "output_type": "stream",
          "name": "stdout",
          "text": [
            "[[ 0  1  2  3]\n",
            " [ 4  5  6  7]\n",
            " [ 8  9 10 11]]\n"
          ]
        }
      ]
    },
    {
      "cell_type": "code",
      "source": [
        "print(t[0, 1])"
      ],
      "metadata": {
        "colab": {
          "base_uri": "https://localhost:8080/"
        },
        "id": "avqGy20ZmFWE",
        "outputId": "3b04b3b5-793b-445c-ce3c-1177a912aaf6"
      },
      "execution_count": null,
      "outputs": [
        {
          "output_type": "stream",
          "name": "stdout",
          "text": [
            "[4 5 6 7]\n"
          ]
        }
      ]
    },
    {
      "cell_type": "code",
      "source": [
        "print(t[0, 1, 2])"
      ],
      "metadata": {
        "colab": {
          "base_uri": "https://localhost:8080/"
        },
        "id": "rWuhkkxumNdU",
        "outputId": "43d92d1b-884a-4ea6-97b6-13b31354f5d1"
      },
      "execution_count": null,
      "outputs": [
        {
          "output_type": "stream",
          "name": "stdout",
          "text": [
            "6\n"
          ]
        }
      ]
    },
    {
      "cell_type": "code",
      "source": [
        "# We can define 5 Order Tensor like this\n",
        "w = np.zeros((9, 9, 9, 9, 9))\n",
        "w[4, 1, 2, 0, 1]"
      ],
      "metadata": {
        "colab": {
          "base_uri": "https://localhost:8080/"
        },
        "id": "JJXug2hFmRM0",
        "outputId": "19774145-27ef-4d3d-bdb9-0498bbf7a307"
      },
      "execution_count": null,
      "outputs": [
        {
          "output_type": "execute_result",
          "data": {
            "text/plain": [
              "0.0"
            ]
          },
          "metadata": {},
          "execution_count": 8
        }
      ]
    },
    {
      "cell_type": "code",
      "source": [
        "# We can treat scalar as high order tensor\n",
        "t = np.array(42).reshape((1, 1, 1, 1, 1))\n",
        "print(t)\n",
        "print(t.shape)\n",
        "t[0, 0, 0, 0, 0]"
      ],
      "metadata": {
        "colab": {
          "base_uri": "https://localhost:8080/"
        },
        "id": "h8GyOT-pnBXE",
        "outputId": "892e96bd-9b07-44fb-9343-f6cd7b253d41"
      },
      "execution_count": null,
      "outputs": [
        {
          "output_type": "stream",
          "name": "stdout",
          "text": [
            "[[[[[42]]]]]\n",
            "(1, 1, 1, 1, 1)\n"
          ]
        },
        {
          "output_type": "execute_result",
          "data": {
            "text/plain": [
              "42"
            ]
          },
          "metadata": {},
          "execution_count": 10
        }
      ]
    },
    {
      "cell_type": "code",
      "source": [
        "# Adding 1 as dimension at first\n",
        "t = np.array([[1, 2, 3], [4, 5, 6]])\n",
        "print(t)\n",
        "\n",
        "w = t[np.newaxis, :, :]\n",
        "print(w.shape)\n",
        "print(w)"
      ],
      "metadata": {
        "colab": {
          "base_uri": "https://localhost:8080/"
        },
        "id": "N2ddigXQpBda",
        "outputId": "b2e7e558-3f75-44e8-e4ca-1649003d71f6"
      },
      "execution_count": null,
      "outputs": [
        {
          "output_type": "stream",
          "name": "stdout",
          "text": [
            "[[1 2 3]\n",
            " [4 5 6]]\n",
            "(1, 2, 3)\n",
            "[[[1 2 3]\n",
            "  [4 5 6]]]\n"
          ]
        }
      ]
    },
    {
      "cell_type": "code",
      "source": [
        "# Arithematic with Tensors\n",
        "a = np.array([[1, 2, 3], [4, 5, 6]])\n",
        "b = np.array([[7, 8, 9], [10, 11, 12]])\n",
        "c = np.array([10, 100, 1000])\n",
        "d = np.array([10, 11])\n",
        "\n",
        "print(a)\n",
        "print(b)\n",
        "print(c)\n",
        "print(d)"
      ],
      "metadata": {
        "colab": {
          "base_uri": "https://localhost:8080/"
        },
        "id": "8Zy1jj0HqcAu",
        "outputId": "715eac79-c066-46af-9471-4fa1affc5373"
      },
      "execution_count": null,
      "outputs": [
        {
          "output_type": "stream",
          "name": "stdout",
          "text": [
            "[[1 2 3]\n",
            " [4 5 6]]\n",
            "[[ 7  8  9]\n",
            " [10 11 12]]\n",
            "[  10  100 1000]\n",
            "[10 11]\n"
          ]
        }
      ]
    },
    {
      "cell_type": "code",
      "source": [
        "# Arithematic operations are done element wise\n",
        "print(a+b)\n",
        "print('\\n')\n",
        "print(a-b)\n",
        "print('\\n')\n",
        "print(a*b)\n",
        "print('\\n')\n",
        "print(a/b)"
      ],
      "metadata": {
        "colab": {
          "base_uri": "https://localhost:8080/"
        },
        "id": "oJu2ozKlsP2L",
        "outputId": "0d86f6d6-6a41-448e-9359-599eccb2006f"
      },
      "execution_count": null,
      "outputs": [
        {
          "output_type": "stream",
          "name": "stdout",
          "text": [
            "[[ 8 10 12]\n",
            " [14 16 18]]\n",
            "\n",
            "\n",
            "[[-6 -6 -6]\n",
            " [-6 -6 -6]]\n",
            "\n",
            "\n",
            "[[ 7 16 27]\n",
            " [40 55 72]]\n",
            "\n",
            "\n",
            "[[0.14285714 0.25       0.33333333]\n",
            " [0.4        0.45454545 0.5       ]]\n"
          ]
        }
      ]
    },
    {
      "cell_type": "code",
      "source": [
        "# Broadcasting c to a\n",
        "print(a+c)\n",
        "print('\\n')\n",
        "print(c*a)\n",
        "print('\\n')\n",
        "print(a/c)"
      ],
      "metadata": {
        "colab": {
          "base_uri": "https://localhost:8080/"
        },
        "id": "Yq1ZOIZPtFm4",
        "outputId": "7fafaaa4-825a-49eb-b31a-839d5aeef64b"
      },
      "execution_count": null,
      "outputs": [
        {
          "output_type": "stream",
          "name": "stdout",
          "text": [
            "[[  11  102 1003]\n",
            " [  14  105 1006]]\n",
            "\n",
            "\n",
            "[[  10  200 3000]\n",
            " [  40  500 6000]]\n",
            "\n",
            "\n",
            "[[0.1   0.02  0.003]\n",
            " [0.4   0.05  0.006]]\n"
          ]
        }
      ]
    },
    {
      "cell_type": "code",
      "source": [
        "# d cannot be broadcasted because its last dimension is diferent\n",
        "print(a+d)"
      ],
      "metadata": {
        "colab": {
          "base_uri": "https://localhost:8080/",
          "height": 183
        },
        "id": "F3wNKOaRw16E",
        "outputId": "772265b6-c990-4961-e3b6-3f34ede1f850"
      },
      "execution_count": null,
      "outputs": [
        {
          "output_type": "error",
          "ename": "ValueError",
          "evalue": "ignored",
          "traceback": [
            "\u001b[0;31m---------------------------------------------------------------------------\u001b[0m",
            "\u001b[0;31mValueError\u001b[0m                                Traceback (most recent call last)",
            "\u001b[0;32m<ipython-input-15-1e3ae8b867df>\u001b[0m in \u001b[0;36m<module>\u001b[0;34m()\u001b[0m\n\u001b[1;32m      1\u001b[0m \u001b[0;31m# d cannot be broadcasted because its last dimension is diferent\u001b[0m\u001b[0;34m\u001b[0m\u001b[0;34m\u001b[0m\u001b[0;34m\u001b[0m\u001b[0m\n\u001b[0;32m----> 2\u001b[0;31m \u001b[0mprint\u001b[0m\u001b[0;34m(\u001b[0m\u001b[0ma\u001b[0m\u001b[0;34m+\u001b[0m\u001b[0md\u001b[0m\u001b[0;34m)\u001b[0m\u001b[0;34m\u001b[0m\u001b[0;34m\u001b[0m\u001b[0m\n\u001b[0m",
            "\u001b[0;31mValueError\u001b[0m: operands could not be broadcast together with shapes (2,3) (2,) "
          ]
        }
      ]
    },
    {
      "cell_type": "code",
      "source": [
        "d = d.reshape((2, 1))\n",
        "print(d)"
      ],
      "metadata": {
        "colab": {
          "base_uri": "https://localhost:8080/"
        },
        "id": "Ty_mRxvwxIJR",
        "outputId": "5251675a-0931-4603-9323-b08e2c785656"
      },
      "execution_count": null,
      "outputs": [
        {
          "output_type": "stream",
          "name": "stdout",
          "text": [
            "[[10]\n",
            " [11]]\n"
          ]
        }
      ]
    },
    {
      "cell_type": "code",
      "source": [
        "print(d.shape)"
      ],
      "metadata": {
        "colab": {
          "base_uri": "https://localhost:8080/"
        },
        "id": "howDPyprxQQQ",
        "outputId": "8fb9041d-3cc7-4c7f-aec2-fb4ef3d1fa09"
      },
      "execution_count": null,
      "outputs": [
        {
          "output_type": "stream",
          "name": "stdout",
          "text": [
            "(2, 1)\n"
          ]
        }
      ]
    },
    {
      "cell_type": "code",
      "source": [
        "print(a+d)"
      ],
      "metadata": {
        "colab": {
          "base_uri": "https://localhost:8080/"
        },
        "id": "WMsvMgvhxjJg",
        "outputId": "b9bef79c-8756-4611-aaef-ca66ab1c5e04"
      },
      "execution_count": null,
      "outputs": [
        {
          "output_type": "stream",
          "name": "stdout",
          "text": [
            "[[11 12 13]\n",
            " [15 16 17]]\n"
          ]
        }
      ]
    },
    {
      "cell_type": "code",
      "source": [
        "import numpy as np"
      ],
      "metadata": {
        "id": "CMCqKGAqxsnR"
      },
      "execution_count": 1,
      "outputs": []
    },
    {
      "cell_type": "code",
      "source": [
        "# Unit vector is vector divided by the magnitude\n",
        "# Pythogorus theorm c**2 = a**2 + b**2\n",
        "v = np.array((2, -4, 3))\n",
        "u = v / np.sqrt((v*v).sum())\n",
        "print(u)"
      ],
      "metadata": {
        "colab": {
          "base_uri": "https://localhost:8080/"
        },
        "id": "YD1CBTeP-d_B",
        "outputId": "792b5c26-5944-4c2e-eca8-cc28d2c085d1"
      },
      "execution_count": 2,
      "outputs": [
        {
          "output_type": "stream",
          "name": "stdout",
          "text": [
            "[ 0.37139068 -0.74278135  0.55708601]\n"
          ]
        }
      ]
    },
    {
      "cell_type": "code",
      "source": [
        "# vector transpose in numpy\n",
        "v = np.array([1, 2, 3])\n",
        "print(v)"
      ],
      "metadata": {
        "colab": {
          "base_uri": "https://localhost:8080/"
        },
        "id": "nU0eXAR0_AWO",
        "outputId": "1da22434-db9a-400a-aafc-bcaa920dd238"
      },
      "execution_count": 3,
      "outputs": [
        {
          "output_type": "stream",
          "name": "stdout",
          "text": [
            "[1 2 3]\n"
          ]
        }
      ]
    },
    {
      "cell_type": "code",
      "source": [
        "print(v.reshape((3, 1)))\n",
        "print(v.reshape((1, 3)))"
      ],
      "metadata": {
        "colab": {
          "base_uri": "https://localhost:8080/"
        },
        "id": "1uTwPZNF_NY7",
        "outputId": "7b2ed917-22a1-4666-deac-5c37a2867925"
      },
      "execution_count": 4,
      "outputs": [
        {
          "output_type": "stream",
          "name": "stdout",
          "text": [
            "[[1]\n",
            " [2]\n",
            " [3]]\n",
            "[[1 2 3]]\n"
          ]
        }
      ]
    },
    {
      "cell_type": "code",
      "source": [
        "# simple array cannot transpose\n",
        "print(v.transpose())\n",
        "print(v.T)"
      ],
      "metadata": {
        "colab": {
          "base_uri": "https://localhost:8080/"
        },
        "id": "whVsDP1f_UXs",
        "outputId": "d629a4a8-2d35-4c31-e139-c88af078f6dc"
      },
      "execution_count": 5,
      "outputs": [
        {
          "output_type": "stream",
          "name": "stdout",
          "text": [
            "[1 2 3]\n",
            "[1 2 3]\n"
          ]
        }
      ]
    },
    {
      "cell_type": "code",
      "source": [
        "# you have to make v as vector first\n",
        "v = v.reshape((1, 3))\n",
        "print(v)"
      ],
      "metadata": {
        "colab": {
          "base_uri": "https://localhost:8080/"
        },
        "id": "j85AXmbo_i18",
        "outputId": "53364845-1823-475e-b2ad-a94086156b26"
      },
      "execution_count": 6,
      "outputs": [
        {
          "output_type": "stream",
          "name": "stdout",
          "text": [
            "[[1 2 3]]\n"
          ]
        }
      ]
    },
    {
      "cell_type": "code",
      "source": [
        "print(v.transpose())\n",
        "print(v.T)"
      ],
      "metadata": {
        "colab": {
          "base_uri": "https://localhost:8080/"
        },
        "id": "k3ftevjo_wCc",
        "outputId": "8877c2e5-7e90-43f2-8e05-819e15b4d8ec"
      },
      "execution_count": 7,
      "outputs": [
        {
          "output_type": "stream",
          "name": "stdout",
          "text": [
            "[[1]\n",
            " [2]\n",
            " [3]]\n",
            "[[1]\n",
            " [2]\n",
            " [3]]\n"
          ]
        }
      ]
    },
    {
      "cell_type": "code",
      "source": [
        "# dot product/inner product function\n",
        "a = np.array([1, 2, 3, 4])\n",
        "b = np.array([5, 6, 7, 8])\n",
        "\n",
        "def inner(a, b):\n",
        "  s = 0.0\n",
        "  for i in range(len(a)):\n",
        "    s = s + a[i] * b[i]\n",
        "  return s\n",
        "\n",
        "inner(a, b)"
      ],
      "metadata": {
        "colab": {
          "base_uri": "https://localhost:8080/"
        },
        "id": "eNEnVfkF_0KL",
        "outputId": "99cd8720-7a50-4652-8aa4-d85d055da64f"
      },
      "execution_count": 8,
      "outputs": [
        {
          "output_type": "execute_result",
          "data": {
            "text/plain": [
              "70.0"
            ]
          },
          "metadata": {},
          "execution_count": 8
        }
      ]
    },
    {
      "cell_type": "code",
      "source": [
        "# but with numpym, you can do it much easier\n",
        "(a*b).sum()"
      ],
      "metadata": {
        "colab": {
          "base_uri": "https://localhost:8080/"
        },
        "id": "4pn5J-5kAsdr",
        "outputId": "23ae9a1d-3cac-43f6-cc3b-c2fa0e3fcc5f"
      },
      "execution_count": 9,
      "outputs": [
        {
          "output_type": "execute_result",
          "data": {
            "text/plain": [
              "70"
            ]
          },
          "metadata": {},
          "execution_count": 9
        }
      ]
    },
    {
      "cell_type": "code",
      "source": [
        "# also\n",
        "np.dot(a,b)"
      ],
      "metadata": {
        "colab": {
          "base_uri": "https://localhost:8080/"
        },
        "id": "Gam4OsIQA2KZ",
        "outputId": "a27bc138-2c22-4cdc-f40f-f8d3fa10e4ec"
      },
      "execution_count": 10,
      "outputs": [
        {
          "output_type": "execute_result",
          "data": {
            "text/plain": [
              "70"
            ]
          },
          "metadata": {},
          "execution_count": 10
        }
      ]
    },
    {
      "cell_type": "code",
      "source": [
        "# dot product is alos a.b = cos(angle) ||a|| ||b||\n",
        "# so angle = cos to the power -1  (a.b/||a|| ||b||)\n",
        "A = np.sqrt(np.dot(a, a))\n",
        "B = np.sqrt(np.dot(b, b))\n",
        "t = np.arccos(np.dot(a, b)/(A*B))\n",
        "# Converting radians into angles\n",
        "t * (180/np.pi)"
      ],
      "metadata": {
        "colab": {
          "base_uri": "https://localhost:8080/"
        },
        "id": "vb2lKEE6A6GJ",
        "outputId": "2e1fb391-91f1-40d9-b4c4-a09384ffea5e"
      },
      "execution_count": 12,
      "outputs": [
        {
          "output_type": "execute_result",
          "data": {
            "text/plain": [
              "14.335170291600924"
            ]
          },
          "metadata": {},
          "execution_count": 12
        }
      ]
    },
    {
      "cell_type": "code",
      "source": [
        "# in 3D space, othognol vectors dot product is 0\n",
        "a = np.array([1, 0, 0])\n",
        "b = np.array([0, 1, 0])\n",
        "np.dot(a, b)\n"
      ],
      "metadata": {
        "colab": {
          "base_uri": "https://localhost:8080/"
        },
        "id": "U-cM4bV6BveZ",
        "outputId": "5cd9b8fe-6b36-4cb1-b78d-7f2ab399cc79"
      },
      "execution_count": 13,
      "outputs": [
        {
          "output_type": "execute_result",
          "data": {
            "text/plain": [
              "0"
            ]
          },
          "metadata": {},
          "execution_count": 13
        }
      ]
    },
    {
      "cell_type": "code",
      "source": [
        "# taking angle 0 dot product is 90 degrees\n",
        "t = np.arccos(0)\n",
        "print(t*(180/np.pi))"
      ],
      "metadata": {
        "colab": {
          "base_uri": "https://localhost:8080/"
        },
        "id": "sfti6Zp8CoST",
        "outputId": "b1fc60a6-f57a-43a0-caa5-af9acdb3ae3b"
      },
      "execution_count": 15,
      "outputs": [
        {
          "output_type": "stream",
          "name": "stdout",
          "text": [
            "90.0\n"
          ]
        }
      ]
    },
    {
      "cell_type": "code",
      "source": [
        "# The projection of one vector onto another calculates the amount of the fist vector that's in the direction of the second.\n",
        "# The projection of a onto b is \n",
        "# projb a = (a.b/(||b||**2))*b\n",
        "a = np.array([1, 1])\n",
        "b = np.array([1, 0])\n",
        "p = (np.dot(a, b)/np.dot(b, b)) * b\n",
        "print(p)"
      ],
      "metadata": {
        "colab": {
          "base_uri": "https://localhost:8080/"
        },
        "id": "RCZFdp7PC2NV",
        "outputId": "178ad673-6114-47fe-f029-f204775edb10"
      },
      "execution_count": 16,
      "outputs": [
        {
          "output_type": "stream",
          "name": "stdout",
          "text": [
            "[1. 0.]\n"
          ]
        }
      ]
    },
    {
      "cell_type": "code",
      "source": [
        "c = np.array([-1, 1])\n",
        "p = (np.dot(c, b)/np.dot(b, b))*b\n",
        "print(p)"
      ],
      "metadata": {
        "colab": {
          "base_uri": "https://localhost:8080/"
        },
        "id": "2pbkK77iEivT",
        "outputId": "6a177a39-09ff-4015-a689-434dbfc30645"
      },
      "execution_count": 17,
      "outputs": [
        {
          "output_type": "stream",
          "name": "stdout",
          "text": [
            "[-1. -0.]\n"
          ]
        }
      ]
    },
    {
      "cell_type": "code",
      "source": [
        "# Outer product is multiplying each component of a with b\n",
        "# It returns a matrix\n",
        "a = np.array([1, 2, 3, 4])\n",
        "b = np.array([5, 6, 7, 8])\n",
        "np.dot(a, b)"
      ],
      "metadata": {
        "colab": {
          "base_uri": "https://localhost:8080/"
        },
        "id": "sjpkj1NfE_7y",
        "outputId": "88243e58-91ca-4c43-b14a-6d52066a6c22"
      },
      "execution_count": 18,
      "outputs": [
        {
          "output_type": "execute_result",
          "data": {
            "text/plain": [
              "70"
            ]
          },
          "metadata": {},
          "execution_count": 18
        }
      ]
    },
    {
      "cell_type": "code",
      "source": [
        "np.outer(a, b)"
      ],
      "metadata": {
        "colab": {
          "base_uri": "https://localhost:8080/"
        },
        "id": "PeTm6af5Ftjz",
        "outputId": "ba9cc7b1-7df6-456b-8e64-20e52c6f52ff"
      },
      "execution_count": 19,
      "outputs": [
        {
          "output_type": "execute_result",
          "data": {
            "text/plain": [
              "array([[ 5,  6,  7,  8],\n",
              "       [10, 12, 14, 16],\n",
              "       [15, 18, 21, 24],\n",
              "       [20, 24, 28, 32]])"
            ]
          },
          "metadata": {},
          "execution_count": 19
        }
      ]
    },
    {
      "cell_type": "code",
      "source": [
        "# Cross product\n",
        "a = np.array([1, 0, 0])\n",
        "b = np.array([0, 1, 0])\n",
        "print(np.cross(a, b))"
      ],
      "metadata": {
        "colab": {
          "base_uri": "https://localhost:8080/"
        },
        "id": "jUaqdvxrFv5w",
        "outputId": "b26937d9-bde4-4049-eff5-82f86ef2b1b6"
      },
      "execution_count": 20,
      "outputs": [
        {
          "output_type": "stream",
          "name": "stdout",
          "text": [
            "[0 0 1]\n"
          ]
        }
      ]
    },
    {
      "cell_type": "code",
      "source": [
        "c = np.array([1, 1, 0])\n",
        "print(np.cross(a, c))"
      ],
      "metadata": {
        "colab": {
          "base_uri": "https://localhost:8080/"
        },
        "id": "3jYiGq_VGk3C",
        "outputId": "51203a64-49a9-468b-9b9e-45669e417afc"
      },
      "execution_count": 21,
      "outputs": [
        {
          "output_type": "stream",
          "name": "stdout",
          "text": [
            "[0 0 1]\n"
          ]
        }
      ]
    },
    {
      "cell_type": "code",
      "source": [
        "# Matrix Multiplication\n",
        "def matrixmul(A, B):\n",
        "  I, K = A.shape\n",
        "  J = B.shape[1]\n",
        "  C = np.zeros((I, J), dtype=A.dtype)\n",
        "  for i in range(I):\n",
        "    for j in range(J):\n",
        "      for k in range(K):\n",
        "        C[i, j] = C[i, j] + (A[i, k] * B[k, j])\n",
        "\n",
        "  return C"
      ],
      "metadata": {
        "id": "-7DO9TfBGsAP"
      },
      "execution_count": 22,
      "outputs": []
    },
    {
      "cell_type": "code",
      "source": [
        "av = np.array([1, 2, 3])\n",
        "ar = np.array([[1, 2, 3]])\n",
        "ac = np.array([[1], [2], [3]])\n",
        "av.shape"
      ],
      "metadata": {
        "colab": {
          "base_uri": "https://localhost:8080/"
        },
        "id": "_LQuydqEHh_O",
        "outputId": "3ffcc593-83da-4b84-c931-aced07246393"
      },
      "execution_count": 23,
      "outputs": [
        {
          "output_type": "execute_result",
          "data": {
            "text/plain": [
              "(3,)"
            ]
          },
          "metadata": {},
          "execution_count": 23
        }
      ]
    },
    {
      "cell_type": "code",
      "source": [
        "ar.shape"
      ],
      "metadata": {
        "colab": {
          "base_uri": "https://localhost:8080/"
        },
        "id": "JSYFQoVKIdpt",
        "outputId": "8de75ccd-6465-4bab-ca23-f90ab60dddb3"
      },
      "execution_count": 24,
      "outputs": [
        {
          "output_type": "execute_result",
          "data": {
            "text/plain": [
              "(1, 3)"
            ]
          },
          "metadata": {},
          "execution_count": 24
        }
      ]
    },
    {
      "cell_type": "code",
      "source": [
        "ac.shape"
      ],
      "metadata": {
        "colab": {
          "base_uri": "https://localhost:8080/"
        },
        "id": "DvZU_ZPtIfXb",
        "outputId": "c2903813-a6e1-4fb2-f796-d351350c59bb"
      },
      "execution_count": 25,
      "outputs": [
        {
          "output_type": "execute_result",
          "data": {
            "text/plain": [
              "(3, 1)"
            ]
          },
          "metadata": {},
          "execution_count": 25
        }
      ]
    },
    {
      "cell_type": "code",
      "source": [
        "a1 = np.array([1, 2, 3])\n",
        "ar = np.array([[1, 2, 3]])\n",
        "ac = np.array([[1], [2], [3]])\n",
        "b1 = np.array([1, 2, 3])\n",
        "br = np.array([[1, 2, 3]])\n",
        "bc = np.array([[1], [2], [3]])\n",
        "A = np.array([[1, 2, 3], [4, 5, 6], [7, 8, 9]])\n",
        "B = np.array([[9, 8, 7], [6, 5, 4], [3, 2, 1]])"
      ],
      "metadata": {
        "id": "20c3T5ySIh27"
      },
      "execution_count": 26,
      "outputs": []
    },
    {
      "cell_type": "code",
      "source": [
        "# dot function to evaluate matrices multiplication\n",
        "def dot(a, b):\n",
        "  try:\n",
        "    return np.dot(a, b)\n",
        "  except:\n",
        "    return \"fails\""
      ],
      "metadata": {
        "id": "Vo3B171KJvIT"
      },
      "execution_count": 27,
      "outputs": []
    },
    {
      "cell_type": "code",
      "source": [
        "# a1, b1 result 14 (scalar)\n",
        "dot(a1, b1)"
      ],
      "metadata": {
        "colab": {
          "base_uri": "https://localhost:8080/"
        },
        "id": "lTU1M88tKH74",
        "outputId": "e49100a3-1c5f-462e-f6f2-327a804d1557"
      },
      "execution_count": 28,
      "outputs": [
        {
          "output_type": "execute_result",
          "data": {
            "text/plain": [
              "14"
            ]
          },
          "metadata": {},
          "execution_count": 28
        }
      ]
    },
    {
      "cell_type": "code",
      "source": [
        "# a1, br (fails)\n",
        "dot(a1, br)"
      ],
      "metadata": {
        "colab": {
          "base_uri": "https://localhost:8080/",
          "height": 35
        },
        "id": "gKY_U3n-KTNY",
        "outputId": "55a94474-af66-4153-d53f-ff5bfa577976"
      },
      "execution_count": 29,
      "outputs": [
        {
          "output_type": "execute_result",
          "data": {
            "application/vnd.google.colaboratory.intrinsic+json": {
              "type": "string"
            },
            "text/plain": [
              "'fails'"
            ]
          },
          "metadata": {},
          "execution_count": 29
        }
      ]
    },
    {
      "cell_type": "code",
      "source": [
        "# a1, bc [14] (1 Vector)\n",
        "dot(a1, bc)"
      ],
      "metadata": {
        "colab": {
          "base_uri": "https://localhost:8080/"
        },
        "id": "zWSZ1N-VKfrn",
        "outputId": "4593fef7-fd2e-44a4-f2f3-c531c6a56357"
      },
      "execution_count": 30,
      "outputs": [
        {
          "output_type": "execute_result",
          "data": {
            "text/plain": [
              "array([14])"
            ]
          },
          "metadata": {},
          "execution_count": 30
        }
      ]
    },
    {
      "cell_type": "code",
      "source": [
        "# ar, b1 [14] (1 Vector)\n",
        "dot(ar, b1)"
      ],
      "metadata": {
        "colab": {
          "base_uri": "https://localhost:8080/"
        },
        "id": "z6-XHz6oMv12",
        "outputId": "c385918d-70bc-4b78-b2ad-38455f657ce8"
      },
      "execution_count": 31,
      "outputs": [
        {
          "output_type": "execute_result",
          "data": {
            "text/plain": [
              "array([14])"
            ]
          },
          "metadata": {},
          "execution_count": 31
        }
      ]
    },
    {
      "cell_type": "code",
      "source": [
        "# ac, b1 (fails)\n",
        "dot(ac, b1)"
      ],
      "metadata": {
        "colab": {
          "base_uri": "https://localhost:8080/",
          "height": 35
        },
        "id": "OsfOdyJ-NDKS",
        "outputId": "9c40efe5-135a-431d-c05c-ed4bf68d878b"
      },
      "execution_count": 32,
      "outputs": [
        {
          "output_type": "execute_result",
          "data": {
            "application/vnd.google.colaboratory.intrinsic+json": {
              "type": "string"
            },
            "text/plain": [
              "'fails'"
            ]
          },
          "metadata": {},
          "execution_count": 32
        }
      ]
    },
    {
      "cell_type": "code",
      "source": [
        "# ac, br outerproduct\n",
        "dot(ac, br)"
      ],
      "metadata": {
        "colab": {
          "base_uri": "https://localhost:8080/"
        },
        "id": "eA2zChPwN50j",
        "outputId": "d93363dd-b724-45d3-b8b3-ee11325e62a1"
      },
      "execution_count": 33,
      "outputs": [
        {
          "output_type": "execute_result",
          "data": {
            "text/plain": [
              "array([[1, 2, 3],\n",
              "       [2, 4, 6],\n",
              "       [3, 6, 9]])"
            ]
          },
          "metadata": {},
          "execution_count": 33
        }
      ]
    },
    {
      "cell_type": "code",
      "source": [
        "# ac, bc (fails)\n",
        "dot(ac, bc)"
      ],
      "metadata": {
        "colab": {
          "base_uri": "https://localhost:8080/",
          "height": 35
        },
        "id": "WJcRL337N_wz",
        "outputId": "f4a4a028-db50-4fa3-857c-3d7e5f8f0256"
      },
      "execution_count": 34,
      "outputs": [
        {
          "output_type": "execute_result",
          "data": {
            "application/vnd.google.colaboratory.intrinsic+json": {
              "type": "string"
            },
            "text/plain": [
              "'fails'"
            ]
          },
          "metadata": {},
          "execution_count": 34
        }
      ]
    },
    {
      "cell_type": "code",
      "source": [
        "# A, a1 [14, 32, 50] (3 Vector)\n",
        "dot(A, a1)"
      ],
      "metadata": {
        "colab": {
          "base_uri": "https://localhost:8080/"
        },
        "id": "z0VXCLTKOKYx",
        "outputId": "1c22b44c-3220-4a46-dedb-c2e47457c3cf"
      },
      "execution_count": 35,
      "outputs": [
        {
          "output_type": "execute_result",
          "data": {
            "text/plain": [
              "array([14, 32, 50])"
            ]
          },
          "metadata": {},
          "execution_count": 35
        }
      ]
    },
    {
      "cell_type": "code",
      "source": [
        "# A, ar (fails)\n",
        "dot(A, ar)"
      ],
      "metadata": {
        "colab": {
          "base_uri": "https://localhost:8080/",
          "height": 35
        },
        "id": "05Yk6NkrOYLg",
        "outputId": "5fa88f06-288f-4123-f8b8-44b9abfdb092"
      },
      "execution_count": 36,
      "outputs": [
        {
          "output_type": "execute_result",
          "data": {
            "application/vnd.google.colaboratory.intrinsic+json": {
              "type": "string"
            },
            "text/plain": [
              "'fails'"
            ]
          },
          "metadata": {},
          "execution_count": 36
        }
      ]
    },
    {
      "cell_type": "code",
      "source": [
        "# A, ac column vector [14, 32, 50]\n",
        "dot(A, ac)"
      ],
      "metadata": {
        "colab": {
          "base_uri": "https://localhost:8080/"
        },
        "id": "kZUokIvSOhXC",
        "outputId": "306ea495-f67c-439b-ac66-aac32f4d35c3"
      },
      "execution_count": 37,
      "outputs": [
        {
          "output_type": "execute_result",
          "data": {
            "text/plain": [
              "array([[14],\n",
              "       [32],\n",
              "       [50]])"
            ]
          },
          "metadata": {},
          "execution_count": 37
        }
      ]
    },
    {
      "cell_type": "code",
      "source": [
        "# a1, A [30, 36, 42] (3 Vector)\n",
        "dot(a1, A)"
      ],
      "metadata": {
        "colab": {
          "base_uri": "https://localhost:8080/"
        },
        "id": "oegrMFYHOrLQ",
        "outputId": "0cb6336d-21c8-46fe-daba-f2df57f0c0fb"
      },
      "execution_count": 38,
      "outputs": [
        {
          "output_type": "execute_result",
          "data": {
            "text/plain": [
              "array([30, 36, 42])"
            ]
          },
          "metadata": {},
          "execution_count": 38
        }
      ]
    },
    {
      "cell_type": "code",
      "source": [
        "# ar, A [30, 36, 42] (1 x 3 matrix)\n",
        "dot(ar, A)"
      ],
      "metadata": {
        "colab": {
          "base_uri": "https://localhost:8080/"
        },
        "id": "iO54AGYeO55w",
        "outputId": "e600846c-3e94-4126-ea77-ee46ea815f86"
      },
      "execution_count": 39,
      "outputs": [
        {
          "output_type": "execute_result",
          "data": {
            "text/plain": [
              "array([[30, 36, 42]])"
            ]
          },
          "metadata": {},
          "execution_count": 39
        }
      ]
    },
    {
      "cell_type": "code",
      "source": [
        "# ac, A (fails)\n",
        "dot(ac, A)"
      ],
      "metadata": {
        "colab": {
          "base_uri": "https://localhost:8080/",
          "height": 35
        },
        "id": "GNWAGczLPMYQ",
        "outputId": "a0c2cc52-115e-413d-c24d-42c23fb70111"
      },
      "execution_count": 40,
      "outputs": [
        {
          "output_type": "execute_result",
          "data": {
            "application/vnd.google.colaboratory.intrinsic+json": {
              "type": "string"
            },
            "text/plain": [
              "'fails'"
            ]
          },
          "metadata": {},
          "execution_count": 40
        }
      ]
    },
    {
      "cell_type": "code",
      "source": [
        "# A, B Matrix\n",
        "dot(A, B)"
      ],
      "metadata": {
        "colab": {
          "base_uri": "https://localhost:8080/"
        },
        "id": "D-cqQJyBPWtQ",
        "outputId": "f5b6b0bf-f8ee-46f0-d9d5-fca8f299228e"
      },
      "execution_count": 41,
      "outputs": [
        {
          "output_type": "execute_result",
          "data": {
            "text/plain": [
              "array([[ 30,  24,  18],\n",
              "       [ 84,  69,  54],\n",
              "       [138, 114,  90]])"
            ]
          },
          "metadata": {},
          "execution_count": 41
        }
      ]
    },
    {
      "cell_type": "code",
      "source": [
        ""
      ],
      "metadata": {
        "id": "lkvii7WUPbw_"
      },
      "execution_count": null,
      "outputs": []
    }
  ]
}