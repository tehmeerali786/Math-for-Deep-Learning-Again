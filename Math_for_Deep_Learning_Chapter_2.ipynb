{
  "nbformat": 4,
  "nbformat_minor": 0,
  "metadata": {
    "colab": {
      "name": "Math for Deep Learning Chapter 2.ipynb",
      "provenance": [],
      "collapsed_sections": []
    },
    "kernelspec": {
      "name": "python3",
      "display_name": "Python 3"
    },
    "language_info": {
      "name": "python"
    }
  },
  "cells": [
    {
      "cell_type": "code",
      "metadata": {
        "colab": {
          "base_uri": "https://localhost:8080/"
        },
        "id": "SA0NfnjxU5y6",
        "outputId": "14454dd5-2c16-440f-9205-75de86565dcf"
      },
      "source": [
        "import numpy as np\n",
        "N = 1000000\n",
        "M =3\n",
        "heads = np.zeros(M+1)\n",
        "for i in range(N):\n",
        "  flips = np.random.randint(0,2,M)\n",
        "  h, _ = np.bincount(flips, minlength=2)\n",
        "  heads[h] += 1\n",
        "\n",
        "prob = heads/N\n",
        "print(\"Probabilities: %s\" % np.array2string(prob))"
      ],
      "execution_count": null,
      "outputs": [
        {
          "output_type": "stream",
          "name": "stdout",
          "text": [
            "Probabilities: [0.125092 0.375307 0.374396 0.125205]\n"
          ]
        }
      ]
    },
    {
      "cell_type": "code",
      "metadata": {
        "colab": {
          "base_uri": "https://localhost:8080/"
        },
        "id": "F7PDDT_4WJFF",
        "outputId": "f709274f-1678-4e7d-edc6-9a782f32a92d"
      },
      "source": [
        "np.zeros(M+1)"
      ],
      "execution_count": null,
      "outputs": [
        {
          "output_type": "execute_result",
          "data": {
            "text/plain": [
              "array([0., 0., 0., 0.])"
            ]
          },
          "metadata": {},
          "execution_count": 2
        }
      ]
    },
    {
      "cell_type": "code",
      "metadata": {
        "colab": {
          "base_uri": "https://localhost:8080/"
        },
        "id": "6LkxThe6d_IV",
        "outputId": "98f4c41c-07fd-47e7-b66b-95e7b84f59af"
      },
      "source": [
        "np.random.randint(0,2, M)"
      ],
      "execution_count": null,
      "outputs": [
        {
          "output_type": "execute_result",
          "data": {
            "text/plain": [
              "array([1, 0, 0])"
            ]
          },
          "metadata": {},
          "execution_count": 3
        }
      ]
    },
    {
      "cell_type": "code",
      "metadata": {
        "colab": {
          "base_uri": "https://localhost:8080/"
        },
        "id": "y4UUye7veFzh",
        "outputId": "c9ae2792-4561-4d86-d87b-d2a00c48aa0a"
      },
      "source": [
        "np.random.randint(2,4, M)"
      ],
      "execution_count": null,
      "outputs": [
        {
          "output_type": "execute_result",
          "data": {
            "text/plain": [
              "array([2, 2, 3])"
            ]
          },
          "metadata": {},
          "execution_count": 8
        }
      ]
    },
    {
      "cell_type": "code",
      "metadata": {
        "colab": {
          "base_uri": "https://localhost:8080/"
        },
        "id": "Ut7M_ekhe2Qy",
        "outputId": "4996be4c-14cc-4a5c-8819-39933f25b5cb"
      },
      "source": [
        "heads"
      ],
      "execution_count": null,
      "outputs": [
        {
          "output_type": "execute_result",
          "data": {
            "text/plain": [
              "array([125092., 375307., 374396., 125205.])"
            ]
          },
          "metadata": {},
          "execution_count": 9
        }
      ]
    },
    {
      "cell_type": "code",
      "metadata": {
        "id": "mvcms-7yiFZ3"
      },
      "source": [
        "flips = np.random.randint(0, 2, M)"
      ],
      "execution_count": null,
      "outputs": []
    },
    {
      "cell_type": "code",
      "metadata": {
        "colab": {
          "base_uri": "https://localhost:8080/"
        },
        "id": "6I2LoftRi9sk",
        "outputId": "16bcebcb-c6c0-429d-d854-3104a40bef5d"
      },
      "source": [
        "flips"
      ],
      "execution_count": null,
      "outputs": [
        {
          "output_type": "execute_result",
          "data": {
            "text/plain": [
              "array([1, 1, 1])"
            ]
          },
          "metadata": {},
          "execution_count": 19
        }
      ]
    },
    {
      "cell_type": "code",
      "metadata": {
        "id": "pogw12ari-mk"
      },
      "source": [
        "h, _ = np.bincount(flips, minlength=2)"
      ],
      "execution_count": null,
      "outputs": []
    },
    {
      "cell_type": "code",
      "metadata": {
        "colab": {
          "base_uri": "https://localhost:8080/"
        },
        "id": "K6aUY3VdjGnT",
        "outputId": "fbc76c97-4fac-46ee-aa89-61086783ccc8"
      },
      "source": [
        "h"
      ],
      "execution_count": null,
      "outputs": [
        {
          "output_type": "execute_result",
          "data": {
            "text/plain": [
              "0"
            ]
          },
          "metadata": {},
          "execution_count": 21
        }
      ]
    },
    {
      "cell_type": "code",
      "metadata": {
        "colab": {
          "base_uri": "https://localhost:8080/"
        },
        "id": "Adp3rvMAjHej",
        "outputId": "fda5022e-f3fe-46ef-fe4a-03b0ba80dfde"
      },
      "source": [
        "_"
      ],
      "execution_count": null,
      "outputs": [
        {
          "output_type": "execute_result",
          "data": {
            "text/plain": [
              "0"
            ]
          },
          "metadata": {},
          "execution_count": 22
        }
      ]
    },
    {
      "cell_type": "code",
      "metadata": {
        "colab": {
          "base_uri": "https://localhost:8080/"
        },
        "id": "Mq2RO8uBjIvj",
        "outputId": "04a22cae-c5d7-46ae-ac1f-4aa729582139"
      },
      "source": [
        "np.bincount(flips, minlength=2)"
      ],
      "execution_count": null,
      "outputs": [
        {
          "output_type": "execute_result",
          "data": {
            "text/plain": [
              "array([0, 3])"
            ]
          },
          "metadata": {},
          "execution_count": 23
        }
      ]
    },
    {
      "cell_type": "code",
      "metadata": {
        "colab": {
          "base_uri": "https://localhost:8080/"
        },
        "id": "41ysMet_jaGz",
        "outputId": "0442f8f2-fddb-400b-f303-4b4251a0236a"
      },
      "source": [
        "_"
      ],
      "execution_count": null,
      "outputs": [
        {
          "output_type": "execute_result",
          "data": {
            "text/plain": [
              "array([0, 3])"
            ]
          },
          "metadata": {},
          "execution_count": 24
        }
      ]
    },
    {
      "cell_type": "code",
      "metadata": {
        "colab": {
          "base_uri": "https://localhost:8080/"
        },
        "id": "KtWHe6gUjhsj",
        "outputId": "708b62ab-1657-4064-be3b-7f7e9c1d09d4"
      },
      "source": [
        "h"
      ],
      "execution_count": null,
      "outputs": [
        {
          "output_type": "execute_result",
          "data": {
            "text/plain": [
              "0"
            ]
          },
          "metadata": {},
          "execution_count": 25
        }
      ]
    },
    {
      "cell_type": "code",
      "metadata": {
        "id": "Ek5CmjlKjjZi",
        "colab": {
          "base_uri": "https://localhost:8080/"
        },
        "outputId": "141c989e-3113-4800-abb6-fdc6c891e7ef"
      },
      "source": [
        "for n in range(300):\n",
        "  if ((364/365)**n < 0.5):\n",
        "    print(n)\n",
        "    break"
      ],
      "execution_count": null,
      "outputs": [
        {
          "output_type": "stream",
          "name": "stdout",
          "text": [
            "253\n"
          ]
        }
      ]
    },
    {
      "cell_type": "code",
      "metadata": {
        "colab": {
          "base_uri": "https://localhost:8080/"
        },
        "id": "kxgSUTDSWtSp",
        "outputId": "7622a82a-a4bf-4317-de35-2661db009d1b"
      },
      "source": [
        "import numpy as np\n",
        "match = 0\n",
        "for i in range(100000):\n",
        "  a = np.random.randint(0,364)\n",
        "  b = np.random.randint(0, 364)\n",
        "  if (a==b):\n",
        "    match += 1\n",
        "\n",
        "print(\"Probability of a random match = %0.6f\"% (match/100000,))"
      ],
      "execution_count": null,
      "outputs": [
        {
          "output_type": "stream",
          "name": "stdout",
          "text": [
            "Probability of a random match = 0.002910\n"
          ]
        }
      ]
    },
    {
      "cell_type": "code",
      "metadata": {
        "colab": {
          "base_uri": "https://localhost:8080/"
        },
        "id": "14J217Fwiq3X",
        "outputId": "5f5d22e1-a181-4edb-ff8e-2e098dc6244a"
      },
      "source": [
        "import numpy as np\n",
        "x = []\n",
        "y = []\n",
        "for m in range(2, 31):\n",
        "  \n",
        "  matches = 0\n",
        "  for n in range(100000):\n",
        "    match = 0\n",
        "    b = np.random.randint(0, 364, m)\n",
        "    for i in range(m):\n",
        "      for j in range(m):\n",
        "        if (i != j) and (b[i] == b[j]):\n",
        "          match += 1\n",
        "\n",
        "    if (match != 0):\n",
        "      matches += 1\n",
        "  z = matches/100000\n",
        "  print(\"%2d %0.6f\" % (m, z ))\n",
        "  x.append(m)\n",
        "  y.append(z)"
      ],
      "execution_count": null,
      "outputs": [
        {
          "output_type": "stream",
          "name": "stdout",
          "text": [
            " 2 0.002790\n",
            " 3 0.008490\n",
            " 4 0.016750\n",
            " 5 0.026930\n",
            " 6 0.041960\n",
            " 7 0.056800\n",
            " 8 0.075620\n",
            " 9 0.093750\n",
            "10 0.117020\n",
            "11 0.140600\n",
            "12 0.167970\n",
            "13 0.192970\n",
            "14 0.223420\n",
            "15 0.252680\n",
            "16 0.285400\n",
            "17 0.315760\n",
            "18 0.347910\n",
            "19 0.380320\n",
            "20 0.411110\n",
            "21 0.445710\n",
            "22 0.476130\n",
            "23 0.508550\n",
            "24 0.535870\n",
            "25 0.569730\n",
            "26 0.600670\n",
            "27 0.630320\n",
            "28 0.658140\n",
            "29 0.683170\n",
            "30 0.708900\n"
          ]
        }
      ]
    },
    {
      "cell_type": "code",
      "metadata": {
        "colab": {
          "base_uri": "https://localhost:8080/",
          "height": 295
        },
        "id": "kpekWTTGlSwV",
        "outputId": "a2eda67f-8b6e-419f-8db1-7c3ce94cd42b"
      },
      "source": [
        "import matplotlib.pyplot as plt\n",
        "\n",
        "\n",
        "plt.title('Number of People per Probability having same birthday for two')\n",
        "plt.xlabel('Number of People')\n",
        "plt.ylabel('Shared of a Birtday')\n",
        "plt.plot(x, y, linestyle='--', marker='o', color='b')\n",
        "plt.show()"
      ],
      "execution_count": null,
      "outputs": [
        {
          "output_type": "display_data",
          "data": {
            "image/png": "[encoded data removed]",
            "text/plain": [
              "<Figure size 432x288 with 1 Axes>"
            ]
          },
          "metadata": {
            "needs_background": "light"
          }
        }
      ]
    },
    {
      "cell_type": "code",
      "metadata": {
        "colab": {
          "base_uri": "https://localhost:8080/"
        },
        "id": "TMGaVJdvrTIz",
        "outputId": "68a01857-82c8-4b98-ff08-2f10a12eee33"
      },
      "source": [
        "x"
      ],
      "execution_count": null,
      "outputs": [
        {
          "output_type": "execute_result",
          "data": {
            "text/plain": [
              "[30]"
            ]
          },
          "metadata": {},
          "execution_count": 7
        }
      ]
    },
    {
      "cell_type": "code",
      "metadata": {
        "colab": {
          "base_uri": "https://localhost:8080/"
        },
        "id": "ke9GcsB4rg3C",
        "outputId": "176a1ea5-3037-4114-cb6a-8b6383fcf24d"
      },
      "source": [
        "y"
      ],
      "execution_count": null,
      "outputs": [
        {
          "output_type": "execute_result",
          "data": {
            "text/plain": [
              "[0.7068]"
            ]
          },
          "metadata": {},
          "execution_count": 8
        }
      ]
    },
    {
      "cell_type": "code",
      "metadata": {
        "id": "_qhrbaMjrmFR",
        "colab": {
          "base_uri": "https://localhost:8080/"
        },
        "outputId": "40b0046e-19fd-4a59-c2f0-4bbe27bc7af7"
      },
      "source": [
        "import numpy as np\n",
        "nb = 0\n",
        "N = 100000\n",
        "\n",
        "for i in range(N):\n",
        "  s = np.random.randint(0, 50, 3)\n",
        "  fail = False\n",
        "  for t in range(3):\n",
        "    if(s[t] < 4):\n",
        "      fail = True\n",
        "  if (not fail):\n",
        "    nb += 1\n",
        "\n",
        "print(\"No Boston in the fall=%0.4f\" % (nb/N,))"
      ],
      "execution_count": null,
      "outputs": [
        {
          "output_type": "stream",
          "name": "stdout",
          "text": [
            "No Boston in the fall=0.7761\n"
          ]
        }
      ]
    },
    {
      "cell_type": "code",
      "metadata": {
        "colab": {
          "base_uri": "https://localhost:8080/"
        },
        "id": "3CP02PhQZh5M",
        "outputId": "98b7bc41-3a7d-4d6a-e4e3-413ea898c314"
      },
      "source": [
        "np.random.randint(0, 50, 3)"
      ],
      "execution_count": null,
      "outputs": [
        {
          "output_type": "execute_result",
          "data": {
            "text/plain": [
              "array([22, 14, 46])"
            ]
          },
          "metadata": {},
          "execution_count": 3
        }
      ]
    },
    {
      "cell_type": "code",
      "metadata": {
        "id": "DGpUOrBDZzZw"
      },
      "source": [
        ""
      ],
      "execution_count": null,
      "outputs": []
    }
  ]
}