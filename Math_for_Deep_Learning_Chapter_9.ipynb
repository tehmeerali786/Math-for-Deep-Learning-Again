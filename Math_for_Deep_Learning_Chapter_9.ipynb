{
  "nbformat": 4,
  "nbformat_minor": 0,
  "metadata": {
    "colab": {
      "provenance": []
    },
    "kernelspec": {
      "name": "python3",
      "display_name": "Python 3"
    },
    "language_info": {
      "name": "python"
    }
  },
  "cells": [
    {
      "cell_type": "markdown",
      "source": [
        "## Feed Forward Neural Networks"
      ],
      "metadata": {
        "id": "wWw8p-5fsWUh"
      }
    },
    {
      "cell_type": "code",
      "execution_count": null,
      "metadata": {
        "id": "_f6usuRjw_hz"
      },
      "outputs": [],
      "source": [
        "import matplotlib.pylab as plt\n",
        "import numpy as np\n",
        "from sklearn.neural_network import MLPClassifier"
      ]
    },
    {
      "cell_type": "code",
      "source": [
        "# Build the Dataset\n",
        "np.random.seed(8675309)\n",
        "x0 = np.random.random(50)-0.3\n",
        "y0 = np.random.random(50)+0.3\n",
        "x1 = np.random.random(50)+0.3\n",
        "y1 = np.random.random(50)-0.3"
      ],
      "metadata": {
        "id": "41-XyoTExYyE"
      },
      "execution_count": null,
      "outputs": []
    },
    {
      "cell_type": "code",
      "source": [
        "print(x0)"
      ],
      "metadata": {
        "colab": {
          "base_uri": "https://localhost:8080/"
        },
        "id": "bN3hqisqyP5C",
        "outputId": "760a66ef-bca6-4830-f58a-f55a3c849e75"
      },
      "execution_count": null,
      "outputs": [
        {
          "output_type": "stream",
          "name": "stdout",
          "text": [
            "[ 0.51245912  0.45104509  0.05736652 -0.09770522  0.10900113 -0.21787527\n",
            " -0.08501348  0.11388092 -0.28183262  0.36977656  0.30010341  0.61928216\n",
            "  0.04272827  0.25517967  0.4175205  -0.12136827  0.62911262  0.46151484\n",
            " -0.17975467  0.33567192 -0.17429045 -0.1866768   0.52125878  0.65711448\n",
            " -0.24399086  0.37894113 -0.20817644  0.55470627 -0.22770305  0.68184624\n",
            "  0.59070631  0.09481143  0.05510899  0.444181   -0.06943107 -0.26494963\n",
            "  0.59162548  0.28588214 -0.13794413  0.51281652  0.47525212  0.23070813\n",
            "  0.10311752 -0.28619889  0.25214997 -0.15211638  0.35092993  0.49531505\n",
            "  0.61613329  0.42301011]\n"
          ]
        }
      ]
    },
    {
      "cell_type": "code",
      "source": [
        "print(y0)"
      ],
      "metadata": {
        "colab": {
          "base_uri": "https://localhost:8080/"
        },
        "id": "2ni7D9NcyRc0",
        "outputId": "71bda486-47f4-4452-b5bf-91c1bf41f285"
      },
      "execution_count": null,
      "outputs": [
        {
          "output_type": "stream",
          "name": "stdout",
          "text": [
            "[0.44458879 0.36698512 0.98511685 0.45993645 1.04455678 0.85483474\n",
            " 0.66790419 1.24035774 0.60767967 0.58289265 1.07229843 0.88222042\n",
            " 0.70035592 0.46892103 1.01137819 0.61700092 1.27910128 0.52596007\n",
            " 1.22156804 1.02927685 0.94190927 0.46719346 0.61100485 0.43512153\n",
            " 0.62508319 0.37907039 0.70082291 1.17058605 0.84088813 1.06673689\n",
            " 0.32537225 0.80674969 0.40144035 0.84618898 1.16572646 1.06919227\n",
            " 1.07913117 0.56910056 0.46007123 0.49994528 0.31979948 0.53453884\n",
            " 1.08519724 1.18426356 1.09275328 0.53974285 0.60243451 1.08762643\n",
            " 1.2630152  0.38542485]\n"
          ]
        }
      ]
    },
    {
      "cell_type": "code",
      "source": [
        "len(x0)"
      ],
      "metadata": {
        "colab": {
          "base_uri": "https://localhost:8080/"
        },
        "id": "EH8hfFwKyTrD",
        "outputId": "578ab53c-259c-469e-de92-28524790d7ed"
      },
      "execution_count": null,
      "outputs": [
        {
          "output_type": "execute_result",
          "data": {
            "text/plain": [
              "50"
            ]
          },
          "metadata": {},
          "execution_count": 5
        }
      ]
    },
    {
      "cell_type": "code",
      "source": [
        "print(\"x0,y0: %0.6f, %0.6f\" % (x0.mean(), y0.mean()))\n",
        "print(\"x1,y1: %0.6f, %0.6f\" % (x1.mean(), y1.mean()))\n",
        "print()"
      ],
      "metadata": {
        "colab": {
          "base_uri": "https://localhost:8080/"
        },
        "id": "H3fVOxYPyl7D",
        "outputId": "e8aa8888-71c9-492f-a5ac-097a277bae47"
      },
      "execution_count": null,
      "outputs": [
        {
          "output_type": "stream",
          "name": "stdout",
          "text": [
            "x0,y0: 0.201105, 0.772381\n",
            "x1,y1: 0.777839, 0.245307\n",
            "\n"
          ]
        }
      ]
    },
    {
      "cell_type": "code",
      "source": [
        "x = np.zeros((100, 2))\n",
        "x[:50,0] = x0; x[:50,1] = y0\n",
        "x[50:,0] = x1; x[50:,1] = y1"
      ],
      "metadata": {
        "id": "b2Jr5a2GzLtT"
      },
      "execution_count": null,
      "outputs": []
    },
    {
      "cell_type": "code",
      "source": [
        "y = np.array([0]*50 + [1]*50)"
      ],
      "metadata": {
        "id": "zYQtZXOlzx5_"
      },
      "execution_count": null,
      "outputs": []
    },
    {
      "cell_type": "code",
      "source": [
        "print(y)"
      ],
      "metadata": {
        "colab": {
          "base_uri": "https://localhost:8080/"
        },
        "id": "YaTFBPrm0RU8",
        "outputId": "92d0624a-84b0-4fe6-edf8-efca7924406e"
      },
      "execution_count": null,
      "outputs": [
        {
          "output_type": "stream",
          "name": "stdout",
          "text": [
            "[0 0 0 0 0 0 0 0 0 0 0 0 0 0 0 0 0 0 0 0 0 0 0 0 0 0 0 0 0 0 0 0 0 0 0 0 0\n",
            " 0 0 0 0 0 0 0 0 0 0 0 0 0 1 1 1 1 1 1 1 1 1 1 1 1 1 1 1 1 1 1 1 1 1 1 1 1\n",
            " 1 1 1 1 1 1 1 1 1 1 1 1 1 1 1 1 1 1 1 1 1 1 1 1 1 1]\n"
          ]
        }
      ]
    },
    {
      "cell_type": "code",
      "source": [
        "x[:1]"
      ],
      "metadata": {
        "colab": {
          "base_uri": "https://localhost:8080/"
        },
        "id": "Tf-NjD7r0V6f",
        "outputId": "a4e56dda-9f50-4e66-f486-0a7ca6f74ceb"
      },
      "execution_count": null,
      "outputs": [
        {
          "output_type": "execute_result",
          "data": {
            "text/plain": [
              "array([[0.51245912, 0.44458879]])"
            ]
          },
          "metadata": {},
          "execution_count": 10
        }
      ]
    },
    {
      "cell_type": "code",
      "source": [
        "# randomize and make train/test split\n",
        "idx = np.argsort(np.random.random(100))"
      ],
      "metadata": {
        "id": "3RYiE9H50q-A"
      },
      "execution_count": null,
      "outputs": []
    },
    {
      "cell_type": "code",
      "source": [
        "idx"
      ],
      "metadata": {
        "colab": {
          "base_uri": "https://localhost:8080/"
        },
        "id": "TZo2K0dX1Vve",
        "outputId": "7c875e72-5d10-4235-ec3e-c63c3150781b"
      },
      "execution_count": null,
      "outputs": [
        {
          "output_type": "execute_result",
          "data": {
            "text/plain": [
              "array([24, 33, 82, 14,  2, 63, 22,  9, 64, 72, 32, 19,  3, 73, 20, 93, 39,\n",
              "       25, 26, 90,  1, 13, 37, 56, 28, 53, 48, 55, 42, 18, 94, 16, 89, 74,\n",
              "       70, 34, 21, 99, 58, 87, 95, 71, 59,  5, 57, 98, 46, 30,  0, 29, 36,\n",
              "       49, 86, 40, 17, 47, 61, 60, 76, 97,  8, 31, 52, 85, 67, 92, 11, 80,\n",
              "       62, 15, 83, 23, 12, 54, 78, 44, 38,  6, 84, 27, 45, 91, 68, 75,  4,\n",
              "       79, 43, 65, 69, 66, 10, 96, 35, 50,  7, 51, 41, 81, 77, 88])"
            ]
          },
          "metadata": {},
          "execution_count": 12
        }
      ]
    },
    {
      "cell_type": "code",
      "source": [
        "x  = x[idx]\n",
        "y = y[idx]"
      ],
      "metadata": {
        "id": "ch3_nwuu1er9"
      },
      "execution_count": null,
      "outputs": []
    },
    {
      "cell_type": "code",
      "source": [
        "x_train = x[:75]\n",
        "y_train = y[:75]"
      ],
      "metadata": {
        "id": "OUyxB4Vc11fP"
      },
      "execution_count": null,
      "outputs": []
    },
    {
      "cell_type": "code",
      "source": [
        "x_test = x[75:]\n",
        "y_test = y[75:]"
      ],
      "metadata": {
        "id": "f6moK3nP19ms"
      },
      "execution_count": null,
      "outputs": []
    },
    {
      "cell_type": "code",
      "source": [
        "# Show the dataset\n",
        "plt.plot(x0, y0, marker='o', linestyle='none')\n",
        "plt.plot(x1, y1, marker='s', linestyle='none')\n",
        "plt.xlabel(r'$x_0$') # Corrected xlabel\n",
        "plt.ylabel(r'$x_1$') # Corrected ylabel\n",
        "plt.tight_layout(pad=0, w_pad=0, h_pad=0)\n",
        "plt.savefig(\"c04_nn.png\", dpi=300)"
      ],
      "metadata": {
        "colab": {
          "base_uri": "https://localhost:8080/",
          "height": 517
        },
        "id": "8B_RHNdH2C4M",
        "outputId": "205795ea-717f-4b5e-cc85-10bf2e1a2eed"
      },
      "execution_count": null,
      "outputs": [
        {
          "output_type": "display_data",
          "data": {
            "text/plain": [
              "<Figure size 640x480 with 1 Axes>"
            ],
            "image/png": "[encoded data removed]"
          },
          "metadata": {}
        }
      ]
    },
    {
      "cell_type": "code",
      "source": [
        "# Train a simple model\n",
        "clf = MLPClassifier(hidden_layer_sizes=(5,))\n",
        "clf.fit(x_train, y_train)\n",
        "score = clf.score(x_test, y_test)\n",
        "prob = clf.predict_proba(x_test)\n",
        "print(\"Model accuracy on test set: %0.4f\" %score)\n",
        "w0 = clf.coefs_[0].T\n",
        "b0 = clf.intercepts_[0].reshape((5, 1))\n",
        "w1 = clf.coefs_[1].T\n",
        "b1 = clf.intercepts_[1]\n"
      ],
      "metadata": {
        "id": "VJsbKmxI6Lg4",
        "colab": {
          "base_uri": "https://localhost:8080/"
        },
        "outputId": "8148b9c2-dee1-49b2-9a99-d1f5439ef727"
      },
      "execution_count": null,
      "outputs": [
        {
          "output_type": "stream",
          "name": "stdout",
          "text": [
            "Model accuracy on test set: 0.9200\n"
          ]
        },
        {
          "output_type": "stream",
          "name": "stderr",
          "text": [
            "/usr/local/lib/python3.10/dist-packages/sklearn/neural_network/_multilayer_perceptron.py:686: ConvergenceWarning: Stochastic Optimizer: Maximum iterations (200) reached and the optimization hasn't converged yet.\n",
            "  warnings.warn(\n"
          ]
        }
      ]
    },
    {
      "cell_type": "code",
      "source": [
        "print(\"Weights and biases: \")\n",
        "print(w0)\n",
        "print(b0)\n",
        "print(w1)\n",
        "print(b1)\n",
        "print()"
      ],
      "metadata": {
        "colab": {
          "base_uri": "https://localhost:8080/"
        },
        "id": "hGH9ozpqHvsW",
        "outputId": "a53ce4dc-c726-42b7-c69a-3803647b7481"
      },
      "execution_count": null,
      "outputs": [
        {
          "output_type": "stream",
          "name": "stdout",
          "text": [
            "Weights and biases: \n",
            "[[ 0.11163935  1.01812176]\n",
            " [ 0.41966003 -0.54722927]\n",
            " [ 0.1374358   0.61592217]\n",
            " [-0.4274122  -0.22520957]\n",
            " [-0.78696373 -0.47214619]]\n",
            "[[-0.05593697]\n",
            " [ 0.23807549]\n",
            " [-0.28033448]\n",
            " [-0.3133039 ]\n",
            " [ 0.90149193]]\n",
            "[[-0.38306849  1.22745716 -0.93849078  0.32985919 -0.6387949 ]]\n",
            "[0.34040456]\n",
            "\n"
          ]
        }
      ]
    },
    {
      "cell_type": "code",
      "source": [
        "z = x_test[0].reshape((2, 1))\n",
        "print(\"x_test:\", z)\n",
        "print(\"w0 @ z + b0\", w0 @ z + b0)\n",
        "print(\"a0 = relu(w0 @ z + b0)\", np.maximum(0, w0@z+b0))\n",
        "a0 = np.maximum(0, w0@z+b0)\n",
        "print(\"a1 = w1@a0 + b1\", w1@a0+b1)\n",
        "a1 = w1@a0+b1\n",
        "print(\"sigmoid(a1)\", 1.0/(1.0+np.exp(-a1)))\n",
        "print()\n",
        "print(\"prob: \", prob[0][1])\n",
        "print(\"y_test: \", y_test[0])\n",
        "print()"
      ],
      "metadata": {
        "id": "49wW5_xsIiW3",
        "colab": {
          "base_uri": "https://localhost:8080/"
        },
        "outputId": "3b791e3f-40e1-4214-bf88-55e4a228a480"
      },
      "execution_count": null,
      "outputs": [
        {
          "output_type": "stream",
          "name": "stdout",
          "text": [
            "x_test: [[0.25214997]\n",
            " [1.09275328]]\n",
            "w0 @ z + b0 [[ 1.08476878]\n",
            " [-0.25409382]\n",
            " [ 0.42737092]\n",
            " [-0.66717436]\n",
            " [ 0.18711976]]\n",
            "a0 = relu(w0 @ z + b0) [[1.08476878]\n",
            " [0.        ]\n",
            " [0.42737092]\n",
            " [0.        ]\n",
            " [0.18711976]]\n",
            "a1 = w1@a0 + b1 [[-0.59575099]]\n",
            "sigmoid(a1) [[0.3553164]]\n",
            "\n",
            "prob:  0.3553164003942199\n",
            "y_test:  0\n",
            "\n"
          ]
        }
      ]
    },
    {
      "cell_type": "markdown",
      "source": [
        "## Convolutional Neural Network"
      ],
      "metadata": {
        "id": "xy7OW2dXsk1Q"
      }
    },
    {
      "cell_type": "code",
      "source": [
        "import numpy as np"
      ],
      "metadata": {
        "id": "09mWKp7KtciA"
      },
      "execution_count": null,
      "outputs": []
    },
    {
      "cell_type": "code",
      "source": [
        "x = np.linspace(-3, 3, 20)\n",
        "f = (255*np.exp(-0.5*x**2)).astype(\"int32\")\n",
        "g = np.array([-1, 0, 1])\n",
        "fp = np.convolve(f, g[::-1], mode='same')"
      ],
      "metadata": {
        "id": "0kSSKnJgsj84"
      },
      "execution_count": null,
      "outputs": []
    },
    {
      "cell_type": "code",
      "source": [
        "g[::-1]"
      ],
      "metadata": {
        "id": "_g63ythxngL4",
        "colab": {
          "base_uri": "https://localhost:8080/"
        },
        "outputId": "30332b14-9e7a-43e3-cc17-44043cb236f8"
      },
      "execution_count": null,
      "outputs": [
        {
          "output_type": "execute_result",
          "data": {
            "text/plain": [
              "array([ 1,  0, -1])"
            ]
          },
          "metadata": {},
          "execution_count": 7
        }
      ]
    },
    {
      "cell_type": "code",
      "source": [
        "f"
      ],
      "metadata": {
        "colab": {
          "base_uri": "https://localhost:8080/"
        },
        "id": "Al_QaUx8tauE",
        "outputId": "b41f8c83-a2cf-447e-e87c-7090777a26f9"
      },
      "execution_count": null,
      "outputs": [
        {
          "output_type": "execute_result",
          "data": {
            "text/plain": [
              "array([  2,   6,  15,  31,  56,  92, 138, 186, 227, 251, 251, 227, 186,\n",
              "       138,  92,  56,  31,  15,   6,   2], dtype=int32)"
            ]
          },
          "metadata": {},
          "execution_count": 8
        }
      ]
    },
    {
      "cell_type": "code",
      "source": [
        "np.exp(1)"
      ],
      "metadata": {
        "colab": {
          "base_uri": "https://localhost:8080/"
        },
        "id": "uedHzVuTtufi",
        "outputId": "e66758f1-1083-49db-a5b2-ec048bcabbdf"
      },
      "execution_count": null,
      "outputs": [
        {
          "output_type": "execute_result",
          "data": {
            "text/plain": [
              "2.718281828459045"
            ]
          },
          "metadata": {},
          "execution_count": 9
        }
      ]
    },
    {
      "cell_type": "code",
      "source": [
        "fp"
      ],
      "metadata": {
        "colab": {
          "base_uri": "https://localhost:8080/"
        },
        "id": "1Xf4f_f_uMfx",
        "outputId": "ac7d7a4b-e9be-47ab-9c95-1fccd387c9b5"
      },
      "execution_count": null,
      "outputs": [
        {
          "output_type": "execute_result",
          "data": {
            "text/plain": [
              "array([  6,  13,  25,  41,  61,  82,  94,  89,  65,  24, -24, -65, -89,\n",
              "       -94, -82, -61, -41, -25, -13,  -6])"
            ]
          },
          "metadata": {},
          "execution_count": 10
        }
      ]
    },
    {
      "cell_type": "markdown",
      "source": [
        "### Convolution in Two Dimensions"
      ],
      "metadata": {
        "id": "2IkEzeLwVI0u"
      }
    },
    {
      "cell_type": "code",
      "source": [
        "import numpy as np\n",
        "from scipy.signal import convolve2d\n",
        "from scipy.misc import face\n",
        "from PIL import Image"
      ],
      "metadata": {
        "id": "_Wc9eYnJuXFx"
      },
      "execution_count": null,
      "outputs": []
    },
    {
      "cell_type": "code",
      "source": [
        "img = face(True)\n",
        "img = img[:512, (img.shape[1]-612) : (img.shape[1]-100)]"
      ],
      "metadata": {
        "colab": {
          "base_uri": "https://localhost:8080/"
        },
        "id": "deuNlRboV_Ej",
        "outputId": "c4d3c0cf-574c-4e3a-d76e-fe3e5336e80f"
      },
      "execution_count": null,
      "outputs": [
        {
          "output_type": "stream",
          "name": "stderr",
          "text": [
            "<ipython-input-2-162da5e6f7bd>:1: DeprecationWarning: scipy.misc.face has been deprecated in SciPy v1.10.0; and will be completely removed in SciPy v1.12.0. Dataset methods have moved into the scipy.datasets module. Use scipy.datasets.face instead.\n",
            "  img = face(True)\n"
          ]
        }
      ]
    },
    {
      "cell_type": "code",
      "source": [
        "# An asymmetric kernel\n",
        "k = np.array([[1, 0, 0], [0, -8, 0], [0, 0, 3]])\n",
        "c = convolve2d(img, k, mode='same')"
      ],
      "metadata": {
        "id": "O0dGcYn1Wbem"
      },
      "execution_count": null,
      "outputs": []
    },
    {
      "cell_type": "code",
      "source": [
        "# Results\n",
        "print(\"Original: \")\n",
        "print(img[:8, :8])\n",
        "print()\n",
        "print(\"Kernel: \")\n",
        "print(k)\n",
        "print()\n",
        "print(\"convolve2d(img, k, mode='same')\")\n",
        "print(c[1:8, 1:8])\n",
        "print()\n",
        "\n",
        "\n"
      ],
      "metadata": {
        "colab": {
          "base_uri": "https://localhost:8080/"
        },
        "id": "TbB4sGXzYspN",
        "outputId": "b85a1a09-47c6-4382-9a7a-9bc734836b81"
      },
      "execution_count": null,
      "outputs": [
        {
          "output_type": "stream",
          "name": "stdout",
          "text": [
            "Original: \n",
            "[[ 88  97 112 127 116  97  84  84]\n",
            " [ 62  70 100 131 126  88  52  51]\n",
            " [ 41  46  87 127 146 116  78  56]\n",
            " [ 42  45  76 107 145 137 112  76]\n",
            " [ 58  59  69  79 111 106  90  68]\n",
            " [ 74  73  68  60  72  74  72  67]\n",
            " [ 92  87  75  63  57  74  91  93]\n",
            " [105  97  85  74  60  79 102 110]]\n",
            "\n",
            "Kernel: \n",
            "[[ 1  0  0]\n",
            " [ 0 -8  0]\n",
            " [ 0  0  3]]\n",
            "\n",
            "convolve2d(img, k, mode='same')\n",
            "[[-209 -382 -566 -511 -278  -69 -101]\n",
            " [-106 -379 -571 -638 -438 -284 -241]\n",
            " [-168 -391 -484 -673 -568 -480 -318]\n",
            " [-278 -357 -332 -493 -341 -242 -143]\n",
            " [-335 -304 -216 -265 -168 -165 -184]\n",
            " [-389 -307 -240 -197 -274 -396 -427]\n",
            " [-404 -331 -289 -215 -368 -476 -488]]\n",
            "\n"
          ]
        }
      ]
    },
    {
      "cell_type": "code",
      "source": [
        "if (c.min() < 0):\n",
        "  c = c + np.abs(c.min())\n",
        "c = (255*(c / c.max())).astype(\"uint8\")"
      ],
      "metadata": {
        "id": "NIKIYyKhZppr"
      },
      "execution_count": null,
      "outputs": []
    },
    {
      "cell_type": "code",
      "source": [
        "Image.fromarray(c).save(\"ricky_convol.png\")\n",
        "Image.fromarray(img).save(\"ricky_orig.png\")\n"
      ],
      "metadata": {
        "id": "XkBTQ8VUaapN"
      },
      "execution_count": null,
      "outputs": []
    },
    {
      "cell_type": "code",
      "source": [],
      "metadata": {
        "id": "xJisftTOasrJ"
      },
      "execution_count": null,
      "outputs": []
    }
  ]
}