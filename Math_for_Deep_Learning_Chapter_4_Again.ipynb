{
  "nbformat": 4,
  "nbformat_minor": 0,
  "metadata": {
    "colab": {
      "name": "Math for Deep Learning Chapter 4 Again.ipynb",
      "provenance": [],
      "collapsed_sections": []
    },
    "kernelspec": {
      "name": "python3",
      "display_name": "Python 3"
    },
    "language_info": {
      "name": "python"
    }
  },
  "cells": [
    {
      "cell_type": "markdown",
      "source": [
        "As the sample size increses, the difference between biased variance and unbaised variance decreases"
      ],
      "metadata": {
        "id": "0IKWxit832rV"
      }
    },
    {
      "cell_type": "code",
      "execution_count": null,
      "metadata": {
        "id": "q72knyfR3wuH"
      },
      "outputs": [],
      "source": [
        "import numpy as np\n",
        "n = 10\n",
        "a = np.random.random(n)\n",
        "biased_variance = (1/(n)) * ((a-a.mean()) ** 2).sum()\n",
        "unbiased_variance = (1/(n-1)) * ((a-a.mean()) ** 2).sum()"
      ]
    },
    {
      "cell_type": "code",
      "source": [
        "print(biased_variance)\n",
        "print(unbiased_variance)"
      ],
      "metadata": {
        "colab": {
          "base_uri": "https://localhost:8080/"
        },
        "id": "An2J_OE947Ql",
        "outputId": "c8ff6aa9-bf03-4233-e745-875ad4c0e97f"
      },
      "execution_count": null,
      "outputs": [
        {
          "output_type": "stream",
          "name": "stdout",
          "text": [
            "0.10214114603471879\n",
            "0.11349016226079864\n"
          ]
        }
      ]
    },
    {
      "cell_type": "code",
      "source": [
        "n = 1000\n",
        "a = np.random.random(n)\n",
        "biased_variance = (1/(n)) * ((a-a.mean()) ** 2).sum()\n",
        "unbiased_variance = (1/(n-1)) * ((a-a.mean()) ** 2).sum()"
      ],
      "metadata": {
        "id": "xFYAKgzC5ADc"
      },
      "execution_count": null,
      "outputs": []
    },
    {
      "cell_type": "code",
      "source": [
        "print(biased_variance)\n",
        "print(unbiased_variance)"
      ],
      "metadata": {
        "colab": {
          "base_uri": "https://localhost:8080/"
        },
        "id": "tA9OY-mb5Jvs",
        "outputId": "61b18847-e1e4-4f4e-da17-182224017d70"
      },
      "execution_count": null,
      "outputs": [
        {
          "output_type": "stream",
          "name": "stdout",
          "text": [
            "0.08646663844387012\n",
            "0.08655319163550564\n"
          ]
        }
      ]
    },
    {
      "cell_type": "code",
      "source": [
        "n = 10000\n",
        "a = np.random.random(n)\n",
        "biased_variance = (1/(n)) * ((a-a.mean()) ** 2).sum()\n",
        "unbiased_variance = (1/(n-1)) * ((a-a.mean()) ** 2).sum()"
      ],
      "metadata": {
        "id": "Bj7tpLSB5L9M"
      },
      "execution_count": null,
      "outputs": []
    },
    {
      "cell_type": "code",
      "source": [
        "print(biased_variance)\n",
        "print(unbiased_variance)"
      ],
      "metadata": {
        "colab": {
          "base_uri": "https://localhost:8080/"
        },
        "id": "WzE1Wdwe6RBs",
        "outputId": "3d5c7534-81bb-4b8e-9e9c-d71e2c198761"
      },
      "execution_count": null,
      "outputs": [
        {
          "output_type": "stream",
          "name": "stdout",
          "text": [
            "0.08329204705333133\n",
            "0.08330037709104043\n"
          ]
        }
      ]
    },
    {
      "cell_type": "code",
      "source": [
        ""
      ],
      "metadata": {
        "id": "LrWDxSCZ6S1K"
      },
      "execution_count": null,
      "outputs": []
    },
    {
      "cell_type": "markdown",
      "source": [
        "## Using Quantiles"
      ],
      "metadata": {
        "id": "COAIk62Sk12Y"
      }
    },
    {
      "cell_type": "code",
      "source": [
        "import numpy as np\n",
        "import matplotlib.pyplot as plt"
      ],
      "metadata": {
        "id": "zl5WhLBtk41q"
      },
      "execution_count": null,
      "outputs": []
    },
    {
      "cell_type": "code",
      "source": [
        ""
      ],
      "metadata": {
        "id": "vOPRS98wrdVl"
      },
      "execution_count": null,
      "outputs": []
    },
    {
      "cell_type": "code",
      "source": [
        "d = np.load(\"/content/exams.npy\")\n",
        "p = d[:, 0].astype(\"uint32\")\n",
        "q = np.quantile(p, [0.0, 0.25, 0.5, 0.75, 1.0])\n",
        "\n",
        "\n",
        "print()\n",
        "print(\"Quartiles: \", q)\n",
        "print()\n",
        "print(\"Counts by quartile\")\n",
        "print(\"   %d\" % ((q[0] <= p) & (p < q[1])).sum())\n",
        "print(\"   %d\" % ((q[1] <= p) & (p < q[2])).sum())\n",
        "print(\"   %d\" % ((q[2] <= p) & (p < q[3])).sum())\n",
        "print(\"   %d\" % ((q[3] <= p) & (p < q[4])).sum())\n"
      ],
      "metadata": {
        "colab": {
          "base_uri": "https://localhost:8080/"
        },
        "id": "5W20oBtAlAxS",
        "outputId": "065e03aa-3540-4d93-c7b7-43943f8668e4"
      },
      "execution_count": null,
      "outputs": [
        {
          "output_type": "stream",
          "name": "stdout",
          "text": [
            "\n",
            "Quartiles:  [ 18.    56.75  68.    78.   100.  ]\n",
            "\n",
            "Counts by quartile\n",
            "   250\n",
            "   237\n",
            "   253\n",
            "   248\n"
          ]
        }
      ]
    },
    {
      "cell_type": "code",
      "source": [
        "d[:5, 0]"
      ],
      "metadata": {
        "colab": {
          "base_uri": "https://localhost:8080/"
        },
        "id": "P2cIpmfVpSab",
        "outputId": "a947eaf2-327b-4f72-dcf6-f493c42e5406"
      },
      "execution_count": null,
      "outputs": [
        {
          "output_type": "execute_result",
          "data": {
            "text/plain": [
              "array([55., 63., 65., 37., 74.])"
            ]
          },
          "metadata": {},
          "execution_count": 10
        }
      ]
    },
    {
      "cell_type": "code",
      "source": [
        "h = np.bincount(p, minlength=100)\n",
        "x = np.arange(101)\n",
        "plt.bar(x, h, width=0.8*(x[1]-x[0]))\n",
        "n = 1.1*h.max()\n",
        "plt.plot([q[1], q[1]], [0, n], linewidth=3, color='k')\n",
        "plt.plot([q[2], q[2]], [0, n], linewidth=3, color='k')\n",
        "plt.plot([q[3], q[3]], [0, n], linewidth=3, color='k')\n",
        "plt.xlim((p.min()-1, p.max()+1))\n",
        "plt.ylabel(\"Count\")\n",
        "plt.tight_layout(pad=0, w_pad=0, h_pad=0)\n",
        "# plt.savefig(\"quantiles_plot.png\", dpi=300)\n",
        "plt.show()\n",
        "# plt.close()"
      ],
      "metadata": {
        "colab": {
          "base_uri": "https://localhost:8080/",
          "height": 319
        },
        "id": "v_zUyEAznYNZ",
        "outputId": "48783df3-dfc8-484e-c9bc-1c4fd4dc5553"
      },
      "execution_count": null,
      "outputs": [
        {
          "output_type": "display_data",
          "data": {
            "image/png": "[encoded data removed]",
            "text/plain": [
              "<Figure size 432x288 with 1 Axes>"
            ]
          },
          "metadata": {
            "needs_background": "light"
          }
        }
      ]
    },
    {
      "cell_type": "code",
      "source": [
        "print(x[1])\n",
        "print(x[0])"
      ],
      "metadata": {
        "colab": {
          "base_uri": "https://localhost:8080/"
        },
        "id": "8_lCBNiqsSJ6",
        "outputId": "8e1c0db2-0e76-4da2-9be4-99a656926005"
      },
      "execution_count": null,
      "outputs": [
        {
          "output_type": "stream",
          "name": "stdout",
          "text": [
            "1\n",
            "0\n"
          ]
        }
      ]
    },
    {
      "cell_type": "code",
      "source": [
        "np.arange(101)"
      ],
      "metadata": {
        "colab": {
          "base_uri": "https://localhost:8080/"
        },
        "id": "BO79Z95LpQuJ",
        "outputId": "6ab580cf-aacf-40a1-b8e2-0b28652586a7"
      },
      "execution_count": null,
      "outputs": [
        {
          "output_type": "execute_result",
          "data": {
            "text/plain": [
              "array([  0,   1,   2,   3,   4,   5,   6,   7,   8,   9,  10,  11,  12,\n",
              "        13,  14,  15,  16,  17,  18,  19,  20,  21,  22,  23,  24,  25,\n",
              "        26,  27,  28,  29,  30,  31,  32,  33,  34,  35,  36,  37,  38,\n",
              "        39,  40,  41,  42,  43,  44,  45,  46,  47,  48,  49,  50,  51,\n",
              "        52,  53,  54,  55,  56,  57,  58,  59,  60,  61,  62,  63,  64,\n",
              "        65,  66,  67,  68,  69,  70,  71,  72,  73,  74,  75,  76,  77,\n",
              "        78,  79,  80,  81,  82,  83,  84,  85,  86,  87,  88,  89,  90,\n",
              "        91,  92,  93,  94,  95,  96,  97,  98,  99, 100])"
            ]
          },
          "metadata": {},
          "execution_count": 4
        }
      ]
    },
    {
      "cell_type": "code",
      "source": [
        "# box plot \n",
        "plt.boxplot(d)\n",
        "plt.xlabel(\"Test\")\n",
        "plt.ylabel(\"Scores\")\n",
        "plt.tight_layout(pad=0, w_pad=0, h_pad=0)\n",
        "# plt.savefig(\"box_plot.png\", dpi=300)\n",
        "plt.show()\n",
        "# plt.close()"
      ],
      "metadata": {
        "colab": {
          "base_uri": "https://localhost:8080/",
          "height": 319
        },
        "id": "4kR7d-zJxxPL",
        "outputId": "03cf6ae3-122f-470c-9024-f4b6910c3d4c"
      },
      "execution_count": null,
      "outputs": [
        {
          "output_type": "display_data",
          "data": {
            "image/png": "[encoded data removed]",
            "text/plain": [
              "<Figure size 432x288 with 1 Axes>"
            ]
          },
          "metadata": {
            "needs_background": "light"
          }
        }
      ]
    },
    {
      "cell_type": "code",
      "source": [
        "plt.boxplot(p)\n",
        "plt.ylabel(\"Scores\")\n",
        "plt.tight_layout(pad=0, w_pad=0, h_pad=0)\n",
        "# plt.savefig(\"box_plot1.png\", dpi= 300)\n",
        "plt.show()\n",
        "# plt.close()"
      ],
      "metadata": {
        "colab": {
          "base_uri": "https://localhost:8080/",
          "height": 319
        },
        "id": "rpwEykfZyRkc",
        "outputId": "283e4a4a-3879-48aa-9867-a8f1ba9c3c52"
      },
      "execution_count": null,
      "outputs": [
        {
          "output_type": "display_data",
          "data": {
            "image/png": "[encoded data removed]",
            "text/plain": [
              "<Figure size 432x288 with 1 Axes>"
            ]
          },
          "metadata": {
            "needs_background": "light"
          }
        }
      ]
    },
    {
      "cell_type": "markdown",
      "source": [
        "## Missing Values"
      ],
      "metadata": {
        "id": "1psuqth-_RkD"
      }
    },
    {
      "cell_type": "code",
      "source": [
        "import numpy as np\n",
        "import matplotlib.pyplot as plt"
      ],
      "metadata": {
        "id": "L4gLO6hUzDFH"
      },
      "execution_count": null,
      "outputs": []
    },
    {
      "cell_type": "code",
      "source": [
        "a = np.arange(10, dtype=\"float64\")\n",
        "a"
      ],
      "metadata": {
        "colab": {
          "base_uri": "https://localhost:8080/"
        },
        "id": "JsxrKJPREQc7",
        "outputId": "75b2a2d5-b0cf-4487-f32f-a9941711ba90"
      },
      "execution_count": null,
      "outputs": [
        {
          "output_type": "execute_result",
          "data": {
            "text/plain": [
              "array([0., 1., 2., 3., 4., 5., 6., 7., 8., 9.])"
            ]
          },
          "metadata": {},
          "execution_count": 4
        }
      ]
    },
    {
      "cell_type": "code",
      "source": [
        "a[5] = np.nan\n",
        "np.isnan(a[5]) \n"
      ],
      "metadata": {
        "colab": {
          "base_uri": "https://localhost:8080/"
        },
        "id": "I-OKJb_pEaiK",
        "outputId": "0e25dd6f-c006-4d4c-b5b5-6f7e145e52d5"
      },
      "execution_count": null,
      "outputs": [
        {
          "output_type": "execute_result",
          "data": {
            "text/plain": [
              "True"
            ]
          },
          "metadata": {},
          "execution_count": 5
        }
      ]
    },
    {
      "cell_type": "code",
      "source": [
        "a[5] == np.nan"
      ],
      "metadata": {
        "colab": {
          "base_uri": "https://localhost:8080/"
        },
        "id": "6R63ZxjAEt9B",
        "outputId": "eee83d06-3761-45e7-978f-4d0eaf3ac651"
      },
      "execution_count": null,
      "outputs": [
        {
          "output_type": "execute_result",
          "data": {
            "text/plain": [
              "False"
            ]
          },
          "metadata": {},
          "execution_count": 6
        }
      ]
    },
    {
      "cell_type": "code",
      "source": [
        "a[5] is np.nan"
      ],
      "metadata": {
        "colab": {
          "base_uri": "https://localhost:8080/"
        },
        "id": "lJNKS7TXE0VJ",
        "outputId": "e2de1825-1de3-4975-b56e-5dae2169a5cc"
      },
      "execution_count": null,
      "outputs": [
        {
          "output_type": "execute_result",
          "data": {
            "text/plain": [
              "False"
            ]
          },
          "metadata": {},
          "execution_count": 7
        }
      ]
    },
    {
      "cell_type": "code",
      "source": [
        "N = 100\n",
        "np.random.seed(73939133)\n",
        "x = np.zeros((N, 4))\n",
        "x[:, 0] = 5 * np.random.random(N)\n",
        "x[:, 1] = np.random.normal(10, 1, size=N)\n",
        "x[:, 2] = 3 * np.random.beta(5, 2, N)\n",
        "x[:, 3] = 0.3 * np.random.lognormal(size=N)\n",
        "\n",
        "plt.boxplot(x)\n",
        "plt.tight_layout(pad=0, w_pad=0, h_pad=0)\n",
        "plt.show()\n",
        "# plt.savefit(\"missing_box_plot.png\", dpi=300)\n",
        "# plt.close()"
      ],
      "metadata": {
        "colab": {
          "base_uri": "https://localhost:8080/",
          "height": 319
        },
        "id": "4-bSO15V_gnA",
        "outputId": "d257e601-c56e-447e-d9d0-691990cbc3c2"
      },
      "execution_count": null,
      "outputs": [
        {
          "output_type": "display_data",
          "data": {
            "image/png": "[encoded data removed]",
            "text/plain": [
              "<Figure size 432x288 with 1 Axes>"
            ]
          },
          "metadata": {
            "needs_background": "light"
          }
        }
      ]
    },
    {
      "cell_type": "code",
      "source": [
        "# Make 5% of the values NAN\n",
        "np.random.seed(73939133)\n",
        "\n",
        "i = np.random.randint(0, N, size=int(0.05*N))\n",
        "x[i, 0] = np.nan\n",
        "i = np.random.randint(0, N, size=int(0.05*N))\n",
        "x[i, 1] = np.nan\n",
        "i = np.random.randint(0, N, size=int(0.05*N))\n",
        "x[i, 2] = np.nan\n",
        "i = np.random.randint(0, N, size=int(0.05*N))\n",
        "x[i, 3] = np.nan"
      ],
      "metadata": {
        "id": "jFWh-UxwD8I_"
      },
      "execution_count": null,
      "outputs": []
    },
    {
      "cell_type": "code",
      "source": [
        "# Do we have NaNs in feature 2?\n",
        "if(np.isnan(x[:, 2]).sum() != 0):\n",
        "  print(\"NaNs present\")\n",
        "  i = np.where(np.isnan(x[:, 2]) == False)\n",
        "  z = x[i, 2]\n",
        "  mn, md, s = z.mean(), np.median(z), z.std(ddof=1)\n",
        "  hh, xx = np.histogram(z, bins=40)\n",
        "  plt.bar(xx[:-1], hh, width=0.8*(xx[1]-xx[0]))\n",
        "  plt.xlabel(\"x\")\n",
        "  plt.ylabel(\"Count\")\n",
        "  plt.tight_layout(pad=0, w_pad=0, h_pad=0)\n",
        "  plt.show()\n",
        "  # plt.savefit(\"missing_feature_2_plot.png\", dpi=300)\n",
        "  # plt.close()"
      ],
      "metadata": {
        "colab": {
          "base_uri": "https://localhost:8080/",
          "height": 336
        },
        "id": "c92SNvVNJOqM",
        "outputId": "311fa047-a4e4-4d7f-92c2-e17ba712d964"
      },
      "execution_count": null,
      "outputs": [
        {
          "output_type": "stream",
          "name": "stdout",
          "text": [
            "NaNs present\n"
          ]
        },
        {
          "output_type": "display_data",
          "data": {
            "image/png": "[encoded data removed]",
            "text/plain": [
              "<Figure size 432x288 with 1 Axes>"
            ]
          },
          "metadata": {
            "needs_background": "light"
          }
        }
      ]
    },
    {
      "cell_type": "code",
      "source": [
        "i = np.where(np.isnan(x[:, 2]) == True)\n",
        "print(i)"
      ],
      "metadata": {
        "colab": {
          "base_uri": "https://localhost:8080/"
        },
        "id": "BTEM1FEMTtP3",
        "outputId": "ad2bacfa-f537-4056-a83e-1211e0382e61"
      },
      "execution_count": null,
      "outputs": [
        {
          "output_type": "stream",
          "name": "stdout",
          "text": [
            "(array([16, 59, 94, 96, 97]),)\n"
          ]
        }
      ]
    },
    {
      "cell_type": "code",
      "source": [
        "x[i,2]"
      ],
      "metadata": {
        "colab": {
          "base_uri": "https://localhost:8080/"
        },
        "id": "ebeZsgVqT0g7",
        "outputId": "896bc0cf-5a57-4193-d74f-00d0fe66089e"
      },
      "execution_count": null,
      "outputs": [
        {
          "output_type": "execute_result",
          "data": {
            "text/plain": [
              "array([[nan, nan, nan, nan, nan]])"
            ]
          },
          "metadata": {},
          "execution_count": 12
        }
      ]
    },
    {
      "cell_type": "code",
      "source": [
        "\n",
        "\n",
        "print(\"non-Nan mean, std = \", z.mean(), z.std(ddof=1))\n",
        "print(\"updated mean, std = \", x[:, 2].mean(), x[:, 2].std(ddof=1))\n",
        "\n",
        "hh, xx = np.histogram(x[:, 2],  bins=40)\n",
        "plt.bar(xx[:-1], hh, width = 0.8 * (xx[1] - xx[0]))\n",
        "plt.xlabel(\"x\")\n",
        "plt.ylabel(\"Count\")\n",
        "plt.tight_layout(pad=0, w_pad=0, h_pad=0)\n",
        "plt.show()\n",
        "\n",
        "# plt.savefit(\"missing_feature_2_updated_plot.png\", dpi=300)\n",
        "# plt.close()\n",
        "\n"
      ],
      "metadata": {
        "colab": {
          "base_uri": "https://localhost:8080/",
          "height": 354
        },
        "id": "VYj9oBkSMIPO",
        "outputId": "d9778abe-4023-4598-86c0-384ee80964c8"
      },
      "execution_count": null,
      "outputs": [
        {
          "output_type": "stream",
          "name": "stdout",
          "text": [
            "non-Nan mean, std =  2.064587568137288 0.4321404138574721\n",
            "updated mean, std =  2.065900271842645 0.4211256652595745\n"
          ]
        },
        {
          "output_type": "display_data",
          "data": {
            "image/png": "[encoded data removed]",
            "text/plain": [
              "<Figure size 432x288 with 1 Axes>"
            ]
          },
          "metadata": {
            "needs_background": "light"
          }
        }
      ]
    },
    {
      "cell_type": "code",
      "source": [
        "# do the same with others\n",
        "good_idx = np.where(np.isnan(x[:, 0]) == False)\n",
        "m = np.median(x[good_idx, 0])\n",
        "bad_idx = np.where(np.isnan(x[:, 0]) == True)\n",
        "x[bad_idx, 0] = m\n",
        "\n",
        "good_idx = np.where(np.isnan(x[:, 1]) == False)\n",
        "m = np.median(x[good_idx, 1])\n",
        "bad_idx = np.where(np.isnan(x[:, 1]) == True)\n",
        "x[bad_idx, 1] = m\n",
        "\n",
        "good_idx = np.where(np.isnan(x[:, 3]) == False)\n",
        "m = np.median(x[good_idx, 3])\n",
        "bad_idx = np.where(np.isnan(x[:, 3]) == True)\n",
        "x[bad_idx, 3] = m\n"
      ],
      "metadata": {
        "id": "zsFsnLi6VcrK"
      },
      "execution_count": null,
      "outputs": []
    },
    {
      "cell_type": "code",
      "source": [
        "plt.boxplot(x)\n",
        "plt.tight_layout(pad=0, w_pad=0, h_pad=0)\n",
        "plt.show()\n",
        "# plt.savefit(\"missing_update_box_plot.png\", dpi=300)\n",
        "# plt.close()"
      ],
      "metadata": {
        "colab": {
          "base_uri": "https://localhost:8080/",
          "height": 319
        },
        "id": "TnrgAnK3V3hK",
        "outputId": "2c9bd90c-75fd-4dd6-c6b0-d4923b765e25"
      },
      "execution_count": null,
      "outputs": [
        {
          "output_type": "display_data",
          "data": {
            "image/png": "[encoded data removed]",
            "text/plain": [
              "<Figure size 432x288 with 1 Axes>"
            ]
          },
          "metadata": {
            "needs_background": "light"
          }
        }
      ]
    },
    {
      "cell_type": "code",
      "source": [
        ""
      ],
      "metadata": {
        "id": "kcH7xBERYS5V"
      },
      "execution_count": null,
      "outputs": []
    },
    {
      "cell_type": "markdown",
      "source": [
        "## Correlation"
      ],
      "metadata": {
        "id": "pdGu_LXN5JTu"
      }
    },
    {
      "cell_type": "code",
      "source": [
        "import numpy as np\n",
        "import matplotlib.pyplot as plt"
      ],
      "metadata": {
        "id": "rB0iI6ZY5LFP"
      },
      "execution_count": null,
      "outputs": []
    },
    {
      "cell_type": "code",
      "source": [
        "np.random.seed(8675309)\n",
        "\n",
        "N = 100\n",
        "x = np.linspace(0, 1, N) + (np.random.random(N) - 0.5)\n",
        "y = np.random.random(N) * x\n",
        "z = -0.1 * np.random.random(N)*x"
      ],
      "metadata": {
        "id": "C3FosiuB5Q3n"
      },
      "execution_count": null,
      "outputs": []
    },
    {
      "cell_type": "code",
      "source": [
        "print(x)\n",
        "print(y)\n",
        "print(z)"
      ],
      "metadata": {
        "colab": {
          "base_uri": "https://localhost:8080/"
        },
        "id": "OcmZ1_5t5WyG",
        "outputId": "1c6d6329-eeec-47d4-e04e-3d9f49a4668a"
      },
      "execution_count": null,
      "outputs": [
        {
          "output_type": "stream",
          "name": "stdout",
          "text": [
            "[ 0.31245912  0.2611461  -0.12243146 -0.26740219 -0.05059483 -0.36737022\n",
            " -0.22440742 -0.015412   -0.40102454  0.26068566  0.20111351  0.53039327\n",
            " -0.03605961  0.1864928   0.35893464 -0.16985312  0.59072878  0.43323201\n",
            " -0.19793649  0.32759112 -0.17227025 -0.17455559  0.54348101  0.68943772\n",
            " -0.20156662  0.43146638 -0.14555018  0.62743354 -0.14487476  0.77477553\n",
            "  0.69373662  0.20794274  0.17834131  0.57751433  0.07400327 -0.11141428\n",
            "  0.75526185  0.45961951  0.04589426  0.70675591  0.67929252  0.44484954\n",
            "  0.32735994 -0.05185545  0.49659441  0.10242908  0.61557639  0.77006253\n",
            "  0.90098178  0.7179596   0.1496393   0.08213664  0.71036937  0.19528999\n",
            "  0.79001132  0.6103903   0.43356075  1.01611532  0.39353825  0.37885225\n",
            "  0.87835903  0.69838204  0.52661854  0.30528467  0.85784283  0.47356657\n",
            "  1.14576795  0.40272775  1.10843673  0.92624655  0.84897998  0.38436518\n",
            "  0.53827757  0.37249526  0.57255794  0.33664615  0.66849967  1.14836383\n",
            "  0.82876692  1.06471669  0.33345306  0.82493151  0.42972317  0.88457281\n",
            "  1.21421131  1.12777813  1.14781804  0.64788844  0.54896012  0.59893518\n",
            "  0.42889039  0.65373076  1.21449017  1.3236575   1.24224823  0.69933881\n",
            "  0.77213148  1.26742441  1.45291419  0.58542485]\n",
            "[ 7.99006163e-02  1.52355907e-01 -1.20261858e-01 -2.50250166e-01\n",
            " -3.28250523e-02 -1.23581197e-01 -1.04460161e-01 -1.53312214e-03\n",
            " -3.40631426e-02  3.15056920e-04  2.18973364e-02  4.49087951e-01\n",
            " -1.41859452e-03  1.69600416e-01  3.19962470e-01 -4.13914871e-02\n",
            "  2.36351846e-02  3.21327867e-01 -4.04756297e-02  2.90482537e-01\n",
            " -9.47913702e-02 -9.44846737e-02  2.88751177e-01  3.17729725e-01\n",
            " -1.79600894e-01  4.34668100e-02 -2.30827187e-02  9.78568636e-03\n",
            " -5.85229656e-02  4.12849959e-01  5.51889008e-01  1.45332153e-01\n",
            "  7.02170442e-02  2.14869356e-01  6.56469464e-02 -5.54613291e-02\n",
            "  2.08895022e-01  4.51757096e-01  3.31799790e-02  6.99498747e-01\n",
            "  6.12339058e-02  2.53585659e-01  2.70005590e-02 -4.63461302e-02\n",
            "  1.91065050e-01  1.71842851e-02  1.84095995e-01  4.65716469e-02\n",
            "  2.66529762e-01  6.73434998e-01  1.31530918e-01  7.39318582e-02\n",
            "  3.31317076e-01  3.69574698e-02  5.63394490e-01  3.78084996e-01\n",
            "  8.43487664e-02  1.99337483e-01  2.42378329e-01  2.62705288e-01\n",
            "  8.14506014e-01  3.60010052e-03  3.87728254e-01  2.82532043e-01\n",
            "  5.95674675e-02  4.37894910e-01  6.04922522e-01  2.24272528e-01\n",
            "  5.39704130e-02  9.19984702e-01  4.46605337e-01  6.72515413e-02\n",
            "  3.45368162e-01  3.23997284e-01  5.49408785e-01  2.57200342e-01\n",
            "  5.68993962e-01  5.89719521e-01  5.78604343e-01  2.15844003e-01\n",
            "  2.09497776e-02  2.81107023e-02  3.88105916e-01  4.86720682e-03\n",
            "  4.11293217e-01  3.51642800e-02  3.13316095e-01  5.19251171e-01\n",
            "  5.24114261e-01  1.57036591e-01  1.96267806e-01  4.37030767e-01\n",
            "  6.22107972e-01  3.73916702e-01  1.20115776e+00  9.87541946e-02\n",
            "  7.56660126e-01  1.24660439e+00  7.62884461e-01  4.08002626e-01]\n",
            "[-1.46691292e-02 -7.30663305e-03  3.58678820e-04  6.19277258e-03\n",
            "  4.37892195e-03  1.64117675e-02  1.78262255e-02  1.50681223e-03\n",
            "  2.30184825e-02 -4.10676281e-03 -1.94406748e-02 -3.76874431e-02\n",
            "  2.62224295e-03 -5.38770849e-03 -9.37875893e-04  1.21492634e-02\n",
            " -2.21437514e-02 -2.36106935e-02  7.07830970e-03 -6.16292015e-03\n",
            "  4.15354255e-03  7.10677558e-03 -7.42509805e-03 -4.95859956e-02\n",
            "  3.42016735e-05 -1.11184180e-02  3.88679154e-03 -5.12553117e-02\n",
            "  4.45872939e-03 -3.94888476e-02 -3.21912719e-02 -1.28350573e-02\n",
            " -3.32406197e-03 -2.86555061e-04 -2.99497121e-03  1.08829078e-02\n",
            " -3.87554607e-02 -1.34891315e-02 -3.61418943e-03 -1.74049714e-02\n",
            " -3.58372301e-02 -4.42072864e-02 -1.16964090e-02  4.55931598e-03\n",
            " -3.85542611e-02 -8.66721748e-03 -2.84830782e-02 -4.19912140e-02\n",
            " -2.87325055e-02 -3.77498566e-02 -1.46182326e-02 -8.14053949e-03\n",
            " -4.42101623e-02 -6.03864925e-03 -5.86567310e-02 -2.10791540e-02\n",
            " -1.27298663e-02 -4.62847979e-02 -1.63210505e-02 -1.69146468e-02\n",
            " -4.99487885e-02 -3.94387327e-02 -3.76355702e-02 -3.76921108e-03\n",
            " -1.50187742e-02 -4.17843198e-02 -1.05179197e-01 -2.82627953e-02\n",
            " -9.51630762e-02 -8.17860554e-02 -3.41195851e-02 -1.65488559e-02\n",
            " -9.63212011e-03 -8.77412039e-03 -2.23225182e-02 -2.89920688e-02\n",
            " -3.80213818e-02 -1.14605526e-01 -6.27585377e-02 -9.32145474e-02\n",
            " -2.37426719e-02 -8.21904223e-02 -5.05222172e-04 -6.34954486e-02\n",
            " -9.69767318e-02 -7.61205153e-02 -6.04999139e-02 -2.77201083e-02\n",
            " -5.48948696e-02 -2.27324164e-02 -1.19945242e-02 -5.54381497e-02\n",
            " -8.58674725e-02 -3.20889895e-02 -4.56014917e-02 -2.99346821e-02\n",
            " -7.47239643e-02 -7.25423278e-02 -6.71998730e-02 -2.42552698e-02]\n"
          ]
        }
      ]
    },
    {
      "cell_type": "code",
      "source": [
        "plt.plot(np.linspace(0, 1, N), x, color='r')\n",
        "plt.plot(np.linspace(0, 1, N), y, color='g')\n",
        "plt.plot(np.linspace(0, 1, N), z, color='b')\n",
        "\n",
        "plt.plot(np.linspace(0, 1, N)[::5], x[::5], color='r', marker=\"o\", linestyle=\"none\", label=\"X\")\n",
        "plt.plot(np.linspace(0, 1, N)[::5], y[::5], color='g', marker=\"s\", linestyle=\"none\", label=\"Y\")\n",
        "plt.plot(np.linspace(0, 1, N)[::5], z[::5], color='b', marker=\"*\", linestyle=\"none\", label=\"Z\")\n",
        "\n",
        "plt.legend(loc=\"upper left\")\n",
        "plt.tight_layout(pad=0, w_pad=0, h_pad=0)\n",
        "plt.show()\n",
        "\n",
        "# plt.savefig(\"correlation_scatter_plot.png\", dpi=300)\n",
        "# plt.close()\n"
      ],
      "metadata": {
        "colab": {
          "base_uri": "https://localhost:8080/",
          "height": 319
        },
        "id": "qoj7BJSv6XO1",
        "outputId": "98e98cb9-4017-4e6e-da03-782bad053861"
      },
      "execution_count": null,
      "outputs": [
        {
          "output_type": "display_data",
          "data": {
            "image/png": "[encoded data removed]",
            "text/plain": [
              "<Figure size 432x288 with 1 Axes>"
            ]
          },
          "metadata": {
            "needs_background": "light"
          }
        }
      ]
    },
    {
      "cell_type": "code",
      "source": [
        "plt.plot(x, y, marker='o', linestyle='none', color='r', label='X,Y')\n",
        "plt.plot(x, z, marker='s', linestyle='none', color='g', label='X,Z')\n",
        "plt.plot(y, z, marker='*', linestyle='none', color='b', label='Y,Z')\n",
        "plt.legend(loc=\"upper left\")\n",
        "plt.tight_layout(pad=0, w_pad=0, h_pad=0)\n",
        "plt.show()\n",
        "\n",
        "# plt.savefig(\"correlation_scatter_plot.png\", dpi=300)\n",
        "# plt.close()\n",
        "\n"
      ],
      "metadata": {
        "colab": {
          "base_uri": "https://localhost:8080/",
          "height": 319
        },
        "id": "UOh3ZPih92aA",
        "outputId": "438ca868-56f4-4704-b3ec-6dfc626d04af"
      },
      "execution_count": null,
      "outputs": [
        {
          "output_type": "display_data",
          "data": {
            "image/png": "[encoded data removed]",
            "text/plain": [
              "<Figure size 432x288 with 1 Axes>"
            ]
          },
          "metadata": {
            "needs_background": "light"
          }
        }
      ]
    },
    {
      "cell_type": "code",
      "source": [
        "from scipy.stats import pearsonr, spearmanr\n",
        "print(\"Pearson(x, y) : \", pearsonr(x, y)[0])\n",
        "print(\"Spearman(x, y) : \", spearmanr(x, y)[0])\n",
        "print()\n",
        "print(\"Pearson(x, z) : \", pearsonr(x, z)[0])\n",
        "print(\"Spearman(x, z) : \", spearmanr(x, z)[0])\n",
        "print()\n",
        "print(\"Pearson(y, z) : \", pearsonr(y, z)[0])\n",
        "print(\"Spearman(y, z) : \", spearmanr(y, z)[0])\n",
        "print()"
      ],
      "metadata": {
        "colab": {
          "base_uri": "https://localhost:8080/"
        },
        "id": "wV1l5geL_d2c",
        "outputId": "e8ea6d94-bd8e-45e3-a9b0-6daa3894bc40"
      },
      "execution_count": null,
      "outputs": [
        {
          "output_type": "stream",
          "name": "stdout",
          "text": [
            "Pearson(x, y) :  0.6828516550443248\n",
            "Spearman(x, y) :  0.6940174017401739\n",
            "\n",
            "Pearson(x, z) :  -0.8504746770227909\n",
            "Spearman(x, z) :  -0.895085508550855\n",
            "\n",
            "Pearson(y, z) :  -0.5653610370701884\n",
            "Spearman(y, z) :  -0.6414041404140414\n",
            "\n"
          ]
        }
      ]
    },
    {
      "cell_type": "code",
      "source": [
        "def pearson(x, y):\n",
        "  exy = (x*y).mean()\n",
        "  ex = x.mean()\n",
        "  ey = y.mean()\n",
        "  exx = (x*x).mean()\n",
        "  ex2 = x.mean() ** 2\n",
        "  eyy = (y*y).mean()\n",
        "  ey2 = y.mean()**2\n",
        "\n",
        "  return (exy - ex * ey)/(np.sqrt(exx-ex2) * np.sqrt(eyy-ey2))"
      ],
      "metadata": {
        "id": "hSsi6zmiBe_R"
      },
      "execution_count": null,
      "outputs": []
    },
    {
      "cell_type": "code",
      "source": [
        "print(\"Pearson(x,y): \", pearson(x, y))\n",
        "print(\"Pearson(x, z): \", pearson(x, z))\n",
        "print(\"Pearson(y, z): \", pearson(y, z))"
      ],
      "metadata": {
        "id": "UijsUrFRDQ5v",
        "colab": {
          "base_uri": "https://localhost:8080/"
        },
        "outputId": "ef5bdeef-6994-4393-c8ff-314bcfad0303"
      },
      "execution_count": null,
      "outputs": [
        {
          "output_type": "stream",
          "name": "stdout",
          "text": [
            "Pearson(x,y):  0.6828516550443247\n",
            "Pearson(x, z):  -0.8504746770227909\n",
            "Pearson(y, z):  -0.5653610370701883\n"
          ]
        }
      ]
    },
    {
      "cell_type": "code",
      "source": [
        "d = np.vstack((x, y, z))\n",
        "print(np.corrcoef(d))\n",
        "print()"
      ],
      "metadata": {
        "colab": {
          "base_uri": "https://localhost:8080/"
        },
        "id": "_avPrU_etX8B",
        "outputId": "9e0c68cc-d995-47d8-9cbf-db6c8c6cd296"
      },
      "execution_count": null,
      "outputs": [
        {
          "output_type": "stream",
          "name": "stdout",
          "text": [
            "[[ 1.          0.68285166 -0.85047468]\n",
            " [ 0.68285166  1.         -0.56536104]\n",
            " [-0.85047468 -0.56536104  1.        ]]\n",
            "\n"
          ]
        }
      ]
    },
    {
      "cell_type": "code",
      "source": [
        "from sklearn.datasets import load_sample_image\n",
        "china = load_sample_image('china.jpg')\n",
        "a = china[230, :, 1].astype(\"float64\")\n",
        "b = china[231, :, 1].astype(\"float64\")\n",
        "c = china[400, :, 1].astype(\"float64\")\n",
        "d = np.random.random(640)\n",
        "print(\"china(a, b): \", pearson(a, b))\n",
        "print(\"china(a, c): \", pearson(a, c))\n",
        "print(\"china(a, d): \", pearson(a, d))\n",
        "print()"
      ],
      "metadata": {
        "colab": {
          "base_uri": "https://localhost:8080/"
        },
        "id": "qQbh1ekuueDl",
        "outputId": "4dccdf02-494c-4f4b-ef8b-76c7f4279100"
      },
      "execution_count": null,
      "outputs": [
        {
          "output_type": "stream",
          "name": "stdout",
          "text": [
            "china(a, b):  0.8979359541118713\n",
            "china(a, c):  -0.276082058438271\n",
            "china(a, d):  -0.06717496519306748\n",
            "\n"
          ]
        }
      ]
    },
    {
      "cell_type": "code",
      "source": [
        "# Spearman\n",
        "\n",
        "def spearman(x, y):\n",
        "  n = len(x)\n",
        "  t = x[np.argsort(x)]\n",
        "  rx = []\n",
        "  for i in range(n):\n",
        "    rx.append(np.where(x[i] == t)[0][0])\n",
        "  rx = np.array(rx, dtype=\"float64\")\n",
        "  t = y[np.argsort(y)]\n",
        "  ry = []\n",
        "  for i in range(n):\n",
        "    ry.append(np.where(y[i] == t)[0][0])\n",
        "  ry = np.array(ry, dtype=\"float64\")\n",
        "  d = rx - ry\n",
        "  return 1.0 - (6.0/(n*(n*n-1))) * (d**2).sum()\n"
      ],
      "metadata": {
        "id": "MVQwVtARwSxj"
      },
      "execution_count": null,
      "outputs": []
    },
    {
      "cell_type": "code",
      "source": [
        "print(spearman(x, y), spearmanr(x, y)[0])\n",
        "print(spearman(x, z), spearmanr(x, z)[0])\n",
        "print(spearman(y, z), spearmanr(y, z)[0])"
      ],
      "metadata": {
        "colab": {
          "base_uri": "https://localhost:8080/"
        },
        "id": "hK2Ns6o44tJD",
        "outputId": "3f76e0e0-f3bb-47aa-8aca-947a5da095ee"
      },
      "execution_count": null,
      "outputs": [
        {
          "output_type": "stream",
          "name": "stdout",
          "text": [
            "0.694017401740174 0.6940174017401739\n",
            "-0.8950855085508551 -0.895085508550855\n",
            "-0.6414041404140414 -0.6414041404140414\n"
          ]
        }
      ]
    },
    {
      "cell_type": "code",
      "source": [
        "# correlation between linear ramp and sigmoid functions\n",
        "ramp = np.linspace(-20, 20, 1000)\n",
        "sig = 1.0 / (1.0 + np.exp(-a))\n",
        "print(pearson(ramp, sig))\n",
        "print(spearman(ramp, sig))"
      ],
      "metadata": {
        "colab": {
          "base_uri": "https://localhost:8080/"
        },
        "id": "eIyrquGI5OEw",
        "outputId": "adfb085e-9d95-4665-b2d6-8e588b07cf6c"
      },
      "execution_count": null,
      "outputs": [
        {
          "output_type": "stream",
          "name": "stdout",
          "text": [
            "0.9053277293366915\n",
            "1.0\n"
          ]
        }
      ]
    },
    {
      "cell_type": "code",
      "source": [
        "s = np.array([3, 1, 4, 2])\n",
        "np.argsort(s)\n"
      ],
      "metadata": {
        "colab": {
          "base_uri": "https://localhost:8080/"
        },
        "id": "eB5ww1ea5uEx",
        "outputId": "1e472c67-9cb9-4afa-f290-f83e41982ba8"
      },
      "execution_count": null,
      "outputs": [
        {
          "output_type": "execute_result",
          "data": {
            "text/plain": [
              "array([1, 3, 0, 2])"
            ]
          },
          "metadata": {},
          "execution_count": 16
        }
      ]
    },
    {
      "cell_type": "code",
      "source": [
        "np.sort(s)"
      ],
      "metadata": {
        "colab": {
          "base_uri": "https://localhost:8080/"
        },
        "id": "kpC40ALS7dRO",
        "outputId": "a6b80b41-c21f-444b-fe64-ef282b66de93"
      },
      "execution_count": null,
      "outputs": [
        {
          "output_type": "execute_result",
          "data": {
            "text/plain": [
              "array([1, 2, 3, 4])"
            ]
          },
          "metadata": {},
          "execution_count": 17
        }
      ]
    },
    {
      "cell_type": "code",
      "source": [
        "s[np.argsort(s)]"
      ],
      "metadata": {
        "colab": {
          "base_uri": "https://localhost:8080/"
        },
        "id": "FyssEM2p7kHc",
        "outputId": "a6e23d8b-fbe1-4507-fc89-1bae23d6e7ae"
      },
      "execution_count": null,
      "outputs": [
        {
          "output_type": "execute_result",
          "data": {
            "text/plain": [
              "array([1, 2, 3, 4])"
            ]
          },
          "metadata": {},
          "execution_count": 18
        }
      ]
    },
    {
      "cell_type": "code",
      "source": [
        "l = s[np.argsort(s)]"
      ],
      "metadata": {
        "id": "GKkBgk2174Es"
      },
      "execution_count": null,
      "outputs": []
    },
    {
      "cell_type": "code",
      "source": [
        "for i in range(len(s)):\n",
        "  np.where(s[i] == l)\n",
        "  print(s[i], l)"
      ],
      "metadata": {
        "colab": {
          "base_uri": "https://localhost:8080/"
        },
        "id": "Id0jEP2e85qD",
        "outputId": "dd42f3ee-e5b1-4b7a-f0af-7510729c3aca"
      },
      "execution_count": null,
      "outputs": [
        {
          "output_type": "stream",
          "name": "stdout",
          "text": [
            "3 [1 2 3 4]\n",
            "1 [1 2 3 4]\n",
            "4 [1 2 3 4]\n",
            "2 [1 2 3 4]\n"
          ]
        }
      ]
    },
    {
      "cell_type": "code",
      "source": [
        "sx = []\n",
        "for i in range(len(s)):\n",
        "  sx.append(np.where(s[i] == l))\n",
        "  print(sx)"
      ],
      "metadata": {
        "colab": {
          "base_uri": "https://localhost:8080/"
        },
        "id": "Mo-xRJkj9y7J",
        "outputId": "d2e35a1c-0b52-4f88-c747-d9a824d5427c"
      },
      "execution_count": null,
      "outputs": [
        {
          "output_type": "stream",
          "name": "stdout",
          "text": [
            "[(array([2]),)]\n",
            "[(array([2]),), (array([0]),)]\n",
            "[(array([2]),), (array([0]),), (array([3]),)]\n",
            "[(array([2]),), (array([0]),), (array([3]),), (array([1]),)]\n"
          ]
        }
      ]
    },
    {
      "cell_type": "code",
      "source": [
        "print(sx[0])"
      ],
      "metadata": {
        "colab": {
          "base_uri": "https://localhost:8080/"
        },
        "id": "b2hpQqLU-Y0n",
        "outputId": "d4c9b2b9-5dac-44d4-b634-3255a678acf9"
      },
      "execution_count": null,
      "outputs": [
        {
          "output_type": "stream",
          "name": "stdout",
          "text": [
            "(array([2]),)\n"
          ]
        }
      ]
    },
    {
      "cell_type": "code",
      "source": [
        ""
      ],
      "metadata": {
        "id": "26yvyoqY-iu2"
      },
      "execution_count": null,
      "outputs": []
    },
    {
      "cell_type": "markdown",
      "source": [
        "## **Hypothesis**"
      ],
      "metadata": {
        "id": "vkmTadhKdwn4"
      }
    },
    {
      "cell_type": "code",
      "source": [
        "import numpy as np\n",
        "import matplotlib.pylab as plt"
      ],
      "metadata": {
        "id": "VC1zr6uBd1pq"
      },
      "execution_count": 1,
      "outputs": []
    },
    {
      "cell_type": "code",
      "source": [
        "np.random.seed(65535)\n",
        "a = np.random.normal(85, 6, 50).astype('int32')\n",
        "a[np.where(a > 100)] = 100\n",
        "b = np.random.normal(82, 7, 50).astype(\"int32\")\n",
        "b[np.where(b > 100)] = 100"
      ],
      "metadata": {
        "id": "AikNLto3eLx8"
      },
      "execution_count": 2,
      "outputs": []
    },
    {
      "cell_type": "code",
      "source": [
        "print(a)\n",
        "print()\n",
        "print(b)\n",
        "print()"
      ],
      "metadata": {
        "colab": {
          "base_uri": "https://localhost:8080/"
        },
        "id": "VkXGpnv2gV3W",
        "outputId": "f0a48117-32a6-4da5-d670-0a1cbd186e2f"
      },
      "execution_count": 3,
      "outputs": [
        {
          "output_type": "stream",
          "name": "stdout",
          "text": [
            "[ 81  80  85  87  83  87 100  90  79  83  88  75  87  92  78  80  83  91\n",
            "  82  88  89  92  97  82  79  82  82  85  89  91  83  85  77  81  90  87\n",
            "  82  84  86  79  84  85  90  84  90  85  85  78  94  87]\n",
            "\n",
            "[92 82 78 74 86 69 83 67 85 82 81 91 79 82 82 88 80 63 85 86 77 94 85 75\n",
            " 77 89 86 71 82 82 80 88 72 91 90 92 95 87 71 83 94 90 78 60 76 88 91 83\n",
            " 85 73]\n",
            "\n"
          ]
        }
      ]
    },
    {
      "cell_type": "code",
      "source": [
        "print(\"With means of 82 & 85: \")\n",
        "from scipy.stats import ttest_ind\n",
        "t, p = ttest_ind(a, b, equal_var=False)\n",
        "print(\"(t=%0.5f, p=%0.5f)\" %(t, p))"
      ],
      "metadata": {
        "colab": {
          "base_uri": "https://localhost:8080/"
        },
        "id": "cnNv8a3FlTOq",
        "outputId": "cbe836cf-d211-4f5f-ad44-328014ccca05"
      },
      "execution_count": 4,
      "outputs": [
        {
          "output_type": "stream",
          "name": "stdout",
          "text": [
            "With means of 82 & 85: \n",
            "(t=2.40234, p=0.01852)\n"
          ]
        }
      ]
    },
    {
      "cell_type": "code",
      "source": [
        "from scipy.stats import mannwhitneyu\n",
        "u, p = mannwhitneyu(a, b)\n",
        "print(\"(U=%0.5f, P=%0.5f)\" %(u, p))"
      ],
      "metadata": {
        "colab": {
          "base_uri": "https://localhost:8080/"
        },
        "id": "rqw7ksUXmFUX",
        "outputId": "7ec0073a-6935-4a8d-8c7c-4988e2a74f63"
      },
      "execution_count": 5,
      "outputs": [
        {
          "output_type": "stream",
          "name": "stdout",
          "text": [
            "(U=997.00000, P=0.04058)\n"
          ]
        }
      ]
    },
    {
      "cell_type": "code",
      "source": [
        "plt.boxplot((a, b))\n",
        "plt.xlabel(\"Group\")\n",
        "plt.ylabel(\"Test score\")\n",
        "plt.show()\n",
        "# plt.savefig(\"hypothesis_box_plot.png\", dpi=300)\n",
        "# plt.close()"
      ],
      "metadata": {
        "colab": {
          "base_uri": "https://localhost:8080/",
          "height": 279
        },
        "id": "2ynsOmojojFP",
        "outputId": "6666e98a-526b-401c-cca4-1a7d5d937bbd"
      },
      "execution_count": 6,
      "outputs": [
        {
          "output_type": "display_data",
          "data": {
            "image/png": "[encoded data removed]",
            "text/plain": [
              "<Figure size 432x288 with 1 Axes>"
            ]
          },
          "metadata": {
            "needs_background": "light"
          }
        }
      ]
    },
    {
      "cell_type": "code",
      "source": [
        "h, x = np.histogram(a, bins=10)\n",
        "plt.bar(x[:-1], h, width=0.4*(x[1]-x[0]), label=\"Group A\")\n",
        "h, y = np.histogram(b, bins=10)\n",
        "plt.bar(y[:-1] + (x[1]-x[0])/2, h, width=0.4*(x[1]-x[1]), label=\"Group B\")\n",
        "plt.legend(\"upper left\")\n",
        "plt.ylabel(\"Counts\")\n",
        "plt.tight_layout(pad=0, w_pad=0, h_pad=0)\n",
        "plt.show()\n",
        "# plt.savefig(\"hypothesis_bar_plot.png\", dpi=300)\n",
        "# plt.close()"
      ],
      "metadata": {
        "colab": {
          "base_uri": "https://localhost:8080/",
          "height": 319
        },
        "id": "tEOr5I_jp2J6",
        "outputId": "0ac1e49a-796f-4228-d197-7a63cc50d810"
      },
      "execution_count": 7,
      "outputs": [
        {
          "output_type": "display_data",
          "data": {
            "image/png": "[encoded data removed]",
            "text/plain": [
              "<Figure size 432x288 with 1 Axes>"
            ]
          },
          "metadata": {
            "needs_background": "light"
          }
        }
      ]
    },
    {
      "cell_type": "code",
      "source": [
        "# CI for Welch's t-test\n",
        "from scipy import stats\n",
        "\n",
        "def CI(a, b, alpha=0.5):\n",
        "  n1, n2 = len(a), len(b)\n",
        "  s1, s2 = np.std(a, ddof=1)**2, np.std(b, ddof=1)**2\n",
        "  df = (s1/n1 + s2/n2)**2 / ((s1/n1)**2/(n1-1) + (s2/n2)**2/(n2-1))\n",
        "  tc = stats.t.ppf(1- alpha/2, df)\n",
        "  lo = (a.mean() - b.mean()) - tc*np.sqrt(s1/n1 + s2/n2)\n",
        "  hi = (a.mean() - b.mean()) + tc*np.sqrt(s1/n1 + s2/n2)\n",
        "  return lo, hi"
      ],
      "metadata": {
        "id": "Z-PHmj-Isq0w"
      },
      "execution_count": 8,
      "outputs": []
    },
    {
      "cell_type": "code",
      "source": [
        "lo, hi = CI(a, b)\n",
        "print(\"C195 = (%0.5f, %0.5f)\" % (lo, hi))"
      ],
      "metadata": {
        "colab": {
          "base_uri": "https://localhost:8080/"
        },
        "id": "beIfv8wGvksm",
        "outputId": "3d13c789-911d-48b4-a9a6-4e16ffd374fe"
      },
      "execution_count": 9,
      "outputs": [
        {
          "output_type": "stream",
          "name": "stdout",
          "text": [
            "C195 = (2.34069, 4.17931)\n"
          ]
        }
      ]
    },
    {
      "cell_type": "code",
      "source": [
        "# Cohen's d\n",
        "def Cohen_d(a, b):\n",
        "  s1 = np.std(a, ddof=1)**2\n",
        "  s2 = np.std(b, ddof=1)**2\n",
        "  return (a.mean() - b.mean()) / np.sqrt(0.5*(s1+s2))"
      ],
      "metadata": {
        "id": "f1P3O6QrwLDj"
      },
      "execution_count": 10,
      "outputs": []
    },
    {
      "cell_type": "code",
      "source": [
        "print(\"Cohen's d = %0.5f\" % Cohen_d(a, b))"
      ],
      "metadata": {
        "colab": {
          "base_uri": "https://localhost:8080/"
        },
        "id": "r4cvOjlrw39x",
        "outputId": "ad57c162-e2eb-4b1d-ccee-bb4a251d1e50"
      },
      "execution_count": 11,
      "outputs": [
        {
          "output_type": "stream",
          "name": "stdout",
          "text": [
            "Cohen's d = 0.48047\n"
          ]
        }
      ]
    },
    {
      "cell_type": "code",
      "source": [
        "# Change the means to one step closer\n",
        "np.random.seed(65535)\n",
        "a = np.random.normal(85, 6, 50).astype('int32')\n",
        "a[np.where(a > 100)] = 100\n",
        "b = np.random.normal(83, 7, 50).astype(\"int32\")\n",
        "b[np.where(b > 100)] = 100"
      ],
      "metadata": {
        "id": "AiBngqasx6rt"
      },
      "execution_count": 12,
      "outputs": []
    },
    {
      "cell_type": "code",
      "source": [
        "print(\"With means of 81 & 85: \")\n",
        "t, p = ttest_ind(a, b, equal_var=False)\n",
        "print(\"(t=%0.5f, p=%0.5f)\" % (t, p))\n",
        "u, p = mannwhitneyu(a, b)\n",
        "print(\"(U=%0.5f, P=%0.5f)\" % (u, p))\n"
      ],
      "metadata": {
        "id": "9KYTnMjq0O7W",
        "colab": {
          "base_uri": "https://localhost:8080/"
        },
        "outputId": "7ca14a11-15e0-4912-ae75-d54cfb0818a6"
      },
      "execution_count": 13,
      "outputs": [
        {
          "output_type": "stream",
          "name": "stdout",
          "text": [
            "With means of 81 & 85: \n",
            "(t=1.66543, p=0.09959)\n",
            "(U=1104.50000, P=0.15839)\n"
          ]
        }
      ]
    },
    {
      "cell_type": "code",
      "source": [
        "# Effect of sample size \n",
        "np.random.seed(65535)\n",
        "pt = []\n",
        "et = []\n",
        "pm = []\n",
        "em = []\n",
        "M = 25\n",
        "n = [20,40,60,80,100,120,140,160,180,200,250,300,350,400,450,500,750,1000]\n",
        "for i in n:\n",
        "  p = []\n",
        "  t = []\n",
        "  for j in range(M):\n",
        "    a = np.random.normal(85, 6, i).astype(\"int32\")\n",
        "    a[np.where(a > 100)] = 100\n",
        "    b = np.random.normal(84, 7, i).astype(\"int32\")\n",
        "    b[np.where(b > 100)] = 100\n",
        "    t.append(ttest_ind(a, b, equal_var=False)[1])\n",
        "    p.append(mannwhitneyu(a, b)[1])\n",
        "  pt.append(np.array(t).mean())\n",
        "  et.append(np.array(t).std(ddof=1)/np.sqrt(M))\n",
        "  pm.append(np.array(p).mean())\n",
        "  em.append(np.array(p).std(ddof=1)/np.sqrt(M))\n",
        "  if (i==1000):\n",
        "    print(\"n=1000 Cohen's d = %0.5f\" % Cohen_d(a, b))\n"
      ],
      "metadata": {
        "colab": {
          "base_uri": "https://localhost:8080/"
        },
        "id": "uuS9A7zMZ4b4",
        "outputId": "814474e8-f8f6-42c7-a796-fc77bce28225"
      },
      "execution_count": 15,
      "outputs": [
        {
          "output_type": "stream",
          "name": "stdout",
          "text": [
            "n=1000 Cohen's d = 0.12731\n"
          ]
        }
      ]
    },
    {
      "cell_type": "code",
      "source": [
        "pt = np.array(pt)\n",
        "pm = np.array(pm)\n",
        "et = np.array(et)\n",
        "em = np.array(em)\n",
        "\n",
        "plt.errorbar(n, pt, et, marker='o', label='t-test')\n",
        "plt.errorbar(n, pm, em, marker='s', label='Mann-Whitney U')\n",
        "plt.xlabel('Sample size')\n",
        "plt.ylabel(\"$p$-value\")\n",
        "plt.legend(loc=\"upper left\")\n",
        "plt.tight_layout(pad=0, w_pad=0, h_pad=0)\n",
        "plt.show()\n",
        "# plt.savefig(\"hypothesis_pvalue_plot.png\", dpi=300)\n",
        "# plt.close()"
      ],
      "metadata": {
        "colab": {
          "base_uri": "https://localhost:8080/",
          "height": 319
        },
        "id": "k0n4jHZseHKp",
        "outputId": "15b63925-5a21-4184-cac3-3dcbb05d85c2"
      },
      "execution_count": 17,
      "outputs": [
        {
          "output_type": "display_data",
          "data": {
            "image/png": "[encoded data removed]",
            "text/plain": [
              "<Figure size 432x288 with 1 Axes>"
            ]
          },
          "metadata": {
            "needs_background": "light"
          }
        }
      ]
    },
    {
      "cell_type": "code",
      "source": [
        ""
      ],
      "metadata": {
        "id": "YtRFjdMnfXpl"
      },
      "execution_count": null,
      "outputs": []
    }
  ]
}