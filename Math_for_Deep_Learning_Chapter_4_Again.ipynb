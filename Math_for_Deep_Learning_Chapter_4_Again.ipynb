{
  "nbformat": 4,
  "nbformat_minor": 0,
  "metadata": {
    "colab": {
      "provenance": [],
      "toc_visible": true
    },
    "kernelspec": {
      "name": "python3",
      "display_name": "Python 3"
    },
    "language_info": {
      "name": "python"
    }
  },
  "cells": [
    {
      "cell_type": "code",
      "execution_count": null,
      "metadata": {
        "id": "1iM0Kgaz4nRi"
      },
      "outputs": [],
      "source": [
        "import numpy as np"
      ]
    },
    {
      "cell_type": "code",
      "source": [
        "n = 10"
      ],
      "metadata": {
        "id": "qaANn6B04xdW"
      },
      "execution_count": null,
      "outputs": []
    },
    {
      "cell_type": "code",
      "source": [
        "a = np.random.random(n)"
      ],
      "metadata": {
        "id": "cpAVMS9j4y8m"
      },
      "execution_count": null,
      "outputs": []
    },
    {
      "cell_type": "code",
      "source": [
        "(1/n) * ((a-a.mean())**2).sum()"
      ],
      "metadata": {
        "colab": {
          "base_uri": "https://localhost:8080/"
        },
        "id": "AO47H0kC42bG",
        "outputId": "df6f3740-b8d5-4635-b2cd-18f04307e3bd"
      },
      "execution_count": null,
      "outputs": [
        {
          "output_type": "execute_result",
          "data": {
            "text/plain": [
              "0.11019180519093408"
            ]
          },
          "metadata": {},
          "execution_count": 14
        }
      ]
    },
    {
      "cell_type": "code",
      "source": [
        "(1/(n-1)) * ((a-a.mean())**2).sum()"
      ],
      "metadata": {
        "colab": {
          "base_uri": "https://localhost:8080/"
        },
        "id": "EWcXptOn5EqW",
        "outputId": "852b691b-a13c-4f64-a07f-a9a2fe94ad0a"
      },
      "execution_count": null,
      "outputs": [
        {
          "output_type": "execute_result",
          "data": {
            "text/plain": [
              "0.12243533910103786"
            ]
          },
          "metadata": {},
          "execution_count": 16
        }
      ]
    },
    {
      "cell_type": "code",
      "source": [
        "# if we increase the sample size, n-1 is similar to n\n",
        "n = 10000"
      ],
      "metadata": {
        "id": "lVCfmnQl5n9V"
      },
      "execution_count": null,
      "outputs": []
    },
    {
      "cell_type": "code",
      "source": [
        "a = np.random.random(n)"
      ],
      "metadata": {
        "id": "lTERiil-53UU"
      },
      "execution_count": null,
      "outputs": []
    },
    {
      "cell_type": "code",
      "source": [
        "(1/n) * ((a-a.mean())**2).sum()"
      ],
      "metadata": {
        "colab": {
          "base_uri": "https://localhost:8080/"
        },
        "id": "bz1E1-Hw6dOj",
        "outputId": "7e7c3bba-0202-4346-8f2f-b277eec81d20"
      },
      "execution_count": null,
      "outputs": [
        {
          "output_type": "execute_result",
          "data": {
            "text/plain": [
              "0.08290277607052422"
            ]
          },
          "metadata": {},
          "execution_count": 19
        }
      ]
    },
    {
      "cell_type": "code",
      "source": [
        "(1/(n-1)) * ((a-a.mean())**2).sum()"
      ],
      "metadata": {
        "colab": {
          "base_uri": "https://localhost:8080/"
        },
        "id": "kYKA7-yz6gJS",
        "outputId": "dd3018fc-bd11-4ed4-9fb7-d34383f28871"
      },
      "execution_count": null,
      "outputs": [
        {
          "output_type": "execute_result",
          "data": {
            "text/plain": [
              "0.08291106717724193"
            ]
          },
          "metadata": {},
          "execution_count": 20
        }
      ]
    },
    {
      "cell_type": "markdown",
      "source": [
        "### Quantiles and Box Plots"
      ],
      "metadata": {
        "id": "8v-TT7Dz8oZ8"
      }
    },
    {
      "cell_type": "code",
      "source": [
        "d = np.load(\"exams.npy\")\n",
        "p = d[:, 0].astype(\"uint32\")\n",
        "q = np.quantile(p, [0.0, 0.25, 0.5, 0.75, 1.0])"
      ],
      "metadata": {
        "id": "JEmyVlpc6isj"
      },
      "execution_count": null,
      "outputs": []
    },
    {
      "cell_type": "code",
      "source": [
        "d"
      ],
      "metadata": {
        "colab": {
          "base_uri": "https://localhost:8080/"
        },
        "id": "K25Jm5la-l0n",
        "outputId": "8b031cb8-0f12-4be9-f67c-16085998d53c"
      },
      "execution_count": null,
      "outputs": [
        {
          "output_type": "execute_result",
          "data": {
            "text/plain": [
              "array([[55., 50., 51.],\n",
              "       [63., 55., 50.],\n",
              "       [65., 70., 71.],\n",
              "       ...,\n",
              "       [69., 75., 80.],\n",
              "       [57., 67., 68.],\n",
              "       [59., 55., 55.]])"
            ]
          },
          "metadata": {},
          "execution_count": 25
        }
      ]
    },
    {
      "cell_type": "code",
      "source": [
        "p"
      ],
      "metadata": {
        "colab": {
          "base_uri": "https://localhost:8080/"
        },
        "id": "IB1y7LFl-qKm",
        "outputId": "88bade13-4a0c-4009-8264-aa255abf5dd5"
      },
      "execution_count": null,
      "outputs": [
        {
          "output_type": "execute_result",
          "data": {
            "text/plain": [
              "array([ 55,  63,  65,  37,  74,  71,  73,  87,  69,  44,  50,  86,  55,\n",
              "        49,  53,  53,  56,  96,  67,  85,  86,  73,  72,  72,  93,  85,\n",
              "        61, 100,  70,  74,  75,  55,  34,  84,  28,  26,  90,  65,  94,\n",
              "        55,  53,  82,  77,  36,  74,  60,  55,  79,  61,  60,  78,  65,\n",
              "        58,  68,  78,  72,  78,  74,  82,  93,  64,  72,  60,  71,  52,\n",
              "        65,  72,  72,  44,  44,  68,  62,  60,  43,  64,  82,  58,  87,\n",
              "        54,  66,  84,  43,  63,  49,  67,  88,  53,  67,  62,  80,  72,\n",
              "        71,  20,  93,  60,  59,  41,  57,  60,  59,  52,  75,  69,  85,\n",
              "        85,  49,  76,  76,  84,  66, 100,  77,  80,  30,  66,  78,  66,\n",
              "        80,  72,  76,  58,  83,  87,  78,  73,  64,  66,  68,  52,  67,\n",
              "        59,  96,  78,  55,  40,  41,  91,  78,  58,  48,  68,  60,  50,\n",
              "        65,  45,  96,  73,  50,  86,  69,  80,  95,  70,  72,  57,  57,\n",
              "        91,  45,  76,  64,  62,  86,  87,  72,  78,  75,  48,  51,  93,\n",
              "        55,  51,  90,  50,  67,  59,  48,  63,  84,  59,  46,  62,  79,\n",
              "        49,  66,  64,  56,  76,  57,  47,  73,  61,  92,  83,  82,  53,\n",
              "        72,  69,  58,  85,  60,  81,  86,  73,  57,  74,  55,  68,  90,\n",
              "        73,  67,  55,  68,  62,  72,  73,  50,  55,  86,  57,  70,  56,\n",
              "        86,  39,  66,  82,  75,  61,  82,  75,  79,  67,  84,  50,  99,\n",
              "        58,  49,  75,  56,  66,  58,  81,  68,  86,  86,  78,  52,  42,\n",
              "        78,  88,  50,  79,  48,  70,  60,  51,  55,  88,  47,  58,  57,\n",
              "        91,  67,  69,  61,  70,  50,  80,  44,  81,  66,  86,  70,  68,\n",
              "        90,  48,  69,  54,  73,  72,  53,  70,  82,  73,  74,  35,  54,\n",
              "        48,  71,  65,  52,  63,  66,  78,  45,  74,  76,  74,  63,  71,\n",
              "        62,  48,  98,  65,  79,  72,  56,  41,  83,  76,  67,  70,  70,\n",
              "        60,  50,  60,  52,  70,  44,  85,  69,  53,  92,  88,  56,  71,\n",
              "        76,  57,  76,  64,  82,  61,  78,  56,  82, 100,  92,  67,  52,\n",
              "        80,  56,  34,  39,  19,  66,  99,  51,  34,  49,  79,  67,  52,\n",
              "        63,  30,  58,  93,  68,  73,  43,  73,  66,  94,  54,  54,  74,\n",
              "        54,  62,  89,  32,  50,  60,  79,  71,  65,  68,  71,  75,  75,\n",
              "        60,  65,  97,  70,  72,  60,  52,  69,  80,  86,  52,  83,  55,\n",
              "        90,  89,  74,  62,  83,  66,  68,  65,  75,  58,  58,  70,  68,\n",
              "        70,  55,  94, 100,  52,  46,  54,  50,  56,  84, 100,  66,  65,\n",
              "        38,  73,  62,  89,  35,  60,  44, 100,  56,  62,  39,  84,  51,\n",
              "        69,  71,  71,  79,  78,  53,  66,  88,  82,  61,  52,  54,  71,\n",
              "        69,  83,  52,  63,  43,  97, 100,  51,  77,  87,  37,  72,  65,\n",
              "        77,  87,  40,  68,  87,  44,  73,  75,  72,  68,  62,  49,  83,\n",
              "        80,  86,  80,  40,  79,  60,  67,  65,  62,  43,  84,  22,  66,\n",
              "        60,  68,  61,  81,  72,  76,  61,  52,  52,  75,  77,  72,  50,\n",
              "        68,  52,  48,  71, 100,  82,  69,  61,  77,  50,  91,  57,  84,\n",
              "        66,  51,  95,  56,  72,  65,  80,  51,  54,  83,  53,  73,  72,\n",
              "        60,  46,  88,  76,  50,  63,  96,  78,  70,  66,  84,  48,  75,\n",
              "        69,  76,  57,  82,  88,  45,  68,  71,  90,  70,  55,  78,  59,\n",
              "        54,  62,  53,  83,  76,  58,  69,  66,  70,  41,  48,  63,  73,\n",
              "        67,  50, 100,  84,  68,  57,  75,  74,  61,  60,  68,  72,  69,\n",
              "        45,  66,  67, 100,  86,  63,  55,  58,  52,  72,  74,  86,  65,\n",
              "        51,  66,  95,  65,  76,  49,  92,  91,  71,  81,  55,  76,  70,\n",
              "        52,  43,  83,  51,  65,  91,  85,  44,  57,  54,  67,  71,  73,\n",
              "        89,  63,  68,  76,  61,  68,  60,  54,  69,  65,  93,  85,  57,\n",
              "        86,  65,  56,  57,  51,  33,  83,  86,  70,  70,  46,  38,  66,\n",
              "        54,  57,  72,  43,  65,  64,  69,  71,  55,  85,  67,  54,  78,\n",
              "        96,  82,  81,  57,  83,  74,  82,  93,  85,  41,  59,  68,  59,\n",
              "        59,  43,  52,  68,  81,  74,  70,  77,  74,  83,  49,  83,  77,\n",
              "        85,  69,  80,  85,  56,  55,  43,  75,  71,  70,  83,  53,  71,\n",
              "        35,  55,  64,  55,  75,  76,  79,  61,  65,  80,  69,  81,  80,\n",
              "        68,  52,  77,  73,  76,  80,  51,  42,  90,  48,  71,  86,  56,\n",
              "        59,  79,  57,  60,  41,  67,  67,  57,  59,  65,  72,  73,  61,\n",
              "        61,  51,  62,  54,  63,  63,  58,  79,  46,  71,  79,  74,  92,\n",
              "        71,  80,  78,  38,  39,  68,  69,  58,  65,  56,  39,  53, 100,\n",
              "        74,  88,  41,  94,  57,  95,  84,  59,  61,  72,  83,  65,  76,\n",
              "        76,  91,  71,  65,  74,  71,  53,  87,  74,  80,  92,  70,  75,\n",
              "        52,  59,  67,  75,  89,  42,  82,  83,  41,  54,  80,  75,  71,\n",
              "        85,  69,  51,  47,  81,  43,  69,  64,  56,  57,  64,  73,  68,\n",
              "        93,  58,  73,  47,  89,  77,  60,  55,  51,  73,  66,  74,  86,\n",
              "        50,  49,  78,  54,  97,  72,  96,  61,  71,  55,  85,  87,  83,\n",
              "        76,  70,  57,  33,  96,  84,  63,  70,  50,  74,  55,  46,  84,\n",
              "        57,  71, 100,  62,  76,  72,  54,  76,  62,  80,  61,  70,  58,\n",
              "        87,  80,  68,  83,  66,  66,  68,  71,  71,  56,  74,  74,  57,\n",
              "        69,  49,  61,  62,  83,  58,  18,  95,  53,  59,  66,  75,  72,\n",
              "        48,  67,  52,  84,  82,  90,  42,  73,  87,  55,  69,  92,  86,\n",
              "        65,  54,  42,  54,  76,  69,  65,  82,  77,  60,  44,  76,  60,\n",
              "        77,  46,  80,  89,  27,  77,  89,  67,  57,  64,  61,  56,  94,\n",
              "        51,  63,  64,  83,  82,  67,  75,  64,  49,  64,  40,  52,  66,\n",
              "        83,  94,  47,  67,  75,  65,  64,  38,  89,  76,  61,  54,  90,\n",
              "        61,  89,  77,  52,  31,  51,  86,  65,  80,  72,  70,  65,  74,\n",
              "        90,  71,  72,  83,  79,  92,  59,  81,  77,  62,  50,  76,  82,\n",
              "        53,  50,  67,  47,  47,  84,  84,  77,  51,  78,  64,  99,  34,\n",
              "        79,  84,  72,  87,  72,  63,  77,  91,  59,  69,  57,  59],\n",
              "      dtype=uint32)"
            ]
          },
          "metadata": {},
          "execution_count": 26
        }
      ]
    },
    {
      "cell_type": "code",
      "source": [
        "print(\"Quartiles: \", q)\n",
        "print(\"Counts by quartile:\")\n",
        "print(\"   %d\" % ((q[0] <= p) & (p < q[1])).sum())\n",
        "print(\"   %d\" % ((q[1] <= p) & (p < q[2])).sum())\n",
        "print(\"   %d\" % ((q[2] <= p) & (p < q[3])).sum())\n",
        "print(\"   %d\" % ((q[3] <= p) & (p < q[4])).sum())"
      ],
      "metadata": {
        "colab": {
          "base_uri": "https://localhost:8080/"
        },
        "id": "Cd5OcsKK9b7f",
        "outputId": "19a641f6-18c9-48b4-b553-d0f5d2721ea1"
      },
      "execution_count": null,
      "outputs": [
        {
          "output_type": "stream",
          "name": "stdout",
          "text": [
            "Quartiles:  [ 18.    56.75  68.    78.   100.  ]\n",
            "Counts by quartile:\n",
            "   250\n",
            "   237\n",
            "   253\n",
            "   248\n"
          ]
        }
      ]
    },
    {
      "cell_type": "code",
      "source": [
        "import matplotlib.pylab as plt"
      ],
      "metadata": {
        "id": "Pkg_m884_rhF"
      },
      "execution_count": null,
      "outputs": []
    },
    {
      "cell_type": "code",
      "source": [
        "h = np.bincount(p, minlength=100)\n",
        "h"
      ],
      "metadata": {
        "colab": {
          "base_uri": "https://localhost:8080/"
        },
        "id": "TCuCg0IUA1iE",
        "outputId": "9489bf06-6e99-4a32-ec85-8b75872ee55e"
      },
      "execution_count": null,
      "outputs": [
        {
          "output_type": "execute_result",
          "data": {
            "text/plain": [
              "array([ 0,  0,  0,  0,  0,  0,  0,  0,  0,  0,  0,  0,  0,  0,  0,  0,  0,\n",
              "        0,  1,  1,  1,  0,  1,  0,  0,  0,  1,  1,  1,  0,  2,  1,  1,  2,\n",
              "        4,  3,  1,  2,  4,  5,  4,  8,  5, 10,  9,  5,  7,  7, 12, 12, 19,\n",
              "       18, 24, 15, 21, 24, 18, 25, 18, 17, 24, 22, 18, 16, 16, 30, 27, 24,\n",
              "       28, 25, 26, 29, 33, 23, 24, 21, 27, 17, 19, 15, 21, 10, 19, 23, 18,\n",
              "       14, 20, 12,  8, 10, 10,  8,  8,  8,  6,  5,  7,  3,  1,  3, 12])"
            ]
          },
          "metadata": {},
          "execution_count": 38
        }
      ]
    },
    {
      "cell_type": "code",
      "source": [
        "len(h)"
      ],
      "metadata": {
        "colab": {
          "base_uri": "https://localhost:8080/"
        },
        "id": "bkRfFAMTDPKD",
        "outputId": "8a3572c3-be72-48fc-d7c5-6f8479af6f2b"
      },
      "execution_count": null,
      "outputs": [
        {
          "output_type": "execute_result",
          "data": {
            "text/plain": [
              "101"
            ]
          },
          "metadata": {},
          "execution_count": 39
        }
      ]
    },
    {
      "cell_type": "code",
      "source": [
        "j = np.bincount(p)\n",
        "j"
      ],
      "metadata": {
        "colab": {
          "base_uri": "https://localhost:8080/"
        },
        "id": "BNwtZb8HA1q_",
        "outputId": "a10ec9b9-16ce-4738-d2ff-a9aea35520ea"
      },
      "execution_count": null,
      "outputs": [
        {
          "output_type": "execute_result",
          "data": {
            "text/plain": [
              "array([ 0,  0,  0,  0,  0,  0,  0,  0,  0,  0,  0,  0,  0,  0,  0,  0,  0,\n",
              "        0,  1,  1,  1,  0,  1,  0,  0,  0,  1,  1,  1,  0,  2,  1,  1,  2,\n",
              "        4,  3,  1,  2,  4,  5,  4,  8,  5, 10,  9,  5,  7,  7, 12, 12, 19,\n",
              "       18, 24, 15, 21, 24, 18, 25, 18, 17, 24, 22, 18, 16, 16, 30, 27, 24,\n",
              "       28, 25, 26, 29, 33, 23, 24, 21, 27, 17, 19, 15, 21, 10, 19, 23, 18,\n",
              "       14, 20, 12,  8, 10, 10,  8,  8,  8,  6,  5,  7,  3,  1,  3, 12])"
            ]
          },
          "metadata": {},
          "execution_count": 40
        }
      ]
    },
    {
      "cell_type": "code",
      "source": [
        "len(j)"
      ],
      "metadata": {
        "colab": {
          "base_uri": "https://localhost:8080/"
        },
        "id": "i7Kq5gqyDXJF",
        "outputId": "d93b613a-9a2d-45e0-c702-1686967c2020"
      },
      "execution_count": null,
      "outputs": [
        {
          "output_type": "execute_result",
          "data": {
            "text/plain": [
              "101"
            ]
          },
          "metadata": {},
          "execution_count": 41
        }
      ]
    },
    {
      "cell_type": "code",
      "source": [
        "h = np.bincount(p, minlength=100)\n",
        "x = np.arange(101)\n",
        "plt.bar(x,h, width=0.8*(x[1]-x[0]))\n",
        "n = 1.1*h.max()\n",
        "plt.plot([q[1],q[1]],[0,n], linewidth=3, color='k')\n",
        "plt.plot([q[2],q[2]],[0,n], linewidth=3, color='k')\n",
        "plt.plot([q[3],q[3]],[0,n], linewidth=3, color='k')\n",
        "plt.xlim((p.min()-1,p.max()+1))\n",
        "plt.ylabel(\"Count\")\n",
        "plt.tight_layout(pad=0,w_pad=0,h_pad=0)\n",
        "plt.savefig(\"quantiles_plot.png\", dpi=300)\n",
        "plt.show()\n",
        "plt.close()\n",
        "\n"
      ],
      "metadata": {
        "colab": {
          "base_uri": "https://localhost:8080/",
          "height": 516
        },
        "id": "ARud953q-eUa",
        "outputId": "62044adc-47a3-4608-e396-fe5103a682fa"
      },
      "execution_count": null,
      "outputs": [
        {
          "output_type": "display_data",
          "data": {
            "text/plain": [
              "<Figure size 640x480 with 1 Axes>"
            ],
            "image/png": "[encoded data removed]"
          },
          "metadata": {}
        }
      ]
    },
    {
      "cell_type": "code",
      "source": [
        "# box plot\n",
        "plt.boxplot(d)\n",
        "plt.xlabel(\"Test\")\n",
        "plt.ylabel(\"Scores\")\n",
        "plt.tight_layout(pad=0, w_pad=0, h_pad=0)\n",
        "plt.savefig(\"box_plot.png\", dpi=300)\n",
        "plt.show()\n",
        "plt.close()\n",
        "\n"
      ],
      "metadata": {
        "colab": {
          "base_uri": "https://localhost:8080/",
          "height": 517
        },
        "id": "BMLzm5A0_i_b",
        "outputId": "b39f1a84-2be8-4d58-eb7c-5902843e1ef1"
      },
      "execution_count": null,
      "outputs": [
        {
          "output_type": "display_data",
          "data": {
            "text/plain": [
              "<Figure size 640x480 with 1 Axes>"
            ],
            "image/png": "[encoded data removed]"
          },
          "metadata": {}
        }
      ]
    },
    {
      "cell_type": "code",
      "source": [
        "plt.boxplot(p)\n",
        "plt.ylabel(\"Scores\")\n",
        "plt.tight_layout(pad=0, w_pad=0, h_pad=0)\n",
        "plt.savefig(\"box_plot_1.png\", dpi=300)\n",
        "plt.show()\n",
        "plt.close()"
      ],
      "metadata": {
        "colab": {
          "base_uri": "https://localhost:8080/",
          "height": 517
        },
        "id": "pM522RExAfV0",
        "outputId": "9e7fe0e9-0ee1-43bf-99b9-34f4cea08006"
      },
      "execution_count": null,
      "outputs": [
        {
          "output_type": "display_data",
          "data": {
            "text/plain": [
              "<Figure size 640x480 with 1 Axes>"
            ],
            "image/png": "[encoded data removed]"
          },
          "metadata": {}
        }
      ]
    },
    {
      "cell_type": "markdown",
      "source": [
        "## Missing Data"
      ],
      "metadata": {
        "id": "zCEmoyxdiLf_"
      }
    },
    {
      "cell_type": "code",
      "source": [
        "import numpy as np"
      ],
      "metadata": {
        "id": "ZyZsUvSaiLMW"
      },
      "execution_count": null,
      "outputs": []
    },
    {
      "cell_type": "code",
      "source": [
        "# only isnan() works\n",
        "a = np.arange(10, dtype=\"float64\")\n",
        "a[3] = np.nan\n",
        "np.isnan(a[3])\n"
      ],
      "metadata": {
        "colab": {
          "base_uri": "https://localhost:8080/"
        },
        "id": "vcluH_rliRfF",
        "outputId": "30161dd4-e7ca-4e52-8c16-c03bac071671"
      },
      "execution_count": null,
      "outputs": [
        {
          "output_type": "execute_result",
          "data": {
            "text/plain": [
              "True"
            ]
          },
          "metadata": {},
          "execution_count": 44
        }
      ]
    },
    {
      "cell_type": "code",
      "source": [
        "a[3] == np.nan"
      ],
      "metadata": {
        "colab": {
          "base_uri": "https://localhost:8080/"
        },
        "id": "ThCWDeppifbD",
        "outputId": "fda843cb-1f48-4658-cc3d-8f9077984bea"
      },
      "execution_count": null,
      "outputs": [
        {
          "output_type": "execute_result",
          "data": {
            "text/plain": [
              "False"
            ]
          },
          "metadata": {},
          "execution_count": 45
        }
      ]
    },
    {
      "cell_type": "code",
      "source": [
        "a[3] is np.nan"
      ],
      "metadata": {
        "colab": {
          "base_uri": "https://localhost:8080/"
        },
        "id": "7dMwFLSTij5D",
        "outputId": "4b7283f2-6bf1-45ef-9745-d1ed52d03de1"
      },
      "execution_count": null,
      "outputs": [
        {
          "output_type": "execute_result",
          "data": {
            "text/plain": [
              "False"
            ]
          },
          "metadata": {},
          "execution_count": 46
        }
      ]
    },
    {
      "cell_type": "code",
      "source": [
        "N = 1000\n",
        "np.random.seed(73939133)\n",
        "x = np.zeros((N, 4))\n"
      ],
      "metadata": {
        "id": "_80H8Qqyiuuy"
      },
      "execution_count": null,
      "outputs": []
    },
    {
      "cell_type": "code",
      "source": [
        "x[:, 0] = 5 * np.random.random(N)\n",
        "x[:, 1] = np.random.normal(10, 1, size=N)\n",
        "x[:, 2] = 3 * np.random.beta(5, 2, N)\n",
        "x[:, 3] = 0.3 * np.random.lognormal(size=N)"
      ],
      "metadata": {
        "id": "J4qpDYrijedR"
      },
      "execution_count": null,
      "outputs": []
    },
    {
      "cell_type": "code",
      "source": [
        "import matplotlib.pyplot as plt"
      ],
      "metadata": {
        "id": "C6OubxrmqB4x"
      },
      "execution_count": null,
      "outputs": []
    },
    {
      "cell_type": "code",
      "source": [
        "# box plot\n",
        "plt.boxplot(x)\n",
        "plt.tight_layout(pad=0, w_pad=0, h_pad=0)\n",
        "plt.savefig(\"missing_box_plot.png\", dpi=300)\n",
        "plt.show()\n",
        "plt.close()"
      ],
      "metadata": {
        "colab": {
          "base_uri": "https://localhost:8080/",
          "height": 516
        },
        "id": "FqU2TkNFmUXL",
        "outputId": "a00ac315-33ac-4812-c1f4-f88c1b58c5d2"
      },
      "execution_count": null,
      "outputs": [
        {
          "output_type": "display_data",
          "data": {
            "text/plain": [
              "<Figure size 640x480 with 1 Axes>"
            ],
            "image/png": "[encoded data removed]"
          },
          "metadata": {}
        }
      ]
    },
    {
      "cell_type": "code",
      "source": [
        "x[0:1]"
      ],
      "metadata": {
        "colab": {
          "base_uri": "https://localhost:8080/"
        },
        "id": "iCMhr7LekQeR",
        "outputId": "ca943866-fd92-4cff-eda6-562c957fb07c"
      },
      "execution_count": null,
      "outputs": [
        {
          "output_type": "execute_result",
          "data": {
            "text/plain": [
              "array([[ 2.83604023, 10.52942209,  2.34200506,  0.21143357]])"
            ]
          },
          "metadata": {},
          "execution_count": 73
        }
      ]
    },
    {
      "cell_type": "code",
      "source": [
        "5 * np.random.random(1)"
      ],
      "metadata": {
        "colab": {
          "base_uri": "https://localhost:8080/"
        },
        "id": "NGpaBlsPkTof",
        "outputId": "d3834905-69f8-4146-fa52-b9708f37d25b"
      },
      "execution_count": null,
      "outputs": [
        {
          "output_type": "execute_result",
          "data": {
            "text/plain": [
              "array([3.28260094])"
            ]
          },
          "metadata": {},
          "execution_count": 74
        }
      ]
    },
    {
      "cell_type": "code",
      "source": [
        "x[0:2]"
      ],
      "metadata": {
        "colab": {
          "base_uri": "https://localhost:8080/"
        },
        "id": "Nr4YOK7SkcOP",
        "outputId": "098b7dc3-cba1-4e8f-a579-33d973428301"
      },
      "execution_count": null,
      "outputs": [
        {
          "output_type": "execute_result",
          "data": {
            "text/plain": [
              "array([[ 2.83604023, 10.52942209,  2.34200506,  0.21143357],\n",
              "       [ 3.04706851,  9.82936105,  2.88220243,  0.34358252]])"
            ]
          },
          "metadata": {},
          "execution_count": 75
        }
      ]
    },
    {
      "cell_type": "code",
      "source": [
        "i = np.random.randint(0, N, size=int(0.05*N))"
      ],
      "metadata": {
        "id": "ObABDG5EkqzA"
      },
      "execution_count": null,
      "outputs": []
    },
    {
      "cell_type": "code",
      "source": [
        "i"
      ],
      "metadata": {
        "colab": {
          "base_uri": "https://localhost:8080/"
        },
        "id": "u0QRjzHGlQWu",
        "outputId": "e1eb2b13-2cf9-4bd5-c1f1-5092b2059b6a"
      },
      "execution_count": null,
      "outputs": [
        {
          "output_type": "execute_result",
          "data": {
            "text/plain": [
              "array([542, 971, 388, 239, 452, 487,  34, 600, 312, 391, 780, 691,  68,\n",
              "       297, 313, 945, 388,  18, 782, 756, 773, 144, 388, 919, 452, 314,\n",
              "       147, 439, 823, 805,  27, 218, 483, 709, 754, 352, 737, 920, 796,\n",
              "       712, 902, 447, 430, 941, 385, 180, 828,   8,  69, 651])"
            ]
          },
          "metadata": {},
          "execution_count": 77
        }
      ]
    },
    {
      "cell_type": "code",
      "source": [
        "len(i)"
      ],
      "metadata": {
        "colab": {
          "base_uri": "https://localhost:8080/"
        },
        "id": "92QqOlTelRjN",
        "outputId": "d7a5dbbf-6e9d-4da9-d1fe-a91ee88407b4"
      },
      "execution_count": null,
      "outputs": [
        {
          "output_type": "execute_result",
          "data": {
            "text/plain": [
              "50"
            ]
          },
          "metadata": {},
          "execution_count": 78
        }
      ]
    },
    {
      "cell_type": "code",
      "source": [
        "x[i, 0] = np.nan"
      ],
      "metadata": {
        "id": "0baTi5dAlWh9"
      },
      "execution_count": null,
      "outputs": []
    },
    {
      "cell_type": "code",
      "source": [
        "i = np.random.randint(0, N, size=int(0.05*N))\n",
        "x[i, 1] = np.nan"
      ],
      "metadata": {
        "id": "Wl51twwFlkus"
      },
      "execution_count": null,
      "outputs": []
    },
    {
      "cell_type": "code",
      "source": [
        "i = np.random.randint(0, N, size=int(0.05*N))\n",
        "x[i, 2] = np.nan"
      ],
      "metadata": {
        "id": "TT4Axmy_mNgb"
      },
      "execution_count": null,
      "outputs": []
    },
    {
      "cell_type": "code",
      "source": [
        "i = np.random.randint(0, N, size=int(0.05*N))\n",
        "x[i, 3] = np.nan"
      ],
      "metadata": {
        "id": "7LZvpwZ5mSmr"
      },
      "execution_count": null,
      "outputs": []
    },
    {
      "cell_type": "code",
      "source": [
        "# Do we have NaNs present in the feature\n",
        "if (np.isnan(x[:, 2]).sum() != 0):\n",
        "  print(\"NaNs present\")\n",
        "  i = np.where(np.isnan(x[:, 2]) == False)\n",
        "  z = x[i, 2]\n",
        "  mn, md, s = z.mean(), np.median(z), z.std(ddof=1)\n",
        "  hh, xx = np.histogram(z, bins=40)\n",
        "  plt.bar(xx[:-1], hh, width=0.8*(xx[1]-xx[0]))\n",
        "  plt.xlabel(\"x\")\n",
        "  plt.ylabel(\"Count\")\n",
        "  plt.tight_layout(pad=0, w_pad=0, h_pad=0)\n",
        "  plt.show()\n",
        "  plt.savefig(\"missing_feature_2_plot.png\", dpi=300)\n",
        "  plt.close()"
      ],
      "metadata": {
        "colab": {
          "base_uri": "https://localhost:8080/",
          "height": 533
        },
        "id": "Q8-2u1DppVmk",
        "outputId": "105de2e9-7249-4a50-8a3c-44a179a9a615"
      },
      "execution_count": null,
      "outputs": [
        {
          "output_type": "stream",
          "name": "stdout",
          "text": [
            "NaNs present\n"
          ]
        },
        {
          "output_type": "display_data",
          "data": {
            "text/plain": [
              "<Figure size 640x480 with 1 Axes>"
            ],
            "image/png": "[encoded data removed]"
          },
          "metadata": {}
        }
      ]
    },
    {
      "cell_type": "code",
      "source": [
        "i = np.where(np.isnan(x[:, 2]) == True)\n",
        "x[i, 2] = md # replace with median\n"
      ],
      "metadata": {
        "id": "o0ut2XKBwbQ0"
      },
      "execution_count": null,
      "outputs": []
    },
    {
      "cell_type": "code",
      "source": [
        "print(\"non-NaN mean, std = \", z.mean(), z.std(ddof=1))\n",
        "print(\"updated mean, std = \", x[:, 2].mean(), x[:, 2].std(ddof=1))"
      ],
      "metadata": {
        "colab": {
          "base_uri": "https://localhost:8080/"
        },
        "id": "CELrxMj5wziC",
        "outputId": "31762974-56f9-47d0-f759-c987c03cbde1"
      },
      "execution_count": null,
      "outputs": [
        {
          "output_type": "stream",
          "name": "stdout",
          "text": [
            "non-NaN mean, std =  2.170634554106843 0.47414680514351676\n",
            "updated mean, std =  2.173922801390753 0.4625994850816132\n"
          ]
        }
      ]
    },
    {
      "cell_type": "code",
      "source": [
        "hh, xx = np.histogram(x[:, 2], bins=40)\n",
        "plt.bar(xx[:-1], hh, width=0.8*(xx[1] - xx[0]))\n",
        "plt.xlabel(\"x\")\n",
        "plt.ylabel(\"Count\")\n",
        "plt.tight_layout(pad=0, w_pad=0, h_pad=0)\n",
        "plt.savefig(\"missing_feature_2_updated_plot.png\", dpi=300)\n",
        "plt.show()\n",
        "plt.close()\n"
      ],
      "metadata": {
        "colab": {
          "base_uri": "https://localhost:8080/",
          "height": 517
        },
        "id": "nKTL0Uk_xi4a",
        "outputId": "d9849077-48e2-4e25-dd1f-939d9625db77"
      },
      "execution_count": null,
      "outputs": [
        {
          "output_type": "display_data",
          "data": {
            "text/plain": [
              "<Figure size 640x480 with 1 Axes>"
            ],
            "image/png": "[encoded data removed]"
          },
          "metadata": {}
        }
      ]
    },
    {
      "cell_type": "code",
      "source": [
        "# Do the same to the others\n",
        "i = np.where(np.isnan(x[:, 0]) == False)\n",
        "m = np.median(x[i, 0])\n",
        "i = np.where(np.isnan(x[:, 0]) == True)\n",
        "x[i, 0] = m"
      ],
      "metadata": {
        "id": "rcnr8_fdper1"
      },
      "execution_count": null,
      "outputs": []
    },
    {
      "cell_type": "code",
      "source": [
        "i = np.where(np.isnan(x[:, 1]) == False)\n",
        "m = np.median(x[i, 1])\n",
        "i = np.where(np.isnan(x[:, 1]) == True)\n",
        "x[i, 1] = m"
      ],
      "metadata": {
        "id": "CJpKki4dzVJP"
      },
      "execution_count": null,
      "outputs": []
    },
    {
      "cell_type": "code",
      "source": [
        "i = np.where(np.isnan(x[:, 3]) == False)\n",
        "m = np.median(x[i, 3])\n",
        "i = np.where(np.isnan(x[:, 3]) == True)\n",
        "x[i, 3] = m"
      ],
      "metadata": {
        "id": "5WJCno9JzeCQ"
      },
      "execution_count": null,
      "outputs": []
    },
    {
      "cell_type": "code",
      "source": [
        "plt.boxplot(x)\n",
        "plt.tight_layout(pad=0, w_pad=0, h_pad=0)\n",
        "plt.savefig(\"missing_updated_box_plot.png\", dpi=300)\n",
        "plt.show()\n",
        "plt.close()"
      ],
      "metadata": {
        "colab": {
          "base_uri": "https://localhost:8080/",
          "height": 516
        },
        "id": "9eLVRRFLzlmQ",
        "outputId": "a2dbe332-320b-42e1-856f-933d84867d04"
      },
      "execution_count": null,
      "outputs": [
        {
          "output_type": "display_data",
          "data": {
            "text/plain": [
              "<Figure size 640x480 with 1 Axes>"
            ],
            "image/png": "[encoded data removed]"
          },
          "metadata": {}
        }
      ]
    },
    {
      "cell_type": "markdown",
      "source": [
        "## Correlation"
      ],
      "metadata": {
        "id": "nd5SdaATzmNO"
      }
    },
    {
      "cell_type": "markdown",
      "source": [
        "### Pearson Correlation"
      ],
      "metadata": {
        "id": "8Z0lP_H5BUPU"
      }
    },
    {
      "cell_type": "code",
      "source": [
        "import numpy as np\n",
        "import matplotlib.pyplot as plt"
      ],
      "metadata": {
        "id": "mmXj9jRSz7L_"
      },
      "execution_count": null,
      "outputs": []
    },
    {
      "cell_type": "code",
      "source": [
        "def pearson(x, y):\n",
        "  exy = (x*y).mean()\n",
        "  ex = x.mean()\n",
        "  ey = y.mean()\n",
        "  exx = (x*x).mean()\n",
        "  ex2 = x.mean()**2\n",
        "  eyy = (y*y).mean()\n",
        "  ey2 = y.mean()**2\n",
        "  return (exy - ex*ey)/(np.sqrt(exx-ex2)*np.sqrt(eyy-ey2))"
      ],
      "metadata": {
        "id": "Ak7W_S-Yzuwi"
      },
      "execution_count": null,
      "outputs": []
    },
    {
      "cell_type": "code",
      "source": [
        "N = 100\n",
        "x = np.linspace(0, 1, N) + (np.random.random(N) - 0.5)\n",
        "y = np.random.random(N) * x\n",
        "z = -0.1 * np.random.random(N) * x"
      ],
      "metadata": {
        "id": "0CBM4_ar1MWw"
      },
      "execution_count": null,
      "outputs": []
    },
    {
      "cell_type": "code",
      "source": [
        "plt.plot(np.linspace(0, 1, N), x, color='r')\n",
        "plt.plot(np.linspace(0, 1, N), y, color='g')\n",
        "plt.plot(np.linspace(0, 1, N), z, color='b')\n",
        "plt.plot(np.linspace(0, 1, N)[::5], x[::5], color='r', marker='o', linestyle='none', label='X')\n",
        "plt.plot(np.linspace(0, 1, N)[::5], y[::5], color='g', marker='s', linestyle='none', label='Y')\n",
        "plt.plot(np.linspace(0, 1, N)[::5], z[::5], color='b', marker='*', linestyle='none', label='Z')\n",
        "plt.legend(loc=\"upper left\")\n",
        "plt.tight_layout(pad=0, w_pad=0, h_pad=0)\n",
        "plt.show()\n",
        "plt.savefig(\"correlation_xyz_plot.png\", dpi=300)\n",
        "plt.close()"
      ],
      "metadata": {
        "colab": {
          "base_uri": "https://localhost:8080/",
          "height": 516
        },
        "id": "pa5eqxqe2cVh",
        "outputId": "8856dbed-8532-4238-9a46-57446ba029a8"
      },
      "execution_count": null,
      "outputs": [
        {
          "output_type": "display_data",
          "data": {
            "text/plain": [
              "<Figure size 640x480 with 1 Axes>"
            ],
            "image/png": "[encoded data removed]"
          },
          "metadata": {}
        }
      ]
    },
    {
      "cell_type": "code",
      "source": [
        "plt.plot(x, y, marker='o', linestyle='none', color='r', label=\"X, Y\")\n",
        "plt.plot(x, z, marker='s', linestyle='none', color='g', label=\"X, Z\")\n",
        "plt.plot(y, z, marker='*', linestyle='none', color='b', label=\"Y, Z\")\n",
        "plt.legend(loc=\"upper left\")\n",
        "plt.tight_layout(pad=0, w_pad=0, h_pad=0)\n",
        "plt.show()\n",
        "plt.savefig(\"correlation_xyz_plot.png\", dpi=300)\n",
        "plt.close()"
      ],
      "metadata": {
        "id": "Fspu8IPU88rj",
        "colab": {
          "base_uri": "https://localhost:8080/",
          "height": 516
        },
        "outputId": "82fd75ef-e97d-472c-8d34-6f7206b53dd3"
      },
      "execution_count": null,
      "outputs": [
        {
          "output_type": "display_data",
          "data": {
            "text/plain": [
              "<Figure size 640x480 with 1 Axes>"
            ],
            "image/png": "[encoded data removed]"
          },
          "metadata": {}
        }
      ]
    },
    {
      "cell_type": "code",
      "source": [
        "pearson(x, y)"
      ],
      "metadata": {
        "colab": {
          "base_uri": "https://localhost:8080/"
        },
        "id": "nvCUfDElXsgb",
        "outputId": "dddeb5f6-cb23-4315-c578-48e0d93c5be8"
      },
      "execution_count": null,
      "outputs": [
        {
          "output_type": "execute_result",
          "data": {
            "text/plain": [
              "0.7358044176134378"
            ]
          },
          "metadata": {},
          "execution_count": 10
        }
      ]
    },
    {
      "cell_type": "code",
      "source": [
        "pearson(x, z)"
      ],
      "metadata": {
        "colab": {
          "base_uri": "https://localhost:8080/"
        },
        "id": "CcxH84_qZIUH",
        "outputId": "ef562ac1-4c76-4f43-90cd-34da9872aeea"
      },
      "execution_count": null,
      "outputs": [
        {
          "output_type": "execute_result",
          "data": {
            "text/plain": [
              "-0.717859749565482"
            ]
          },
          "metadata": {},
          "execution_count": 11
        }
      ]
    },
    {
      "cell_type": "code",
      "source": [
        "pearson(y, z)"
      ],
      "metadata": {
        "colab": {
          "base_uri": "https://localhost:8080/"
        },
        "id": "Cl2H9ldwZgHL",
        "outputId": "294720a2-60ce-4ca8-cd09-147aa37091ad"
      },
      "execution_count": null,
      "outputs": [
        {
          "output_type": "execute_result",
          "data": {
            "text/plain": [
              "-0.45925325170753534"
            ]
          },
          "metadata": {},
          "execution_count": 12
        }
      ]
    },
    {
      "cell_type": "code",
      "source": [
        "d = np.vstack((x, y, z))\n",
        "print(np.corrcoef(d))"
      ],
      "metadata": {
        "colab": {
          "base_uri": "https://localhost:8080/"
        },
        "id": "8HIMbct1Zj42",
        "outputId": "e37ec330-f92b-4e78-d0b6-a9dbd9a53055"
      },
      "execution_count": null,
      "outputs": [
        {
          "output_type": "stream",
          "name": "stdout",
          "text": [
            "[[ 1.          0.73580442 -0.71785975]\n",
            " [ 0.73580442  1.         -0.45925325]\n",
            " [-0.71785975 -0.45925325  1.        ]]\n"
          ]
        }
      ]
    },
    {
      "cell_type": "code",
      "source": [
        "print(d)"
      ],
      "metadata": {
        "colab": {
          "base_uri": "https://localhost:8080/"
        },
        "id": "OjICC6Pwa-QK",
        "outputId": "8ddd606b-6962-4ce9-99b9-58652c09e0dd"
      },
      "execution_count": null,
      "outputs": [
        {
          "output_type": "stream",
          "name": "stdout",
          "text": [
            "[[ 3.67337419e-02  1.42675686e-01  4.27920884e-02 -1.07668935e-01\n",
            "  -2.88866606e-01  4.28087213e-03 -2.49064356e-01  3.83410061e-02\n",
            "  -3.53466643e-01 -5.07451555e-02  1.25191241e-01  5.93469255e-01\n",
            "   2.63445101e-01 -1.83550747e-01  4.35508311e-01 -3.12157174e-01\n",
            "   3.46029396e-01  4.10889665e-01  4.21132369e-01  1.60237812e-01\n",
            "   2.19430607e-01  1.44237496e-01  3.78504408e-01 -1.66509026e-01\n",
            "   2.17637019e-01  7.94375625e-02  1.43741208e-01  1.98928080e-01\n",
            "   4.15100359e-01  8.36810565e-02  3.13577534e-02 -1.54025382e-01\n",
            "   3.39532305e-01  4.48195621e-01  7.70810215e-01 -9.02808260e-02\n",
            "   7.90026540e-01  6.68614725e-01 -8.86026557e-02  3.86270413e-01\n",
            "   4.35562847e-01  5.18961891e-01  7.22344557e-01  7.77038816e-01\n",
            "   5.28197577e-01  2.91489557e-01  1.33875311e-01  8.89644485e-01\n",
            "   8.49294866e-01  1.75666677e-01  7.91566190e-01  4.88474310e-01\n",
            "   4.54706473e-01  7.11374647e-02  1.30189168e-01  9.73752862e-01\n",
            "   5.79129107e-01  8.69982259e-02  7.03967569e-01  8.85732833e-01\n",
            "   1.82305970e-01  6.36625472e-01  2.37158359e-01  1.55775809e-01\n",
            "   7.90256845e-01  5.96353170e-01  5.11177989e-01  9.91904513e-01\n",
            "   4.08248431e-01  3.12876883e-01  1.07409702e+00  9.09747408e-01\n",
            "   2.65642796e-01  2.58513154e-01  9.40850807e-01  1.04890248e+00\n",
            "   5.24357925e-01  6.17087141e-01  7.26380501e-01  9.14826011e-01\n",
            "   9.69363984e-01  1.21569436e+00  1.13377046e+00  8.13328555e-01\n",
            "   3.87786600e-01  4.64618552e-01  5.85175914e-01  1.30433855e+00\n",
            "   1.18009568e+00  6.07802569e-01  1.22124389e+00  9.96433895e-01\n",
            "   6.51245468e-01  6.60628608e-01  9.56372808e-01  1.42930391e+00\n",
            "   5.07187246e-01  1.32325327e+00  1.24018142e+00  1.26990630e+00]\n",
            " [ 1.07473341e-02  7.85818097e-02  3.70469996e-02 -1.93813738e-03\n",
            "  -1.11878575e-01  2.30144255e-03 -1.81870692e-01  5.16136860e-03\n",
            "  -3.18615764e-01 -4.96304083e-02  8.58283615e-02  3.82430403e-01\n",
            "   8.80505101e-02 -8.07995869e-02  8.05441850e-02 -1.57946893e-01\n",
            "   3.06178786e-02  1.78258814e-02  1.52186942e-02  1.25563960e-01\n",
            "   1.13253845e-01  1.04109577e-01  3.40796367e-01 -5.57103515e-03\n",
            "   4.73540189e-02  2.51489191e-02  9.79786719e-02  3.19225778e-02\n",
            "   2.50200049e-01  7.12957902e-02  2.58011601e-03 -1.40078173e-01\n",
            "   2.67813921e-01  1.85350419e-01  6.32057336e-01 -1.20223025e-02\n",
            "   2.84281737e-01  4.70582146e-01 -3.79479071e-02  2.27180678e-01\n",
            "   3.35739566e-01  4.56765145e-01  3.50356105e-02  7.10805474e-01\n",
            "   4.66892673e-01  2.51437912e-02  1.39029616e-02  2.28937678e-01\n",
            "   2.07814017e-01  9.02457952e-02  7.66572818e-01  6.43608085e-02\n",
            "   3.92741989e-01  4.76527154e-02  9.17058554e-02  5.30657406e-01\n",
            "   5.17003237e-01  3.93424829e-02  3.74898023e-01  4.01109694e-01\n",
            "   9.51055641e-02  2.03502538e-01  1.88984161e-01  9.34302847e-02\n",
            "   6.50494448e-01  1.03582263e-02  2.94501251e-01  2.60779421e-02\n",
            "   6.40130231e-02  1.36271707e-01  3.88914145e-01  9.55466723e-02\n",
            "   1.95570519e-01  1.22312953e-01  8.94414112e-01  2.51172498e-01\n",
            "   2.80013622e-01  7.28509622e-02  2.41190683e-01  8.02654299e-03\n",
            "   7.16586447e-01  4.49960904e-01  9.40198777e-01  5.52257298e-01\n",
            "   1.59195543e-01  3.80167781e-01  3.40705564e-01  7.24138451e-01\n",
            "   6.91779886e-01  1.91236255e-02  6.81295117e-01  8.18756551e-01\n",
            "   4.95882135e-01  2.90033264e-01  5.34367992e-01  6.33979836e-01\n",
            "   1.23470228e-01  1.24897740e+00  9.18722255e-02  6.77090262e-02]\n",
            " [-8.19966068e-04 -2.13396100e-03 -1.27270294e-03  4.36237596e-04\n",
            "   2.01199315e-02 -5.70582355e-05  1.65012312e-03 -2.15476189e-03\n",
            "   1.62044922e-02  4.42385561e-03 -9.69731514e-03 -5.69829767e-02\n",
            "  -3.13650740e-03  1.71696313e-03 -3.77028580e-02  1.39460767e-02\n",
            "  -1.25984613e-02 -9.07411418e-03 -2.37676763e-02 -1.38351391e-03\n",
            "  -1.58139076e-02 -8.79120256e-03 -1.44930941e-02  1.38779986e-02\n",
            "  -7.01576746e-03 -7.74499432e-03 -3.65298464e-03 -1.35501362e-03\n",
            "  -2.49628046e-02 -3.60919952e-03 -1.43497154e-03  7.91802949e-04\n",
            "  -1.24020183e-02 -2.20043417e-02 -4.61633815e-02  2.64208124e-03\n",
            "  -3.52277981e-02 -6.57535412e-02  4.79140526e-03 -1.68233508e-02\n",
            "  -4.04851387e-02 -4.64906227e-02 -4.34025484e-02 -3.79866921e-02\n",
            "  -2.40929836e-02 -4.91744957e-03 -4.64750508e-03 -8.40462878e-02\n",
            "  -5.33711085e-02 -5.46274477e-03 -4.21155162e-02 -3.21747267e-02\n",
            "  -2.48617109e-02 -5.93817673e-03 -4.32369331e-03 -2.21939443e-03\n",
            "  -2.88610475e-02 -7.81181481e-03 -3.11077597e-02 -6.48491360e-02\n",
            "  -7.92877879e-03 -1.57973642e-02 -8.94359409e-03 -1.33781281e-02\n",
            "  -1.78035770e-02 -2.54834779e-02 -3.46202579e-02 -7.46925524e-02\n",
            "  -2.90088359e-02 -1.77633802e-02 -1.00500952e-01 -4.02214677e-02\n",
            "  -1.64239575e-02 -1.44240493e-02 -1.98504804e-02 -8.24336835e-02\n",
            "  -3.22434054e-02 -5.06812596e-02 -1.79222112e-02 -1.00382210e-02\n",
            "  -6.18823430e-02 -6.43857904e-02 -1.15226307e-03 -2.78825214e-04\n",
            "  -1.90104670e-03 -2.26321755e-02 -1.23806791e-02 -2.79707677e-03\n",
            "  -2.21219679e-02 -5.07631430e-02 -6.18720922e-02 -7.63112967e-02\n",
            "  -4.86022598e-02 -2.94544500e-02 -6.49702635e-03 -3.86950335e-02\n",
            "  -1.09378051e-02 -7.27308190e-02 -8.10162140e-02 -3.97662144e-02]]\n"
          ]
        }
      ]
    },
    {
      "cell_type": "code",
      "source": [
        "type(d)"
      ],
      "metadata": {
        "colab": {
          "base_uri": "https://localhost:8080/"
        },
        "id": "qc96QGcmZ60V",
        "outputId": "348a5253-8c35-424e-c7ed-b05ba03840cb"
      },
      "execution_count": null,
      "outputs": [
        {
          "output_type": "execute_result",
          "data": {
            "text/plain": [
              "numpy.ndarray"
            ]
          },
          "metadata": {},
          "execution_count": 15
        }
      ]
    },
    {
      "cell_type": "code",
      "source": [
        "from sklearn.datasets import load_sample_image\n",
        "china = load_sample_image('china.jpg')\n",
        "a = china[230, :, 1].astype(\"float64\")\n",
        "b = china[231, :, 1].astype(\"float64\")\n",
        "c = china[400, :, 1].astype(\"float64\")"
      ],
      "metadata": {
        "id": "tucu-NlUb3bC"
      },
      "execution_count": null,
      "outputs": []
    },
    {
      "cell_type": "code",
      "source": [
        "d = np.random.random(640)\n",
        "pearson(a, b)"
      ],
      "metadata": {
        "colab": {
          "base_uri": "https://localhost:8080/"
        },
        "id": "PUWZqwPirWgW",
        "outputId": "9c3e86f6-56b7-45c7-e176-5c228eaca5fb"
      },
      "execution_count": null,
      "outputs": [
        {
          "output_type": "execute_result",
          "data": {
            "text/plain": [
              "0.8979294733086834"
            ]
          },
          "metadata": {},
          "execution_count": 25
        }
      ]
    },
    {
      "cell_type": "code",
      "source": [
        "pearson(a, c)"
      ],
      "metadata": {
        "colab": {
          "base_uri": "https://localhost:8080/"
        },
        "id": "ebGlCKQSr6pn",
        "outputId": "60ef4689-4d5d-41bf-e20c-b87a98542369"
      },
      "execution_count": null,
      "outputs": [
        {
          "output_type": "execute_result",
          "data": {
            "text/plain": [
              "-0.2760642212905016"
            ]
          },
          "metadata": {},
          "execution_count": 26
        }
      ]
    },
    {
      "cell_type": "code",
      "source": [
        "pearson(a, d)"
      ],
      "metadata": {
        "colab": {
          "base_uri": "https://localhost:8080/"
        },
        "id": "KSzf8fxtr8b3",
        "outputId": "128c5958-c53e-4e9e-d7b0-532ab32203ab"
      },
      "execution_count": null,
      "outputs": [
        {
          "output_type": "execute_result",
          "data": {
            "text/plain": [
              "-0.018548851430113346"
            ]
          },
          "metadata": {},
          "execution_count": 27
        }
      ]
    },
    {
      "cell_type": "markdown",
      "source": [
        "### Spearman Correlation"
      ],
      "metadata": {
        "id": "pCtgPlaa2ROW"
      }
    },
    {
      "cell_type": "code",
      "source": [
        "import numpy as np\n",
        "def spearman(x, y):\n",
        "  n = len(x)\n",
        "  t = x[np.argsort(x)]\n",
        "  rx = []\n",
        "  for i in range(n):\n",
        "    rx.append(np.where(x[i] == t)[0][0])\n",
        "  rx = np.array(rx, dtype=\"float64\")\n",
        "  t = y[np.argsort(y)]\n",
        "  ry = []\n",
        "  for i in range(n):\n",
        "    ry.append(np.where(y[i] == t)[0][0])\n",
        "  ry = np.array(ry, dtype=\"float64\")\n",
        "  d = rx - ry\n",
        "  return 1.0 - (6.0/(n*(n*n-1)))*(d**2).sum()"
      ],
      "metadata": {
        "id": "wYiZHPs7r-E2"
      },
      "execution_count": null,
      "outputs": []
    },
    {
      "cell_type": "code",
      "source": [
        "from scipy.stats import pearsonr, spearmanr"
      ],
      "metadata": {
        "id": "zt9J8J4i5ZbQ"
      },
      "execution_count": null,
      "outputs": []
    },
    {
      "cell_type": "code",
      "source": [
        "print(spearman(x, y), spearmanr(x, y)[0])"
      ],
      "metadata": {
        "colab": {
          "base_uri": "https://localhost:8080/"
        },
        "id": "WUtWAwPL37Zw",
        "outputId": "473e8b97-f57b-46c5-d789-38449da677fe"
      },
      "execution_count": null,
      "outputs": [
        {
          "output_type": "stream",
          "name": "stdout",
          "text": [
            "0.748022802280228 0.748022802280228\n"
          ]
        }
      ]
    },
    {
      "cell_type": "code",
      "source": [
        "ramp = np.linspace(-20, 20, 1000)\n",
        "sig = 1.0/ (1.0 + np.exp(-ramp))\n",
        "print(pearson(ramp, sig))\n",
        "print(spearman(ramp, sig))"
      ],
      "metadata": {
        "colab": {
          "base_uri": "https://localhost:8080/"
        },
        "id": "EC_r6ISI5rGv",
        "outputId": "25b4b512-01f0-49ad-eb01-526f5918b477"
      },
      "execution_count": null,
      "outputs": [
        {
          "output_type": "stream",
          "name": "stdout",
          "text": [
            "0.9053277293366915\n",
            "1.0\n"
          ]
        }
      ]
    },
    {
      "cell_type": "code",
      "source": [
        "print(\"Pearson(X, Y) : \", pearsonr(x, y)[0])\n",
        "print(\"Spearman(X, Y) : \", spearmanr(x, y)[0])\n",
        "print()\n",
        "print(\"Pearson(X, Z) : \", pearsonr(x, z)[0])\n",
        "print(\"Spearman(X, Z) : \", spearmanr(x, z)[0])\n",
        "print()\n",
        "print(\"Pearson(Y, Z) : \", pearsonr(y, z)[0])\n",
        "print(\"Spearman(Y, Z) : \", spearmanr(y, z)[0])\n",
        "print()"
      ],
      "metadata": {
        "colab": {
          "base_uri": "https://localhost:8080/"
        },
        "id": "k10XII8Z8Vra",
        "outputId": "adb5cfde-1a65-4f64-e63e-bb8b8308438d"
      },
      "execution_count": null,
      "outputs": [
        {
          "output_type": "stream",
          "name": "stdout",
          "text": [
            "Pearson(X, Y) :  0.7358044176134383\n",
            "Spearman(X, Y) :  0.748022802280228\n",
            "\n",
            "Pearson(X, Z) :  -0.7178597495654822\n",
            "Spearman(X, Z) :  -0.7584398439843983\n",
            "\n",
            "Pearson(Y, Z) :  -0.45925325170753545\n",
            "Spearman(Y, Z) :  -0.5695169516951696\n",
            "\n"
          ]
        }
      ]
    },
    {
      "cell_type": "code",
      "source": [],
      "metadata": {
        "id": "n9RDuy6bBGBF"
      },
      "execution_count": null,
      "outputs": []
    },
    {
      "cell_type": "markdown",
      "source": [
        "## Hypothesis Testing"
      ],
      "metadata": {
        "id": "R_BIGmnpq6Nx"
      }
    },
    {
      "cell_type": "markdown",
      "source": [
        "### T-Test"
      ],
      "metadata": {
        "id": "7aakw7DjrBVW"
      }
    },
    {
      "cell_type": "code",
      "source": [
        "import numpy as np"
      ],
      "metadata": {
        "id": "q-1A_LGkq9Ye"
      },
      "execution_count": 1,
      "outputs": []
    },
    {
      "cell_type": "code",
      "source": [
        "np.random.seed(65535)\n",
        "a = np.random.normal(85, 6, 50).astype(\"int32\")\n",
        "a[np.where(a > 100)] = 100\n",
        "b = np.random.normal(82, 7, 50).astype(\"int32\")\n",
        "b[np.where(b > 100)] = 100"
      ],
      "metadata": {
        "id": "Elg4QgzKrRgi"
      },
      "execution_count": 2,
      "outputs": []
    },
    {
      "cell_type": "code",
      "source": [
        "from scipy.stats import ttest_ind\n",
        "t, p = ttest_ind(a, b, equal_var=False)\n",
        "print(\"(t=%0.5f, p=%0.5f)\" % (t, p))"
      ],
      "metadata": {
        "colab": {
          "base_uri": "https://localhost:8080/"
        },
        "id": "8DyPmvGesGQh",
        "outputId": "bc93c922-a7f9-4c5b-e9e3-b5400a790ce1"
      },
      "execution_count": 3,
      "outputs": [
        {
          "output_type": "stream",
          "name": "stdout",
          "text": [
            "(t=2.40234, p=0.01852)\n"
          ]
        }
      ]
    },
    {
      "cell_type": "code",
      "source": [
        "print(len(a), len(b))"
      ],
      "metadata": {
        "colab": {
          "base_uri": "https://localhost:8080/"
        },
        "id": "PTkiXmzJvM7X",
        "outputId": "1e39d916-52a9-465f-afe9-2bdb1996a090"
      },
      "execution_count": 4,
      "outputs": [
        {
          "output_type": "stream",
          "name": "stdout",
          "text": [
            "50 50\n"
          ]
        }
      ]
    },
    {
      "cell_type": "code",
      "source": [
        "np.std?"
      ],
      "metadata": {
        "id": "zo2uGZvovwSP"
      },
      "execution_count": 5,
      "outputs": []
    },
    {
      "cell_type": "code",
      "source": [
        "from scipy import stats\n",
        "def CI(a, b, alpha=0.05):\n",
        "  n1, n2 = len(a), len(b)\n",
        "  s1, s2 = np.std(a, ddof=1)**2, np.std(b, ddof=1)**2\n",
        "  df = (s1/n1 + s2/n2)**2 / (((s1/n1)**2/(n1-1)) + ((s2/n2)**2/(n2-1)))\n",
        "  tc = stats.t.ppf(1-alpha/2, df)\n",
        "  lo = (a.mean() - b.mean()) - (tc*np.sqrt(s1/n1 + s2/n2))\n",
        "  hi = (a.mean() - b.mean()) + (tc*np.sqrt(s1/n1 + s2/n2))\n",
        "  return lo, hi"
      ],
      "metadata": {
        "id": "7QrjlMOruozs"
      },
      "execution_count": 8,
      "outputs": []
    },
    {
      "cell_type": "code",
      "source": [
        "CI(a, b)"
      ],
      "metadata": {
        "colab": {
          "base_uri": "https://localhost:8080/"
        },
        "id": "ju2i_8-qyQhz",
        "outputId": "7c90819a-b3cd-4b70-8466-7bd4acc9d4da"
      },
      "execution_count": 9,
      "outputs": [
        {
          "output_type": "execute_result",
          "data": {
            "text/plain": [
              "(0.5610468504169024, 5.958953149583108)"
            ]
          },
          "metadata": {},
          "execution_count": 9
        }
      ]
    },
    {
      "cell_type": "code",
      "source": [
        "def Cohen_d(a, b):\n",
        "  s1 = np.std(a, ddof=1)**2\n",
        "  s2 = np.std(b, ddof=1)**2\n",
        "  return (a.mean() - b.mean()) / np.sqrt(0.5*(s1+s2))"
      ],
      "metadata": {
        "id": "uyjjynh5yf_D"
      },
      "execution_count": 10,
      "outputs": []
    },
    {
      "cell_type": "code",
      "source": [
        "Cohen_d(a, b)"
      ],
      "metadata": {
        "colab": {
          "base_uri": "https://localhost:8080/"
        },
        "id": "C8kiqQ10zD6f",
        "outputId": "049e813f-224d-44f6-a840-1b3abefa5b6a"
      },
      "execution_count": 11,
      "outputs": [
        {
          "output_type": "execute_result",
          "data": {
            "text/plain": [
              "0.4804679038638176"
            ]
          },
          "metadata": {},
          "execution_count": 11
        }
      ]
    },
    {
      "cell_type": "code",
      "source": [
        "!pip install scipy"
      ],
      "metadata": {
        "colab": {
          "base_uri": "https://localhost:8080/"
        },
        "id": "QYRCSCmf0CCI",
        "outputId": "ac2e0759-8786-486a-ab22-60cf900fdb36"
      },
      "execution_count": 14,
      "outputs": [
        {
          "output_type": "stream",
          "name": "stdout",
          "text": [
            "Requirement already satisfied: scipy in /usr/local/lib/python3.10/dist-packages (1.11.4)\n",
            "Requirement already satisfied: numpy<1.28.0,>=1.21.6 in /usr/local/lib/python3.10/dist-packages (from scipy) (1.25.2)\n"
          ]
        }
      ]
    },
    {
      "cell_type": "markdown",
      "source": [
        "### The Mann-Whitney U Test"
      ],
      "metadata": {
        "id": "gFSAqZKdzOeB"
      }
    },
    {
      "source": [
        "from scipy.stats import mannwhitneyu"
      ],
      "cell_type": "code",
      "metadata": {
        "id": "GCew39gk0IFU"
      },
      "execution_count": 15,
      "outputs": []
    },
    {
      "cell_type": "code",
      "source": [
        "\n",
        "u, p = mannwhitneyu(a, b)\n",
        "print(\"(U=%0.5f, p=%0.5f)\" % (u, p))"
      ],
      "metadata": {
        "colab": {
          "base_uri": "https://localhost:8080/"
        },
        "id": "yJgoiT1kzFxS",
        "outputId": "a5a05140-87ba-4a1e-9d6d-18cf7b1f5ea5"
      },
      "execution_count": 16,
      "outputs": [
        {
          "output_type": "stream",
          "name": "stdout",
          "text": [
            "(U=1503.00000, p=0.08117)\n"
          ]
        }
      ]
    },
    {
      "cell_type": "code",
      "source": [],
      "metadata": {
        "id": "PRrRBxaWzxae"
      },
      "execution_count": null,
      "outputs": []
    }
  ]
}